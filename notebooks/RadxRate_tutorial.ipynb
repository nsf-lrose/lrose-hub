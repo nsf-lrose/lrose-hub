{
 "cells": [
  {
   "cell_type": "markdown",
   "id": "de6e774d-3552-4954-97b3-b5ebaf9e5c26",
   "metadata": {},
   "source": [
    "# RadxRate Tutorial\n",
    "\n",
    "---\n",
    "\n",
    "This interactive tutorial takes you through the steps of how to run RadxRate. RadxRate builds upon the capabilities of RadxKdp and RadxPid by calculating hourly rain rates at each radar gate depending on the local particle identification (PID) category and polarimetric values. It shares parameters files with those two applications. RadxRate will calculate the rain rates with either raw or attenuated-corrected data; the user can choose the option they prefer. The three-dimensional rain rates produced by RadxRate can be then used in RadxQpe to estimate the rain rate closest to the surface, after accounting for beam blockage, noise, and clutter.\n",
    "\n",
    "A visual comparison of RadxKdp, RadxPid, and RadxRate and their parameter files is shown below. Each application has its own main parameter file that defines variable names and specifies the paths to the parameter file for each relevant sub-process. For example, the main RadxRate parameter file links to the specific differential phase (KDP), PID, and rate parameter files (the PID parameter file links to the PID thresholds file).\n",
    "\n",
    "<div>\n",
    "<img src=\"../images/radx_echo_description.png\" width=\"600\"/>\n",
    "</div>\n",
    "\n",
    "---\n",
    "\n",
    "*Note: this tutorial is just one type of workflow to use RadxRate. There are several other workflows!*\n",
    "\n",
    "---\n",
    "\n",
    "## Tutorial Overview\n",
    "### 1. Setup\n",
    "\n",
    "#### Directory organization\n",
    "\n",
    "The structure of the echo tutorial on JupyterHub is shown in the diagram below. The parent or base directory is \"lrose-hub\" and contains all of the notebooks, parameter files, and data for the workshop.\n",
    "\n",
    "<div>\n",
    "<img src=\"../images/RadxRate_structure.png\" width=\"500\"/>\n",
    "</div>\n",
    "\n",
    "#### Download raw data and parameter files\n",
    "\n",
    "Raw data files that are provided:\n",
    "* gfsanl_4_2018091418.g2.tar\n",
    "* KMHX20180914_191822_V06.ar2v\n",
    "\n",
    "Parameter files (included in this tutorial):\n",
    "\n",
    "*Note: The parameter files have already been modified to run straight out of the box.* \n",
    "* Grib2toMdv params\n",
    "* Mdv2SoundingSpdb params\n",
    "* RadxRate main params\n",
    "* RadxRate Kdp_specific params\n",
    "* RadxRate Pid_specific params\n",
    "* RadxRate Rate_specific params\n",
    "* Pid Thresholds params (S-band, simultaneous transmit)\n",
    "\n",
    "### 2. Prepare data for analysis\n",
    "\n",
    "* Convert Nexrad level 2 to CfRadial\n",
    "    * RadxConvert\n",
    "* Retrieve sounding from GFS analysis, which is needed to estimate the melting level in the PID analysis\n",
    "    * Grib2toMdv, Mdv2SoundingSpdb\n",
    "\n",
    "### 3. Run RadxRate\n",
    "\n",
    "* Calculate KDP, run PID algorithm, estimate three-dimensional precipitation rates\n",
    "    * RadxRate\n",
    "\n",
    "### 4. Plot PID and Rate\n",
    "\n",
    "* Visualize results of RadxRate analysis using [Py-ART](https://arm-doe.github.io/pyart/)\n",
    "\n",
    "---"
   ]
  },
  {
   "cell_type": "markdown",
   "id": "e720e2e5-57b5-4879-9d7a-4eb84eab8932",
   "metadata": {},
   "source": [
    "For this tutorial, the parameter files have already been created and populated with the appropriate parameters. However, the default parameter files can be saved using the following commands."
   ]
  },
  {
   "cell_type": "code",
   "execution_count": null,
   "id": "683a61ea-5c97-4552-a6a6-751f3274c88c",
   "metadata": {},
   "outputs": [],
   "source": [
    "# # create original parameter files\n",
    "# !Grib2toMdv -print_params > /home/jovyan/ams2023/params/user/Grib2toMdv_params_user\n",
    "# !Mdv2SoundingSpdb -print_params > /home/jovyan/ams2023/params/user/Mdv2SoundingSpdb_params_user\n",
    "# !RadxRate -print_params > /home/jovyan/ams2023/params/user/RadxRate_main_params_user\n",
    "# !RadxRate -print_params_kdp > /home/jovyan/ams2023/params/user/RadxRate_Kdp_params_user\n",
    "# !RadxRate -print_params_pid > /home/jovyan/ams2023/params/user/RadxRate_Pid_params_user\n",
    "# !RadxRate -print_params_rate > /home/jovyan/ams2023/params/user/RadxRate_rate_params_user\n",
    "\n",
    "# to create new parameter files that use parameters from another file\n",
    "# !RadxRate -params /path/to/params -print_params > /home/jovyan/ams2023/params/user/RadxRate_main_params_user\n",
    "\n",
    "# for command line options\n",
    "# !RadxRate -h\n"
   ]
  },
  {
   "cell_type": "markdown",
   "id": "5ebfa76f",
   "metadata": {},
   "source": [
    "# 1. Setup\n",
    "## Environment and packages"
   ]
  },
  {
   "cell_type": "markdown",
   "id": "edc99a35",
   "metadata": {},
   "source": [
    "First, we import the required python packages to run this notebook. Most of the LROSE processing can be done with the os package and shell commands. At the end we will plot the output using Py-ART."
   ]
  },
  {
   "cell_type": "code",
   "execution_count": null,
   "id": "9118e997-cfa3-429e-98db-7c413388d008",
   "metadata": {},
   "outputs": [],
   "source": [
    "import os\n",
    "import pyart\n",
    "import matplotlib.pyplot as plt\n",
    "import matplotlib.colors as colors\n",
    "import numpy as np"
   ]
  },
  {
   "cell_type": "markdown",
   "id": "cd14072d",
   "metadata": {},
   "source": [
    "Next, we set up the directory structure to simplify our commands. If you are running this notebook on the LROSE Gateway JupyterHub, these paths go to the parent directory containing all the workshop resources and the LROSE binaries. \n",
    "\n",
    "**If you have downloaded this notebook, please modify BASE_DIR and RAW_DIR to work on your personal machine. Note that raw data is currently provided through the Gateway. We're working to set up more permanent storage for offline users - in the meantime, contact the Gateway team to request the data.**\n",
    "\n",
    "* BASE_DIR: the base directory containing the directories for the notebooks, data, parameter files\n",
    "* RAW_DIR: the directory containing the raw data used in tutorials\n",
    "* RADAR_NAME: the name of the radar used in this tutorial"
   ]
  },
  {
   "cell_type": "code",
   "execution_count": null,
   "id": "3cf8695a-059b-499b-983f-1827c1de6304",
   "metadata": {},
   "outputs": [],
   "source": [
    "os.environ['BASE_DIR'] = '/home/jovyan/lrose-hub'\n",
    "os.environ['RAW_DIR'] = '/home/jovyan/share/raw'\n",
    "os.environ['RADAR_NAME'] = 'KMHX'\n",
    "base_dir = os.environ['BASE_DIR']\n",
    "radar_name = os.environ['RADAR_NAME']\n",
    "!echo \"Base directory: \"$BASE_DIR\n",
    "!echo \"Radar name: \"$RADAR_NAME"
   ]
  },
  {
   "cell_type": "markdown",
   "id": "cfc53496-a785-4816-82ac-e7e379d25a50",
   "metadata": {},
   "source": [
    "## Set up directories\n",
    "\n",
    "We need to set up the required data directories. The raw radar data and GFS analysis is located within the share directory on the JupyterHub. We delete any existing files and directories specific to this tutorial to ensure we're starting with clean directories and files."
   ]
  },
  {
   "cell_type": "code",
   "execution_count": null,
   "id": "b1f22ecf-9c3b-4ae1-8e5a-aa8c4f954d2c",
   "metadata": {},
   "outputs": [],
   "source": [
    "## make a directory for all the data files in the echo tutorial (raw and analysis)\n",
    "!rm -rf ${BASE_DIR}/data/echo\n",
    "!mkdir -p ${BASE_DIR}/data/echo\n",
    "\n",
    "## make subdirectory within data for the raw data\n",
    "!rm -rf ${BASE_DIR}/data/echo/raw\n",
    "!mkdir ${BASE_DIR}/data/echo/raw\n",
    "\n",
    "## make subdirectory within data for sounding data\n",
    "!rm -rf ${BASE_DIR}/data/echo/sounding\n",
    "!mkdir ${BASE_DIR}/data/echo/sounding\n"
   ]
  },
  {
   "cell_type": "markdown",
   "id": "edc30bff-24e7-470e-8831-4b51b5ff92cb",
   "metadata": {},
   "source": [
    "We can examine the raw radar file using RadxPrint. RadxPrint can read CfRadial and other raw radar formats supported by LROSE that can later be converted by RadxConvert. It will also provide information on radar variables and sweep information. For example, we can look at the variables using the following command, piping the output into the head command."
   ]
  },
  {
   "cell_type": "code",
   "execution_count": null,
   "id": "d8a3484f-bcc2-40ec-afab-899b3a28b807",
   "metadata": {
    "scrolled": true,
    "tags": []
   },
   "outputs": [],
   "source": [
    "# print out the first 50 lines of RadxPrint output\n",
    "!RadxPrint -f ${RAW_DIR}/echo/KMHX20180914_191822_V06.ar2v | head -50\n"
   ]
  },
  {
   "cell_type": "markdown",
   "id": "b24e2f0f-fc42-4845-a5dd-50040f5b8c1e",
   "metadata": {
    "tags": []
   },
   "source": [
    "# 2. Prepare data for analysis\n",
    "## Convert Nexrad Level II to CfRadial files"
   ]
  },
  {
   "cell_type": "markdown",
   "id": "6c30b00c",
   "metadata": {},
   "source": [
    "Now that we have the raw radar data, we convert it into CfRadial using RadxConvert so that the other applications can read the data. Note that in the vast majority of cases, RadxConvert can be run without a parameter file, including in this case. However, there are instances where a parameter file is useful.\n",
    "\n",
    "Here, the *-f* flag provides the path to the raw radar file and the *-outdir* flag tells RadxConvert where the CfRadial file will be written. "
   ]
  },
  {
   "cell_type": "code",
   "execution_count": null,
   "id": "2bd3f5af-be73-4c9a-82f6-e41dc7f4f13e",
   "metadata": {
    "tags": []
   },
   "outputs": [],
   "source": [
    "!rm -rf ${BASE_DIR}/data/echo/CfRadial\n",
    "!mkdir ${BASE_DIR}/data/echo/CfRadial\n",
    "!RadxConvert -f ${RAW_DIR}/echo/KMHX20180914_191822_V06.ar2v -outdir ${BASE_DIR}/data/echo/CfRadial\n"
   ]
  },
  {
   "cell_type": "markdown",
   "id": "7e968a98-ca46-4bd6-b8a7-78ee98c25d06",
   "metadata": {},
   "source": [
    "## Untar GFS analysis grib2 files for sounding\n",
    "We use the GFS analysis to obtain a sounding for the PID algorithm. We need to untar the files, convert to a gridded file format (Grib2toMdv), then extract the sounding and store in in the Spdb format (Mdv2SoundingSpdb)."
   ]
  },
  {
   "cell_type": "code",
   "execution_count": null,
   "id": "068b4e8d-c01f-433b-80d9-f6b665417509",
   "metadata": {},
   "outputs": [],
   "source": [
    "# Grib2Mdv --> Mdv2SoundingSpdb\n",
    "\n",
    "# make directory for grib files in data/sounding\n",
    "!rm -rf ${BASE_DIR}/data/echo/sounding/grib\n",
    "!mkdir ${BASE_DIR}/data/echo/sounding/grib\n",
    "\n",
    "# extract file from tape archive (tar) and place in the grib directory\n",
    "!tar -xvf ${RAW_DIR}/echo/gfsanl_4_2018091418.g2.tar -C ${BASE_DIR}/data/echo/sounding/grib/\n"
   ]
  },
  {
   "cell_type": "markdown",
   "id": "29782a1b-1291-4cfb-880b-541d6d27a873",
   "metadata": {},
   "source": [
    "## Convert from Grib2 (model analysis) to MDV\n",
    "\n",
    "The program to retrieve the model sounding requires a gridded file format called MDV. Grib2toMdv converts the GFS analysis from GRIB to MDV. Grib2toMdv needs to know where to write the gridded data files, the name of the fields (the defaults are often sufficient), how the grid should be remapped (e.g., map projection), the size of the new grid, and the vertical levels.\n",
    "\n",
    "**Important Grib2toMdv Parameters**\n",
    "| Parameter | Line # | Description |\n",
    "| --- | --- | --- |\n",
    "|input_dir| 61 |Optional if directory is specified in command line.|\n",
    "|write_non_forecast| 330 |Specify if output should be written in a non-forecast directory structure (*TRUE* or *FALSE*, usually *TRUE*).|\n",
    "|non_forecast_mdv_url| 338 |Absolute path where MDV files are written.|\n",
    "|output_fields| 518 |List of output fields, where param matches GRIB files and mdv_name matches Mdv2SoundingSpdb parameter file (defaults are usually sufficient).|\n",
    "|remap_output| 672 |Specify whether to remap the output (*TRUE* or *FALSE*, usually *TRUE*).|\n",
    "|out_projection_info| 708 |Set map projection type and radar location if necessary.|\n",
    "|out_grid_info| 740 |User-specified domain surrounding the region of interest and radar(s). Parameters: nx/ny - number of points, minx/miny - bottom left lat/lon (deg), dx/dy - delta lon/lat (deg).|\n",
    "|height_levels| 818 |User-specified height levels, optional.|\n",
    "\n",
    "    \n",
    "Here, the *-params* flag directs Grib2toMdv to the parameter file and *-f* points to the raw GRIB file path. This can also be specified in the parameter *input_dir*.\n"
   ]
  },
  {
   "cell_type": "code",
   "execution_count": null,
   "id": "edb42f75-af18-4296-a518-2842d6e753d9",
   "metadata": {
    "scrolled": true,
    "tags": []
   },
   "outputs": [],
   "source": [
    "# Grib2 -> MDV\n",
    "!Grib2toMdv -params ${BASE_DIR}/params/echo/Grib2toMdv_params -f ${BASE_DIR}/data/echo/sounding/grib/*.grb2\n"
   ]
  },
  {
   "cell_type": "markdown",
   "id": "617a84c8-f2db-46da-b26d-1da2e90980d3",
   "metadata": {},
   "source": [
    "## Convert from MDV (gridded data) to SoundingSpdb\n",
    "\n",
    "Now that we have model analysis in a small grid around the radar(s), we can extract the sounding from the radar location and store it in a database format (Spdb). Mdv2SoundingSpdb needs the variable names in the MDV files, the geographic location of the radars, and the path where the Spdb files will be writen.\n",
    "\n",
    "**Mdv2SoundingSpdb**\n",
    "| Parameter | Line # | Description |\n",
    "| --- | --- | --- |\n",
    "|temp_field_name| 125 |Temperature variable name.|\n",
    "|rh_field_name| 145 |RH variable name.|\n",
    "|u_wind_field_name| 173 |U wind variable name.|\n",
    "|v_wind_field_name| 183 |V wind variable name.|\n",
    "|pressure_field_name| 205 |Pressure variable name.|\n",
    "|height_field_name| 217 |Height variable name.|\n",
    "|station_locations| 247 |Geographic location of the radar(s): radar lat, lon, altitude.|\n",
    "|ouput_url| 268 |Absolute path where Spdb files are written.|\n"
   ]
  },
  {
   "cell_type": "markdown",
   "id": "ddc10c2d-428c-4ab0-a414-01f527f9168e",
   "metadata": {},
   "source": [
    "We have populated the radar information in the parameter files. The commands below are some ways to get the station location information for the files in the tutorial. "
   ]
  },
  {
   "cell_type": "code",
   "execution_count": null,
   "id": "f43bb63d-1fb1-441a-866f-0398acd084c9",
   "metadata": {},
   "outputs": [],
   "source": [
    "# !RadxPrint -f ${BASE_DIR}/data/echo/CfRadial/20180914/*.nc | head -30\n",
    "# !RadxPrint -f ${BASE_DIR}/data/echo/CfRadial/20180914/*.nc | grep -i latitudeDeg | sed 's/^.*: //'\n",
    "# !RadxPrint -f ${BASE_DIR}/data/echo/CfRadial/20180914/*.nc | grep -i longitudeDeg | sed 's/^.*: //'\n",
    "# !RadxPrint -f ${BASE_DIR}/data/echo/CfRadial/20180914/*.nc | grep -i altitudeKm | sed 's/^.*: //'\n",
    "# !RadxPrint -f ${BASE_DIR}/data/echo/CfRadial/20180914/*.nc | grep -i sensorHtAglM | sed 's/^.*: //'\n"
   ]
  },
  {
   "cell_type": "markdown",
   "id": "be9c1d29-7115-4b28-9eda-78de606fe51d",
   "metadata": {},
   "source": [
    "Here, the *-params* flag directs Mdv2SoundingSpdb to the parameter file and *-f* points to the raw GRIB file."
   ]
  },
  {
   "cell_type": "code",
   "execution_count": null,
   "id": "86fc5b85-2fdb-499a-b4e7-9478af753eba",
   "metadata": {
    "scrolled": true,
    "tags": []
   },
   "outputs": [],
   "source": [
    "# convert Mdv to Spdb\n",
    "!Mdv2SoundingSpdb -params ${BASE_DIR}/params/echo/Mdv2SoundingSpdb_params -f ${BASE_DIR}/data/echo/sounding/mdv/20180914/*.mdv*\n",
    "!Mdv2SoundingSpdb -params ${BASE_DIR}/params/echo/Mdv2SoundingSpdb_params -f ${BASE_DIR}/data/echo/sounding/mdv/20180915/*.mdv*\n"
   ]
  },
  {
   "cell_type": "markdown",
   "id": "8e153385-8a0b-460e-9c54-b1552b834336",
   "metadata": {},
   "source": [
    "We can check the sounding quality using SpdbQuery, which prints out a summary of the sounding data. Here, *-url* indicates the directory where the Spdb files are located and *-start* and *-end* provide the date range over which we want to inspect the sounding information. "
   ]
  },
  {
   "cell_type": "code",
   "execution_count": null,
   "id": "76623098-8926-43ac-b1f0-22c066f69f03",
   "metadata": {
    "scrolled": true,
    "tags": []
   },
   "outputs": [],
   "source": [
    "!SpdbQuery -url ${BASE_DIR}/data/echo/sounding/spdb -start \"2018 09 14 00 00 00\" -end \" 2018 09 14 23 00 00\"\n"
   ]
  },
  {
   "cell_type": "markdown",
   "id": "a0ca1ff6-2fc1-4aab-9f56-134b74eccb6c",
   "metadata": {},
   "source": [
    "# 3. Setup steps complete, run RadxRate"
   ]
  },
  {
   "cell_type": "markdown",
   "id": "a0acd67e",
   "metadata": {},
   "source": [
    "With the radar data and point sounding, we can now run RadxRate. First, KDP is calculated. Then polarimetric radar data, calculated KDP, and sounding data are used to run PID, which determines the dominant hydrometeor at each range gate. Finally, the 3D field of hourly rain rates are calculated from polarimetric radar and PID data.\n",
    "\n",
    "Running RadxRate requires one main parameter file on the command line. That parameter file contains  links to the KDP, PID, and rain rate coefficient parameter files. The RadxRate PID parameter file contains the link to the fuzzy logic PID thresholds file. Because there are so many parameters, we have provided them at the end of this notebook. Please refer to [this link](#RadxRad-parameters).\n",
    "\n",
    "RadxRate requires the field names in the input CfRadial file, whether SNR and LDR are available, the method for KDP calculation, how to calculate the PID, how to calculate the precipitation rates (e.g., equations and coefficients), whether to use attenuation-correction fields, the variables to be written, and whether to censor non-weather gates. \n",
    "\n",
    "Here, *-params* provides the link to the main RadxRate parameter file, *-f* provides the link to the files we want to process, and *-outdir* indicates where RadxRate should write the final files."
   ]
  },
  {
   "cell_type": "code",
   "execution_count": null,
   "id": "b916ddf3-4e02-4350-ab71-102d40c3105f",
   "metadata": {},
   "outputs": [],
   "source": [
    "!RadxRate -params ${BASE_DIR}/params/echo/RadxRate_main_params -f ${BASE_DIR}/data/echo/CfRadial/20180914/*.nc -outdir ${BASE_DIR}/data/echo/rate\n"
   ]
  },
  {
   "cell_type": "markdown",
   "id": "a5e6b9dd",
   "metadata": {},
   "source": [
    "# 4. Plot PID and rate for NEXRAD Morehead City radar (KMHX)"
   ]
  },
  {
   "cell_type": "markdown",
   "id": "ed3cd54b",
   "metadata": {},
   "source": [
    "To visualize the output in the notebook, we can use Py-ART. HawkEye is also great for visualizing data - a general parameter file can be found in the echo parameter files directory."
   ]
  },
  {
   "cell_type": "code",
   "execution_count": null,
   "id": "21f8399d",
   "metadata": {
    "scrolled": true,
    "tags": []
   },
   "outputs": [],
   "source": [
    "# Read CfRadial file into radar object\n",
    "inDir = base_dir+\"/data/echo/rate/20180914/\"\n",
    "file = \"cfrad.20180914_191822.077_to_20180914_192511.621_KMHX_SUR.nc\"\n",
    "rate_kmhx = pyart.io.read_cfradial(inDir+file)\n",
    "rate_kmhx.info('compact')\n"
   ]
  },
  {
   "cell_type": "markdown",
   "id": "3062b424",
   "metadata": {},
   "source": [
    "We can create a colormap for visualizing PID."
   ]
  },
  {
   "cell_type": "code",
   "execution_count": null,
   "id": "dd207f99",
   "metadata": {},
   "outputs": [],
   "source": [
    "pidmap = np.array([[0.12156862745098039, 0.46666666666666667, 0.70588235294117652, 1.0],\n",
    "              [0.68235294117647061, 0.7803921568627451, 0.90980392156862744, 1.0],\n",
    "              [0.59607843137254901, 0.87450980392156863, 0.54117647058823526, 1.0],\n",
    "              [0.45490196078431372, 0.7686274509803922, 0.46274509803921571, 1.0],\n",
    "              [0.17254901960784313, 0.62745098039215685, 0.17254901960784313, 1.0],\n",
    "              [0.83921568627450982, 0.15294117647058825, 0.15686274509803921, 1.0],\n",
    "              [1.0, 0.59607843137254901, 0.58823529411764708, 1.0],\n",
    "              [1.0, 0.49803921568627452, 0.054901960784313725, 1.0],\n",
    "              [1.0, 0.73333333333333328, 0.47058823529411764, 1.0],\n",
    "              [0.61960784313725492, 0.85490196078431369, 0.89803921568627454, 1.0],\n",
    "              [0.090196078431372548, 0.74509803921568629, 0.81176470588235294, 1.0],\n",
    "              [0.61176470588235299, 0.61960784313725492, 0.87058823529411766, 1.0],\n",
    "              [0.32156862745098042, 0.32941176470588235, 0.63921568627450975, 1.0],\n",
    "              [0.859375, 0.859375, 0.859375, 1.0],\n",
    "              [0.66015625, 0.66015625, 0.66015625, 1.0],\n",
    "              [0.41015625, 0.41015625, 0.41015625, 1.0],\n",
    "              [0.0, 0.0, 0.0, 1.0],],'f')\n",
    "my_cmap2 = colors.ListedColormap(pidmap, name='ncar_pid')\n"
   ]
  },
  {
   "cell_type": "code",
   "execution_count": null,
   "id": "81e490c2",
   "metadata": {},
   "outputs": [],
   "source": [
    "# Plot results of RadxRate\n",
    "\n",
    "displayRate = pyart.graph.RadarDisplay(rate_kmhx)\n",
    "figRate = plt.figure(1, (12, 10))\n",
    "\n",
    "# DBZ (input)\n",
    "\n",
    "axDbz = figRate.add_subplot(221)\n",
    "displayRate.plot_ppi('DBZ', 0, vmin=-32, vmax=64.,\n",
    "                    axislabels=(\"x(km)\", \"y(km)\"),\n",
    "                    colorbar_label=\"DBZ\")\n",
    "displayRate.plot_range_rings([50, 100, 150, 200, 250])\n",
    "displayRate.plot_cross_hair(250.)\n",
    "displayRate.set_limits(xlim=(-300,300),ylim=(-300,300))\n",
    "\n",
    "# KDP (computed)\n",
    "\n",
    "axKdp = figRate.add_subplot(222)\n",
    "displayRate.plot_ppi('KDP', 0, vmin=0, vmax=2.,\n",
    "    axislabels=(\"x(km)\", \"y(km)\"),\n",
    "    colorbar_label=\"KDP (deg/km)\",\n",
    "    cmap=\"nipy_spectral\")\n",
    "displayRate.plot_range_rings([50, 100, 150, 200, 250])\n",
    "displayRate.plot_cross_hair(250.)\n",
    "displayRate.set_limits(xlim=(-300,300),ylim=(-300,300))\n",
    "\n",
    "# RATE_HYBRID (computed)\n",
    "\n",
    "axHybrid = figRate.add_subplot(223)\n",
    "displayRate.plot_ppi('RATE_HYBRID', 0, vmin=0, vmax=50.,\n",
    "    axislabels=(\"x(km)\", \"y(km)\"),\n",
    "    colorbar_label=\"RATE_HYBRID(mm/hr)\",\n",
    "    cmap = \"pyart_RRate11\")\n",
    "displayRate.plot_range_rings([50, 100, 150, 200, 250])\n",
    "displayRate.plot_cross_hair(250.)\n",
    "displayRate.set_limits(xlim=(-300,300),ylim=(-300,300))\n",
    "\n",
    "# NCAR PID (computed)\n",
    "\n",
    "axPID = figRate.add_subplot(224)\n",
    "displayRate.plot_ppi('PID', 0, vmin=0.5, vmax = 17.5,\n",
    "    axislabels=(\"x(km)\", \"y(km)\"),\n",
    "    colorbar_label=\"PID\",\n",
    "    cmap = my_cmap2, mask_outside=True)\n",
    "displayRate.plot_range_rings([50, 100, 150, 200, 250])\n",
    "displayRate.plot_cross_hair(250.)\n",
    "displayRate.set_limits(xlim=(-300,300),ylim=(-300,300))\n",
    "\n",
    "# plot all 17 PID categories\n",
    "pid_cbar = displayRate.cbs[3]\n",
    "#pid_cbar.set_ticks([1,2,3,4,5,6,7,8,9,10,11,12,13])\n",
    "#pid_cbar.set_ticklabels(['cld-drops', 'drizzle', 'lt-rain', 'mod-rain', 'hvy-rain', 'hail', 'rain/hail', 'sm-hail', 'gr/rain', 'dry-snow', 'wet-snow', 'ice', 'irreg-ice'])\n",
    "pid_cbar.set_ticks([1,2,3,4,5,6,7,8,9,10,11,12,13,14,15,16,17])\n",
    "pid_cbar.set_ticklabels(['cld-drops', 'drizzle', 'lt-rain', 'mod-rain', 'hvy-rain', 'hail', 'rain/hail', 'sm-hail', 'gr/rain', 'dry-snow', 'wet-snow', 'ice', 'irreg-ice', 'slw', 'insects', '2nd-trip', 'clutter'])\n",
    "\n",
    "figRate.tight_layout()\n",
    "\n",
    "plt.show()\n"
   ]
  },
  {
   "cell_type": "markdown",
   "id": "20d64b8c",
   "metadata": {},
   "source": [
    "# 5. Extras"
   ]
  },
  {
   "cell_type": "markdown",
   "id": "354fcad6",
   "metadata": {},
   "source": [
    "<a id=’RadxRate-parameters’></a>\n",
    "## **RadxRate parameters**"
   ]
  },
  {
   "cell_type": "markdown",
   "id": "6327bc31",
   "metadata": {},
   "source": [
    "Below is a list of important RadxRate parameters. The line numbers are accurate as of Jan 2025 for the Colette release of LROSE. \n",
    "\n",
    "**RadxRate main parameters**\n",
    "| Parameter | Line # | Description |\n",
    "| --- | --- | --- |\n",
    "|input_dir| 98 |Path to input data, if not already specified on the command line.|\n",
    "|SNR_available| 160 |Specify if SNR is available.|\n",
    "|SNR_field_name| 170 |SNR variable name.|\n",
    "|DBZ_field_name| 192 |DBZ variable name.|\n",
    "|ZDR_field_name| 200 |ZDR variable name.|\n",
    "|PHIDP_field_name| 208 |PHIDP variable name.|\n",
    "|RHOHV_field_name| 216 |RHOHV variable name.|\n",
    "|LDR_available| 224 |Specify if LDR is available.|\n",
    "|LDR_field_name| 232 |LDR variable name.|\n",
    "|kdp_params_file_path| 270 |Path to Kdp-specific parameter file.|\n",
    "|pid_params_file_path| 287 |Path to PID-specific parameter file.|\n",
    "|PID_use_attenuation_corrected_fields| 311 |Specify whether to use attenuation-corrected DBZ and ZDR in PID.|\n",
    "|RATE_params_file_path| 328 |Path to precipitation rate coefficients parameter file.|\n",
    "|RATE_use_attenuation_corrected_fields| 352 |Specify whether to use attenuation-corrected DBZ and ZDR in precipitation rate calculation.|\n",
    "|output_dir| 757 |Path where output files are written, if not already specified on command line with -outdir.|\n",
    "    \n",
    "**RadxRate Kdp_specific parameters**\n",
    "| Parameter | Line # | Description |\n",
    "| --- | --- | --- |\n",
    "|KDP_fir_filter_len| 63 |Filter length used for KDP calculation.|\n",
    "|KDP_psob_method| 108 |Specify method to remove phase shift on backscatter.|\n",
    "          \n",
    "**RadxRate Pid_specific parameters**\n",
    "| Parameter | Line # | Description |\n",
    "| --- | --- | --- |\n",
    "|PID_thresholds_file_path| 25 |Path to fuzzy logic PID thresholds file.|\n",
    "|PID_use_soundings_from_spdb| 259 |Specify whether soundings are in Spdb format, otherwise sounding found in fuzzy logic file.|\n",
    "|PID_sounding_spdb_url| 267 |Path to Spdb soundings.|\n",
    "|PID_sounding_location_name| 289 |Name of sounding location.|\n",
    "          \n",
    "**RadxRate Rate_specific parameters**\n",
    "| Parameter | Line # | Description |\n",
    "| --- | --- | --- |\n",
    "|RATE_zh_aa| 136 |R(Z) coefficients.|\n",
    "|RATE_zh_bb| 144 |R(Z) coefficients.|\n",
    "|RATE_zh_aa_snow| 160 |R(Z) coefficients in snow.|\n",
    "|RATE_zh_bb_snow| 168 |R(Z) coefficients in snow.|\n",
    "|RATE_zzdr_aa| 184 |R(Z, ZDR) coefficients.|\n",
    "|RATE_zzdr_bb| 192 |R(Z, ZDR) coefficients.|\n",
    "|RATE_zzdr_cc| 200 |R(Z, ZDR) coefficients.|\n",
    "|RATE_kdp_aa| 216 |R(KDP) coefficients.|\n",
    "|RATE_kdp_bb| 224 |R(KDP) coefficients.|\n",
    "|RATE_kdpzdr_aa| 241 |R(KDP, ZDR) coefficients.|\n",
    "|RATE_kdpzdr_bb| 249 |R(KDP, ZDR) coefficients.|\n",
    "|RATE_kdpzdr_cc| 257 |R(KDP, ZDR) coefficients.|\n",
    "      \n",
    "**Pid Thresholds parameters**\n",
    "\n",
    "The thresholds files are radar dependent. In this notebook, NEXRAD is S-band simultaneous h/v transmission and recieving\n",
    "\n",
    "Other parameter files can be found [here](http://wiki.lrose.net/index.php/RadxPid#PID_thresholds_file).\n"
   ]
  },
  {
   "cell_type": "code",
   "execution_count": null,
   "id": "cf8166c0",
   "metadata": {},
   "outputs": [],
   "source": []
  }
 ],
 "metadata": {
  "kernelspec": {
   "display_name": "Python [conda env:lrosehub]",
   "language": "python",
   "name": "conda-env-lrosehub-py"
  },
  "language_info": {
   "codemirror_mode": {
    "name": "ipython",
    "version": 3
   },
   "file_extension": ".py",
   "mimetype": "text/x-python",
   "name": "python",
   "nbconvert_exporter": "python",
   "pygments_lexer": "ipython3",
   "version": "3.12.8"
  }
 },
 "nbformat": 4,
 "nbformat_minor": 5
}
