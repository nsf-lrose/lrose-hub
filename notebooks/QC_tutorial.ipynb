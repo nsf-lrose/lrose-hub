{
 "cells": [
  {
   "cell_type": "markdown",
   "id": "de6e774d-3552-4954-97b3-b5ebaf9e5c26",
   "metadata": {},
   "source": [
    "# QC Tutorial\n",
    "\n",
    "---\n",
    "\n",
    "This interactive tutorial will show you a couple ways to quality control data using LROSE using RadxPid/RadxRate and RadxQc. RadxPid/RadxRate allows users to censor non-weather echoes using the National Center for Atmospheric Research (NCAR) particle identification (PID) algorithm and RadxQc. \n",
    "\n",
    "RadxPid is one of three 'Echo' applications in LROSE. A visual comparison of RadxPid with RadxKdp and RadxRate and their parameter files is shown below. Each application has its own main parameter file that defines variable names and specifies the paths to the parameter file for each relevant sub-process. For example, the main RadxPid parameter file links to the specific differential phase (KDP) and PID parameter files (the PID parameter file links to the PID thresholds file).\n",
    "\n",
    "<div>\n",
    "<img src=\"../images/radx_echo_description.png\" width=\"600\"/>\n",
    "</div>\n",
    "\n",
    "---\n",
    "\n",
    "*Note: this tutorial shows two examples of how to quality control radar data. Other workflows exist!*\n",
    "\n",
    "---\n",
    "\n",
    "## Tutorial Overview\n",
    "### 1. Setup\n",
    "\n",
    "#### Directory organization\n",
    "\n",
    "The structure of the QC tutorial on JupyterHub is shown in the diagram below. The parent or base directory is \"lrose-hub\" and contains all of the notebooks, parameter files, and data for the workshop.\n",
    "\n",
    "<div>\n",
    "<img src=\"../images/qc_structure.png\" width=\"500\"/>\n",
    "</div>\n",
    "\n",
    "#### Raw data and parameter files\n",
    "\n",
    "CfRadial data file that will be provided:\n",
    "* cfrad.20210815_032510.928_to_20210815_032947.216_CSU-CHILL_SUR.nc\n",
    "\n",
    "Parameter files (included in this tutorial):\n",
    "\n",
    "*Note: The parameter files have already been modified to run straight out of the box.* \n",
    "* RadxPid main params\n",
    "* RadxRate main params\n",
    "* RadxPid Kdp_specific params\n",
    "* RadxPid Pid_specific params\n",
    "* Pid Thresholds params (S-band, simultaneous transmit)\n",
    "* RadxQc params\n",
    "\n",
    "### 2. Run RadxPid/RadxRate - censor non-weather gates\n",
    "\n",
    "* Run PID algorithm to identify gates which do not have weather\n",
    "    * RadxPid/RadxRate\n",
    "\n",
    "### 3. Run RadxQc - censor based on thresholds\n",
    "\n",
    "* Censor gates where RHOHV and NCP don't meet thresholds\n",
    "    * RadxQc\n",
    "\n",
    "### 4. Plot PID and Rate\n",
    "\n",
    "* Visualize results of RadxPid/RadxRate and RadxQc analysis using Py-ART\n",
    "\n",
    "---"
   ]
  },
  {
   "cell_type": "markdown",
   "id": "e720e2e5-57b5-4879-9d7a-4eb84eab8932",
   "metadata": {},
   "source": [
    "For this tutorial, the parameter files have already been created and populated with the appropriate parameters. However, the default parameter files can be saved using the following commands."
   ]
  },
  {
   "cell_type": "code",
   "execution_count": null,
   "id": "683a61ea-5c97-4552-a6a6-751f3274c88c",
   "metadata": {},
   "outputs": [],
   "source": [
    "# # create original parameter files\n",
    "# !RadxPid -print_params > /home/jovyan/ams2023/params/user/RadxPid_main_params_user\n",
    "# !RadxRate -print_params > /home/jovyan/ams2023/params/user/RadxRate_main_params_user\n",
    "# !RadxPid -print_params_kdp > /home/jovyan/ams2023/params/user/RadxPid_Kdp_params_user\n",
    "# !RadxPid -print_params_pid > /home/jovyan/ams2023/params/user/RadxPid_Pid_params_user\n",
    "# !RadxQc -print_params > /home/jovyan/ams2023/params/user/RadxQc_params_user\n",
    "\n",
    "# to create new parameter files that use parameters from another file\n",
    "# !RadxPid -params /path/to/params -print_params > /home/jovyan/ams2023/params/user/RadxPid_main_params_user\n",
    "\n",
    "# for command line options\n",
    "# !RadxPid -h\n"
   ]
  },
  {
   "cell_type": "markdown",
   "id": "5ebfa76f",
   "metadata": {},
   "source": [
    "# 1. Setup\n",
    "## Environment and packages"
   ]
  },
  {
   "cell_type": "markdown",
   "id": "edc99a35",
   "metadata": {},
   "source": [
    "First, we import the required python packages to run this notebook. Most of the LROSE processing can be done with the os package and shell commands. At the end we will plot the output using Py-ART."
   ]
  },
  {
   "cell_type": "code",
   "execution_count": null,
   "id": "9118e997-cfa3-429e-98db-7c413388d008",
   "metadata": {},
   "outputs": [],
   "source": [
    "import os\n",
    "import pyart\n",
    "import matplotlib.pyplot as plt\n",
    "import matplotlib.colors as colors\n",
    "import numpy as np"
   ]
  },
  {
   "cell_type": "markdown",
   "id": "cd14072d",
   "metadata": {},
   "source": [
    "Next, we set up the directory structure to simplify our commands. If you are running this notebook at the LROSE workshop on JupyterHub, these paths go to the parent directory containing all the workshop resources and the LROSE binaries. \n",
    "\n",
    "**If you have downloaded this notebook, please modify BASE_DIR to work on your personal machine.**\n",
    "\n",
    "* BASE_DIR: the base directory containing the directories for the notebooks, data, parameter files\n",
    "* RADAR_NAME: the name of the radar used in this tutorial"
   ]
  },
  {
   "cell_type": "code",
   "execution_count": null,
   "id": "3cf8695a-059b-499b-983f-1827c1de6304",
   "metadata": {},
   "outputs": [],
   "source": [
    "os.environ['BASE_DIR'] = '/home/jovyan/lrose-hub'\n",
    "os.environ['RAW_DIR'] = '/home/jovyan/share/raw'\n",
    "os.environ['RADAR_NAME'] = 'CHILL_S'\n",
    "base_dir = os.environ['BASE_DIR']\n",
    "radar_name = os.environ['RADAR_NAME']\n",
    "!echo \"Base directory: \"$BASE_DIR\n",
    "!echo \"Radar name: \"$RADAR_NAME"
   ]
  },
  {
   "cell_type": "markdown",
   "id": "cfc53496-a785-4816-82ac-e7e379d25a50",
   "metadata": {},
   "source": [
    "## Set up directories\n",
    "\n",
    "We need to set up the required data directories. The radar data is provided on the JupyterHub. We delete any existing files and directories specific to this tutorial to ensure we're starting with clean directories and files."
   ]
  },
  {
   "cell_type": "code",
   "execution_count": null,
   "id": "b1f22ecf-9c3b-4ae1-8e5a-aa8c4f954d2c",
   "metadata": {},
   "outputs": [],
   "source": [
    "## make subdirectory within data for the raw data\n",
    "!rm -rf ${BASE_DIR}/data/qc/raw\n",
    "!mkdir -p ${BASE_DIR}/data/qc/raw\n"
   ]
  },
  {
   "cell_type": "markdown",
   "id": "45c6a18e-9b2a-4343-8e6c-8344650b2e41",
   "metadata": {},
   "source": [
    "We can examine the raw radar file using RadxPrint. RadxPrint can read CfRadial and other raw radar formats supported by LROSE that can later be converted by RadxConvert. It will also provide information on radar variables and sweep information. For example, we can look at the variables using the following command, piping the output into the head command."
   ]
  },
  {
   "cell_type": "code",
   "execution_count": null,
   "id": "25d1322e-624b-4d5f-9593-b8211300966a",
   "metadata": {
    "scrolled": true
   },
   "outputs": [],
   "source": [
    "# print out the first 50 lines of RadxPrint output\n",
    "!RadxPrint -f ${RAW_DIR}/qc/*.nc | head -50\n"
   ]
  },
  {
   "cell_type": "markdown",
   "id": "b24e2f0f-fc42-4845-a5dd-50040f5b8c1e",
   "metadata": {
    "tags": []
   },
   "source": [
    "# 2.  Run RadxPid - censor non-weather gates"
   ]
  },
  {
   "cell_type": "markdown",
   "id": "617a84c8-f2db-46da-b26d-1da2e90980d3",
   "metadata": {},
   "source": [
    "## PID Algorithm\n",
    "\n",
    "The NCAR PID algorithm uses polarimetric radar data to classify radar gates into 17 distinct categories, 3 of which are considered non-weather categories: insects, second-trip echoes, and clutter. RadxPid and RadxRate have the capability to censor gates that are not weather in the written output files. Thus, we will run the PID algorithm to censor the data. \n",
    "\n",
    "Since censoring does not care too much about the sounding quality (used for melting level identification), this tutorial will use a rough sounding from Denver 3 hours before this radar file, which will be included in the PID thresholds file. \n",
    "\n",
    "Either RadxPid or RadxRate can be used.\n",
    "\n",
    "## RadxPid/RadxRate params\n",
    "\n",
    "**RadxRate main parameters (line numbers given for RadxRate)**\n",
    "| Parameter | Line # | Description |\n",
    "| --- | --- | --- |\n",
    "|input_dir| 98 |Path to input data, if not already specified on the command line.|\n",
    "|SNR_available| 160 |Specify if SNR is available.|\n",
    "|SNR_field_name| 170 |SNR variable name.|\n",
    "|DBZ_field_name| 192 |DBZ variable name.|\n",
    "|ZDR_field_name| 200 |ZDR variable name.|\n",
    "|PHIDP_field_name| 208 |PHIDP variable name.|\n",
    "|RHOHV_field_name| 216 |RHOHV variable name.|\n",
    "|LDR_available| 224 |Specify if LDR is available.|\n",
    "|LDR_field_name| 232 |LDR variable name.|\n",
    "|kdp_params_file_path| 270 |Path to Kdp-specific parameter file.|\n",
    "|pid_params_file_path| 287 |Path to PID-specific parameter file.|\n",
    "|PID_use_attenuation_corrected_fields| 311 |Specify whether to use attenuation-corrected DBZ and ZDR in PID.|\n",
    "|output_dir| 757 |Path where output files are written, if not already specified on command line with -outdir.|\n",
    "    \n",
    "**RadxPid/RadxRate Kdp_specific parameters**\n",
    "| Parameter | Line # | Description |\n",
    "| --- | --- | --- |\n",
    "|KDP_fir_filter_len| 63 |Filter length used for KDP calculation.|\n",
    "|KDP_psob_method| 108 |Specify method to remove phase shift on backscatter.|\n",
    "          \n",
    "**RadxPid/RadxRate Pid_specific parameters**\n",
    "| Parameter | Line # | Description |\n",
    "| --- | --- | --- |\n",
    "|PID_thresholds_file_path| 25 |Path to fuzzy logic PID thresholds file.|\n",
    "|PID_use_soundings_from_spdb| 259 |Specify whether soundings are in Spdb format, otherwise sounding found in fuzzy logic file.|\n",
    "|PID_sounding_spdb_url| 267 |Path to Spdb soundings.|\n",
    "|PID_sounding_location_name| 289 |Name of sounding location.|\n",
    "\n",
    "**PID thresholds file**\n",
    "| Parameter | Line # | Description |\n",
    "| --- | --- | --- |\n",
    "|Tpf| 57 |If not using Spdb soundings, a single sounding is drawn from this variable (altitude (km), temperature (C)).|\n",
    "    \n",
    "****\n",
    "\n",
    "Here, *-params* provides the link to the main RadxRate parameter file, *-f* provides the link to the files we want to process, and *-outdir* indicates where RadxRate should write the final files."
   ]
  },
  {
   "cell_type": "code",
   "execution_count": null,
   "id": "86fc5b85-2fdb-499a-b4e7-9478af753eba",
   "metadata": {
    "scrolled": true,
    "tags": []
   },
   "outputs": [],
   "source": [
    "!rm -rf ${BASE_DIR}/data/qc/radxpid\n",
    "!mkdir -p ${BASE_DIR}/data/qc/radxpid\n",
    "\n",
    "# run RadxPid or RadxRate\n",
    "!RadxPid -params ${BASE_DIR}/params/qc/RadxPid_main_params -f ${RAW_DIR}/qc/*.nc -outdir ${BASE_DIR}/data/qc/radxpid\n",
    "#!RadxRate -params ${BASE_DIR}/params/qc/RadxRate_main_params -f ${RAW_DIR}/qc/*.nc -outdir ${BASE_DIR}/data/qc/radxrate\n"
   ]
  },
  {
   "cell_type": "markdown",
   "id": "a0ca1ff6-2fc1-4aab-9f56-134b74eccb6c",
   "metadata": {},
   "source": [
    "# 3. Run RadxQc - censor based on thresholds\n",
    "\n",
    "## RadxQc algorithm\n",
    "RadxQc includes a few quality control algorithms, including KDP calculation, the PID algorithm, removing RLAN interference, and censoring based on variable thresholds. We will censor based on the values of RHOHV and NCP in this tutorial. In this example, we will only retain gates where RHOHV values range between 0.8 - 1.1 and NCP values range between 0.4 - 1.1. In addition, to remove short runs of noise, we will remove gates where the run of uncensored gates totals less than 5 gates. We will write DBZ, ZDR, PHIDP, RHOHV, and NCP to the output file, where only DBZ, PHIDP, and ZDR have been censored.\n",
    "\n",
    "## RadxQc params\n",
    "\n",
    "| Parameter | Line # | Description |\n",
    "| --- | --- | --- |\n",
    "|input_dir| 118 |Path to input data, if not specified on the command line.|\n",
    "|DBZ_field_name| 378 |DBZ variable name.|\n",
    "|VEL_field_name| 388 |VEL variable name.|\n",
    "|WIDTH_available| 399 |Specify if WIDTH is available.|\n",
    "|WIDTH_field_name| 407 |WIDTH variable name.|\n",
    "|NCP_available| 418 |Specify if NCP is available, in this example FALSE.|\n",
    "|NCP_field_name| 426 |NCP variable name.|\n",
    "|SNR_available| 437 |Specify if SNR is available, in this example FALSE.|\n",
    "|SNR_field_name| 447 |SNR variable name.|\n",
    "|ZDR_available| 469 |Specify if ZDR is available.|\n",
    "|ZDR_field_name| 477 |ZDR variable name.|\n",
    "|LDR_available| 485 |Specify if LDR is available, in this example FALSE.|\n",
    "|LDR_field_name| 495 |LDR variable name.|\n",
    "|PHIDP_available| 503 |Specify if PHIDP is available.|\n",
    "|PHIDP_field_name| 511 |PHIDP variable name.|\n",
    "|RHOHV_available| 519 |Specify if RHOHV is available.|\n",
    "|RHOHV_field_name| 527 |RHOHV variable name.|\n",
    "|compute_pid| 1334 |Tell RadxQc whether to run the PID algorithm for censoring, in this example FALSE.|\n",
    "|censoring_input_fields| 1877 |Specify variables, variable thresholds, and combination method used to censor data.|\n",
    "|input_field_censoring_min_valid_run| 1906 |Minimum valid run of non-censored gates.|\n",
    "|censored_output_fields| 1946 |Specify the fields to be copied from the input files, censored, and written to the output files.|\n",
    "\n",
    "****\n",
    "\n",
    "Here, *-params* provides the link to the main RadxQc parameter file, *-f* provides the link to the files we want to process, and *-outdir* indicates where RadxQc should write the final files."
   ]
  },
  {
   "cell_type": "code",
   "execution_count": null,
   "id": "b916ddf3-4e02-4350-ab71-102d40c3105f",
   "metadata": {},
   "outputs": [],
   "source": [
    "!rm -rf ${BASE_DIR}/data/qc/radxqc\n",
    "!mkdir -p ${BASE_DIR}/data/qc/radxqc\n",
    "\n",
    "# run RadxQc\n",
    "!RadxQc -params ${BASE_DIR}/params/qc/RadxQc_params -f ${RAW_DIR}/qc/*.nc -outdir ${BASE_DIR}/data/qc/radxqc\n"
   ]
  },
  {
   "cell_type": "markdown",
   "id": "a5e6b9dd",
   "metadata": {},
   "source": [
    "# 4. Plot censored CHILL output"
   ]
  },
  {
   "cell_type": "markdown",
   "id": "7d654932-fe3f-4945-bd64-6134493d2ab4",
   "metadata": {},
   "source": [
    "## Censoring using the PID"
   ]
  },
  {
   "cell_type": "markdown",
   "id": "ed3cd54b",
   "metadata": {},
   "source": [
    "To visualize the output in the notebook, we can use Py-ART. HawkEye is also great for visualizing data - a general parameter file can be found in the echo parameter files directory."
   ]
  },
  {
   "cell_type": "code",
   "execution_count": null,
   "id": "21f8399d",
   "metadata": {
    "scrolled": true,
    "tags": []
   },
   "outputs": [],
   "source": [
    "# Read CfRadial file into radar object\n",
    "inDir = base_dir+\"/data/qc/radxpid/20210815/\"\n",
    "file = \"cfrad.20210815_032510.928_to_20210815_032947.216_CSU-CHILL_SUR.nc\"\n",
    "rate_kmhx = pyart.io.read_cfradial(inDir+file)\n",
    "rate_kmhx.info('compact')\n"
   ]
  },
  {
   "cell_type": "markdown",
   "id": "3062b424",
   "metadata": {},
   "source": [
    "We can create a colormap for visualizing PID."
   ]
  },
  {
   "cell_type": "code",
   "execution_count": null,
   "id": "dd207f99",
   "metadata": {},
   "outputs": [],
   "source": [
    "pidmap = np.array([[0.12156862745098039, 0.46666666666666667, 0.70588235294117652, 1.0],\n",
    "              [0.68235294117647061, 0.7803921568627451, 0.90980392156862744, 1.0],\n",
    "              [0.59607843137254901, 0.87450980392156863, 0.54117647058823526, 1.0],\n",
    "              [0.45490196078431372, 0.7686274509803922, 0.46274509803921571, 1.0],\n",
    "              [0.17254901960784313, 0.62745098039215685, 0.17254901960784313, 1.0],\n",
    "              [0.83921568627450982, 0.15294117647058825, 0.15686274509803921, 1.0],\n",
    "              [1.0, 0.59607843137254901, 0.58823529411764708, 1.0],\n",
    "              [1.0, 0.49803921568627452, 0.054901960784313725, 1.0],\n",
    "              [1.0, 0.73333333333333328, 0.47058823529411764, 1.0],\n",
    "              [0.61960784313725492, 0.85490196078431369, 0.89803921568627454, 1.0],\n",
    "              [0.090196078431372548, 0.74509803921568629, 0.81176470588235294, 1.0],\n",
    "              [0.61176470588235299, 0.61960784313725492, 0.87058823529411766, 1.0],\n",
    "              [0.32156862745098042, 0.32941176470588235, 0.63921568627450975, 1.0],\n",
    "              [0.859375, 0.859375, 0.859375, 1.0],\n",
    "              [0.66015625, 0.66015625, 0.66015625, 1.0],\n",
    "              [0.41015625, 0.41015625, 0.41015625, 1.0],\n",
    "              [0.0, 0.0, 0.0, 1.0],],'f')\n",
    "my_cmap2 = colors.ListedColormap(pidmap, name='ncar_pid')\n"
   ]
  },
  {
   "cell_type": "code",
   "execution_count": null,
   "id": "81e490c2",
   "metadata": {},
   "outputs": [],
   "source": [
    "# Plot results of RadxRate\n",
    "\n",
    "displayRate = pyart.graph.RadarDisplay(rate_kmhx)\n",
    "figRate = plt.figure(1, (12, 10))\n",
    "\n",
    "# DBZ (input)\n",
    "\n",
    "axDbz = figRate.add_subplot(221)\n",
    "displayRate.plot_ppi('DBZ', 0, vmin=-32, vmax=64.,\n",
    "                    axislabels=(\"x(km)\", \"y(km)\"),\n",
    "                    colorbar_label=\"DBZ\")\n",
    "displayRate.plot_range_rings([50, 100, 150])\n",
    "displayRate.plot_cross_hair(150.)\n",
    "displayRate.set_limits(xlim=(-150,150),ylim=(-150,150))\n",
    "\n",
    "# KDP (computed)\n",
    "\n",
    "axKdp = figRate.add_subplot(222)\n",
    "displayRate.plot_ppi('KDP', 0, vmin=0, vmax=2.,\n",
    "    axislabels=(\"x(km)\", \"y(km)\"),\n",
    "    colorbar_label=\"KDP (deg/km)\",\n",
    "    cmap=\"nipy_spectral\")\n",
    "displayRate.plot_range_rings([50, 100, 150])\n",
    "displayRate.plot_cross_hair(150.)\n",
    "displayRate.set_limits(xlim=(-150,150),ylim=(-150,150))\n",
    "\n",
    "# ZDR\n",
    "\n",
    "axHybrid = figRate.add_subplot(223)\n",
    "displayRate.plot_ppi('ZDR', 0, vmin=-1., vmax=5.,\n",
    "    axislabels=(\"x(km)\", \"y(km)\"),\n",
    "    colorbar_label=\"ZDR\",\n",
    "    cmap=\"nipy_spectral\")\n",
    "displayRate.plot_range_rings([50, 100, 150])\n",
    "displayRate.plot_cross_hair(150.)\n",
    "displayRate.set_limits(xlim=(-150,150),ylim=(-150,150))\n",
    "\n",
    "# NCAR PID (computed)\n",
    "\n",
    "axPID = figRate.add_subplot(224)\n",
    "displayRate.plot_ppi('PID', 0, vmin=0.5, vmax = 17.5,\n",
    "    axislabels=(\"x(km)\", \"y(km)\"),\n",
    "    colorbar_label=\"PID\",\n",
    "    cmap = my_cmap2, mask_outside=True)\n",
    "displayRate.plot_range_rings([50, 100, 150])\n",
    "displayRate.plot_cross_hair(150.)\n",
    "displayRate.set_limits(xlim=(-150,150),ylim=(-150,150))\n",
    "\n",
    "# plot all 17 PID categories\n",
    "pid_cbar = displayRate.cbs[3]\n",
    "#pid_cbar.set_ticks([1,2,3,4,5,6,7,8,9,10,11,12,13])\n",
    "#pid_cbar.set_ticklabels(['cld-drops', 'drizzle', 'lt-rain', 'mod-rain', 'hvy-rain', 'hail', 'rain/hail', 'sm-hail', 'gr/rain', 'dry-snow', 'wet-snow', 'ice', 'irreg-ice'])\n",
    "pid_cbar.set_ticks([1,2,3,4,5,6,7,8,9,10,11,12,13,14,15,16,17])\n",
    "pid_cbar.set_ticklabels(['cld-drops', 'drizzle', 'lt-rain', 'mod-rain', 'hvy-rain', 'hail', 'rain/hail', 'sm-hail', 'gr/rain', 'dry-snow', 'wet-snow', 'ice', 'irreg-ice', 'slw', 'insects', '2nd-trip', 'clutter'])\n",
    "\n",
    "figRate.tight_layout()\n",
    "\n",
    "plt.show()\n"
   ]
  },
  {
   "cell_type": "markdown",
   "id": "74b39584-c513-465b-93b2-4cafff06b323",
   "metadata": {},
   "source": [
    "## Censoring using the variable thresholds"
   ]
  },
  {
   "cell_type": "code",
   "execution_count": null,
   "id": "ddb81040-b5d0-4062-8af3-9a6b953fbc56",
   "metadata": {
    "scrolled": true,
    "tags": []
   },
   "outputs": [],
   "source": [
    "# Read CfRadial file into radar object\n",
    "inDir = base_dir+\"/data/qc/radxqc/20210815/\"\n",
    "file = \"cfrad.20210815_032510.928_to_20210815_032947.216_CSU-CHILL_SUR.nc\"\n",
    "qc_chill = pyart.io.read_cfradial(inDir+file)\n",
    "qc_chill.info('compact')"
   ]
  },
  {
   "cell_type": "code",
   "execution_count": null,
   "id": "8235faeb-1649-467a-9cd6-3b6f73a89ae4",
   "metadata": {},
   "outputs": [],
   "source": [
    "# Plot results of RadxRate\n",
    "\n",
    "displayRate = pyart.graph.RadarDisplay(qc_chill)\n",
    "figRate = plt.figure(1, (12, 10))\n",
    "\n",
    "# DBZ (input)\n",
    "\n",
    "axDbz = figRate.add_subplot(221)\n",
    "displayRate.plot_ppi('DBZ', 0, vmin=-32, vmax=64.,\n",
    "                    axislabels=(\"x(km)\", \"y(km)\"),\n",
    "                    colorbar_label=\"DBZ\")\n",
    "displayRate.plot_range_rings([50, 100, 150])\n",
    "displayRate.plot_cross_hair(150.)\n",
    "displayRate.set_limits(xlim=(-150,150),ylim=(-150,150))\n",
    "\n",
    "# ZDR\n",
    "\n",
    "axKdp = figRate.add_subplot(222)\n",
    "displayRate.plot_ppi('ZDR', 0, vmin=0, vmax=2.,\n",
    "    axislabels=(\"x(km)\", \"y(km)\"),\n",
    "    colorbar_label=\"ZDR (dB)\",\n",
    "    cmap=\"nipy_spectral\")\n",
    "displayRate.plot_range_rings([50, 100, 150])\n",
    "displayRate.plot_cross_hair(150.)\n",
    "displayRate.set_limits(xlim=(-150,150),ylim=(-150,150))\n",
    "\n",
    "# RHOHV\n",
    "\n",
    "axHybrid = figRate.add_subplot(223)\n",
    "displayRate.plot_ppi('RHOHV', 0, vmin=0.8, vmax=1.05,\n",
    "    axislabels=(\"x(km)\", \"y(km)\"),\n",
    "    colorbar_label=\"RHOHV\")\n",
    "displayRate.plot_range_rings([50, 100, 150])\n",
    "displayRate.plot_cross_hair(150.)\n",
    "displayRate.set_limits(xlim=(-150,150),ylim=(-150,150))\n",
    "\n",
    "# NCP\n",
    "\n",
    "axPID = figRate.add_subplot(224)\n",
    "displayRate.plot_ppi('NCP', 0, vmin=0.4, vmax = 1.1,\n",
    "    axislabels=(\"x(km)\", \"y(km)\"),\n",
    "    colorbar_label=\"NCP\",\n",
    "    mask_outside=True)\n",
    "displayRate.plot_range_rings([50, 100, 150])\n",
    "displayRate.plot_cross_hair(150.)\n",
    "displayRate.set_limits(xlim=(-150,150),ylim=(-150,150))\n",
    "\n",
    "figRate.tight_layout()\n",
    "\n",
    "plt.show()\n"
   ]
  },
  {
   "cell_type": "markdown",
   "id": "20d64b8c",
   "metadata": {},
   "source": [
    "# 5. Bonus fun - run RadxQc and then RadxPid/RadxRate!\n",
    "\n",
    "User preferences with respect to noise, speckling, etc. will vary and often multiple processing steps are involved. Pre-processing using Py-ART or CSU RadarTools could be fed into RadxPid/RadxRate."
   ]
  },
  {
   "cell_type": "code",
   "execution_count": null,
   "id": "f65d9b73-2493-406e-bb54-b22ba8cd4ee4",
   "metadata": {},
   "outputs": [],
   "source": [
    "!rm -rf ${BASE_DIR}/data/qc/radxqc_then_pid\n",
    "!mkdir -p ${BASE_DIR}/data/qc/radxqc_then_pid\n",
    "\n",
    "# run RadxPid/RadxRate using RadxQc output\n",
    "!RadxPid -params ${BASE_DIR}/params/qc/RadxPid_main_params -f ${BASE_DIR}/data/qc/radxqc/20210815/*.nc -outdir ${BASE_DIR}/data/qc/radxqc_then_pid\n",
    "#!RadxRate -params ${BASE_DIR}/params/qc/RadxRate_main_params -f ${BASE_DIR}/data/qc/radxqc/20210815/*.nc -outdir ${BASE_DIR}/data/qc/radxqc_then_pid"
   ]
  },
  {
   "cell_type": "code",
   "execution_count": null,
   "id": "cf8166c0",
   "metadata": {
    "scrolled": true,
    "tags": []
   },
   "outputs": [],
   "source": [
    "# Read CfRadial file into radar object\n",
    "inDir = base_dir+\"/data/qc/radxqc_then_pid/20210815/\"\n",
    "file = \"cfrad.20210815_032510.928_to_20210815_032947.216_CSU-CHILL_SUR.nc\"\n",
    "pid_then_qc = pyart.io.read_cfradial(inDir+file)\n",
    "pid_then_qc.info('compact')\n"
   ]
  },
  {
   "cell_type": "code",
   "execution_count": null,
   "id": "048e0638-a90e-4e0a-868a-5e31c3c8093e",
   "metadata": {},
   "outputs": [],
   "source": [
    "# Plot results of RadxRate\n",
    "\n",
    "displayRate = pyart.graph.RadarDisplay(pid_then_qc)\n",
    "figRate = plt.figure(1, (12, 10))\n",
    "\n",
    "# DBZ (input)\n",
    "\n",
    "axDbz = figRate.add_subplot(221)\n",
    "displayRate.plot_ppi('DBZ', 0, vmin=-32, vmax=64.,\n",
    "                    axislabels=(\"x(km)\", \"y(km)\"),\n",
    "                    colorbar_label=\"DBZ\")\n",
    "displayRate.plot_range_rings([50, 100, 150])\n",
    "displayRate.plot_cross_hair(150.)\n",
    "displayRate.set_limits(xlim=(-150,150),ylim=(-150,150))\n",
    "\n",
    "# KDP (computed)\n",
    "\n",
    "axKdp = figRate.add_subplot(222)\n",
    "displayRate.plot_ppi('KDP', 0, vmin=0, vmax=2.,\n",
    "    axislabels=(\"x(km)\", \"y(km)\"),\n",
    "    colorbar_label=\"KDP (deg/km)\",\n",
    "    cmap=\"nipy_spectral\")\n",
    "displayRate.plot_range_rings([50, 100, 150])\n",
    "displayRate.plot_cross_hair(150.)\n",
    "displayRate.set_limits(xlim=(-150,150),ylim=(-150,150))\n",
    "\n",
    "# ZDR\n",
    "\n",
    "axHybrid = figRate.add_subplot(223)\n",
    "displayRate.plot_ppi('ZDR', 0, vmin=-1., vmax=5.,\n",
    "    axislabels=(\"x(km)\", \"y(km)\"),\n",
    "    colorbar_label=\"ZDR\",\n",
    "    cmap=\"nipy_spectral\")\n",
    "displayRate.plot_range_rings([50, 100, 150])\n",
    "displayRate.plot_cross_hair(150.)\n",
    "displayRate.set_limits(xlim=(-150,150),ylim=(-150,150))\n",
    "\n",
    "# NCAR PID (computed)\n",
    "\n",
    "axPID = figRate.add_subplot(224)\n",
    "displayRate.plot_ppi('PID', 0, vmin=0.5, vmax = 17.5,\n",
    "    axislabels=(\"x(km)\", \"y(km)\"),\n",
    "    colorbar_label=\"PID\",\n",
    "    cmap = my_cmap2, mask_outside=True)\n",
    "displayRate.plot_range_rings([50, 100, 150])\n",
    "displayRate.plot_cross_hair(150.)\n",
    "displayRate.set_limits(xlim=(-150,150),ylim=(-150,150))\n",
    "\n",
    "# plot all 17 PID categories\n",
    "pid_cbar = displayRate.cbs[3]\n",
    "#pid_cbar.set_ticks([1,2,3,4,5,6,7,8,9,10,11,12,13])\n",
    "#pid_cbar.set_ticklabels(['cld-drops', 'drizzle', 'lt-rain', 'mod-rain', 'hvy-rain', 'hail', 'rain/hail', 'sm-hail', 'gr/rain', 'dry-snow', 'wet-snow', 'ice', 'irreg-ice'])\n",
    "pid_cbar.set_ticks([1,2,3,4,5,6,7,8,9,10,11,12,13,14,15,16,17])\n",
    "pid_cbar.set_ticklabels(['cld-drops', 'drizzle', 'lt-rain', 'mod-rain', 'hvy-rain', 'hail', 'rain/hail', 'sm-hail', 'gr/rain', 'dry-snow', 'wet-snow', 'ice', 'irreg-ice', 'slw', 'insects', '2nd-trip', 'clutter'])\n",
    "\n",
    "figRate.tight_layout()\n",
    "\n",
    "plt.show()\n"
   ]
  },
  {
   "cell_type": "code",
   "execution_count": null,
   "id": "d1798c01-34b4-4b23-abc1-6c0c0172769b",
   "metadata": {},
   "outputs": [],
   "source": []
  }
 ],
 "metadata": {
  "kernelspec": {
   "display_name": "Python [conda env:lrosehub]",
   "language": "python",
   "name": "conda-env-lrosehub-py"
  },
  "language_info": {
   "codemirror_mode": {
    "name": "ipython",
    "version": 3
   },
   "file_extension": ".py",
   "mimetype": "text/x-python",
   "name": "python",
   "nbconvert_exporter": "python",
   "pygments_lexer": "ipython3",
   "version": "3.12.8"
  }
 },
 "nbformat": 4,
 "nbformat_minor": 5
}
