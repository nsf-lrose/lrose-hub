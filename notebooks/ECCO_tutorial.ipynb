{
 "cells": [
  {
   "cell_type": "markdown",
   "id": "8ee9cfc3",
   "metadata": {
    "tags": []
   },
   "source": [
    "## LROSE workflow - combining 3 NEXRAD radars, computing PID and Echo Type\n",
    "\n",
    "<img align=\"right\" width=\"400\" height=\"400\" src=\"../images/erad2022_cidd_mosaic.png\">\n",
    "    \n",
    "The case we will use is from 2021/07/06 22:00 UTC, when a series of MCSs passed through the NW region of Kansas in the USA.\n",
    "\n",
    "We will combine the reflectivity of 3 NEXRAD radars into a mini-mosaic:\n",
    "\n",
    "- KGLD - Goodland, Kansas\n",
    "- KUEX - Hastings, Nebraska\n",
    "- KDDC - Dodge City, Kansas\n",
    "\n",
    "\n",
    "We will use the following data sets:\n",
    "\n",
    "- raw NEXRAD files for KGLD, KUEX and KDDC, 2021/07/06 from 22:00 UTC to 22:30 UTC\n",
    "- RUC model output for Kansas region, CF-NetCDF format, from 2021/07/06 at 23:00 UTC\n",
    "\n",
    "The model data will provide a temperature profile for computing PID and Echo Type.\n",
    "\n",
    "The workflow is as follows:\n",
    "\n",
    "- untar provided data\n",
    "- run LROSE app RadxConvert, to convert raw NEXRAD files to CfRadial.\n",
    "- plot an example PPI from KGLD using PyArt.\n",
    "- read in temperature data from RUC file, plot cross sections using Matplotlib.\n",
    "- run the LROSE app Mdv2SoundingSpdb to derive the temperature profile for each radar site from the RUC data file, and store in SPDB (a simple time-indexed data base).\n",
    "- run the LROSE app RadxRate to compute precipitation rate and Particle ID (PID).\n",
    "- plot KDP, PID and precipitation rate for an example PPI.\n",
    "- run the LROSE app Radx2Grid to convert the polar CfRadial files into Cartesian coordinates.\n",
    "- run the LROSE app MdvMerge2 to merge the Cartesian files from the 3 radars into a reflectivity mini-mosaic.\n",
    "- plot selected views of the reflectivity mosaic, using Matplotlib.\n",
    "- run the LROSE app Ecco to compute the convective/stratiform partition using the reflectivity mosaic and the RUC temperature profile.\n",
    "- plot the results of Ecco using Matplotlib.\n",
    "\n",
    "We will use the following parameter files for the LROSE applications:\n",
    "\n",
    "- params/RadxConvert.nexrad - convert raw NEXRAD files to CfRadial.\n",
    "- params/Mdv2SoundingSpdb.ruc - create temperature profiles for each radar from RUC model temperature.\n",
    "- params/RadxRate.nexrad - computes KDP, PID and precipition rate.\n",
    "- params/kdp_params.nexrad - used by RadxRate to compute KDP.\n",
    "- params/pid_params.nexrad - used by RadxRate to compute PID.\n",
    "- params/pid_thresholds.nexrad - used by RadxRate to compute PID.\n",
    "- params/rate_params.nexrad - used by RadxRate to compute precipitation rate.\n",
    "- params/Ecco.nexrad_mosaic - used by Ecco to compute echo type classifications.\n",
    "\n",
    "The input files will be in:\n",
    "\n",
    "```\n",
    "  /home/jovyan/lrose-hub/data/ecco/nexrad_mosaic/raw/KGLD\n",
    "  /home/jovyan/lrose-hub/data/ecco/nexrad_mosaic/raw/KUEX\n",
    "  /home/jovyan/lrose-hub/data/ecco/nexrad_mosaic/raw/KDDC\n",
    "  /home/jovyan/lrose-hub/data/ecco/nexrad_mosaic/mdv/ruc\n",
    "```\n",
    "\n",
    "The output files will be stored in:\n",
    "\n",
    "```\n",
    "  /home/jovyan/lrose-hub/data/ecco/nexrad_mosaic/cfradial (polar data)\n",
    "  /home/jovyan/lrose-hub/data/ecco/nexrad_mosaic/mdv (Cartesian data)\n",
    "  /home/jovyan/lrose-hub/data/ecco/nexrad_mosaic/spdb (temperature profile per radar)\n",
    "```"
   ]
  },
  {
   "cell_type": "markdown",
   "id": "52e9d69e",
   "metadata": {},
   "source": [
    "### Initialize python"
   ]
  },
  {
   "cell_type": "code",
   "execution_count": null,
   "id": "22982961",
   "metadata": {
    "tags": []
   },
   "outputs": [],
   "source": [
    "#\n",
    "# Extra packages to be added to anaconda3 standard packages for this notebook:\n",
    "#\n",
    "#  conda update --all\n",
    "#  conda install cartopy netCDF4\n",
    "#  conda install -c conda-forge arm_pyart\n",
    "#\n",
    "\n",
    "import warnings\n",
    "warnings.filterwarnings('ignore')\n",
    "\n",
    "import os\n",
    "import datetime\n",
    "import pytz\n",
    "import math\n",
    "import numpy as np\n",
    "import matplotlib as mp\n",
    "import matplotlib.pyplot as plt\n",
    "import matplotlib.ticker as plticker\n",
    "import matplotlib.colors as colors\n",
    "from matplotlib.lines import Line2D\n",
    "import cartopy\n",
    "import cartopy.crs as ccrs\n",
    "import cartopy.io.shapereader as shpreader\n",
    "import cartopy.geodesic as cgds\n",
    "from cartopy.mpl.gridliner import LONGITUDE_FORMATTER, LATITUDE_FORMATTER\n",
    "from cartopy import feature as cfeature\n",
    "import shapely\n",
    "import netCDF4 as nc\n",
    "import pyart\n",
    "\n",
    "# Set base dir that contains folders for notebooks, params, etc.\n",
    "# If running on a personal machine, replace with the appropriate directory\n",
    "os.environ['BASE_DIR'] = '/home/jovyan/lrose-hub'\n",
    "os.environ['RAW_DIR'] = '/home/jovyan/share/raw'\n",
    "base_dir = os.environ['BASE_DIR']\n",
    "\n",
    "# Set data dir in environment variable\n",
    "os.environ['NEXRAD_DATA_DIR'] = base_dir+'/data/ecco/nexrad_mosaic'\n",
    "nexradDataDir = os.environ['NEXRAD_DATA_DIR']\n",
    "print('====>> nexradDataDir: ', nexradDataDir)"
   ]
  },
  {
   "cell_type": "code",
   "execution_count": null,
   "id": "fee187a4-77f6-4818-a6cb-0e8f060fbff1",
   "metadata": {},
   "outputs": [],
   "source": [
    "!pwd\n",
    "!echo $NEXRAD_DATA_DIR\n",
    "!echo $BASE_DIR"
   ]
  },
  {
   "cell_type": "markdown",
   "id": "6de68023",
   "metadata": {},
   "source": [
    "### Download data sets from web"
   ]
  },
  {
   "cell_type": "code",
   "execution_count": null,
   "id": "f9f896c7",
   "metadata": {
    "scrolled": true,
    "tags": []
   },
   "outputs": [],
   "source": [
    "# Untar input data sets\n",
    "#\n",
    "# 1. NEXRAD raw data files for KGLD, KDDC and KUEX\n",
    "# 2. RUC model data for temperature profile, Kansas and surroundings\n",
    "#\n",
    "# These will be put in:\n",
    "#  ${NEXRAD_DATA_DIR}\n",
    "#\n",
    "\n",
    "# ensure the data dir exists and is clean\n",
    "\n",
    "!/bin/rm -rf ${NEXRAD_DATA_DIR}\n",
    "!mkdir -p ${NEXRAD_DATA_DIR}\n",
    "\n",
    "# extract the data from the tar files\n",
    "\n",
    "print(\"====>> The following data files are unpacked in dir: \", nexradDataDir)\n",
    "!tar -xvzf ${RAW_DIR}/nexrad_mosaic/nexrad_mosaic.ruc.20210706_220000.tgz -C ${NEXRAD_DATA_DIR}\n",
    "!tar -xvzf ${RAW_DIR}/nexrad_mosaic/nexrad_mosaic.KGLD.20210706_220000.tgz -C ${NEXRAD_DATA_DIR}\n",
    "!tar -xvzf ${RAW_DIR}/nexrad_mosaic/nexrad_mosaic.KDDC.20210706_220000.tgz -C ${NEXRAD_DATA_DIR}\n",
    "!tar -xvzf ${RAW_DIR}/nexrad_mosaic/nexrad_mosaic.KUEX.20210706_220000.tgz -C ${NEXRAD_DATA_DIR}\n"
   ]
  },
  {
   "cell_type": "markdown",
   "id": "d34dfd14",
   "metadata": {},
   "source": [
    "## View the RadxConvert parameter file\n",
    "\n",
    "Note that we can use environment variables in the parameter files.\n",
    "\n",
    "Environment variables are inserted using the format:\n",
    "\n",
    "```\n",
    "  $(env_var_name)\n",
    "```\n",
    "\n",
    "For example:\n",
    "\n",
    "```\n",
    "  input_dir = \"$(NEXRAD_DATA_DIR)/raw/$(RADAR_NAME)\";\n",
    "```\n",
    "\n",
    "There may be differences in variable requirements across Linux/Mac OS.\n"
   ]
  },
  {
   "cell_type": "code",
   "execution_count": null,
   "id": "9eccf394",
   "metadata": {
    "scrolled": true,
    "tags": []
   },
   "outputs": [],
   "source": [
    "# View the param file\n",
    "!cat $BASE_DIR/params/ecco/RadxConvert.nexrad"
   ]
  },
  {
   "cell_type": "markdown",
   "id": "aabdc353",
   "metadata": {},
   "source": [
    "## Convert raw nexrad files to CfRadial format"
   ]
  },
  {
   "cell_type": "code",
   "execution_count": null,
   "id": "5f9c2fd1",
   "metadata": {
    "scrolled": true,
    "tags": []
   },
   "outputs": [],
   "source": [
    "# Convert raw nexrad data to cfradial for 3 NEXRAD radars\n",
    "\n",
    "for radar_name in ['KGLD', 'KUEX', 'KDDC']:\n",
    "    # Set radar in name environment variable\n",
    "    os.environ['RADAR_NAME'] = radar_name\n",
    "    # Run RadxConvert using param file\n",
    "    !RadxConvert -params $BASE_DIR/params/ecco/RadxConvert.nexrad -debug -start \"2021 07 06 22 00 00\" -end \"2021 07 06 22 30 00\"\n"
   ]
  },
  {
   "cell_type": "markdown",
   "id": "ac26ceb6",
   "metadata": {
    "tags": []
   },
   "source": [
    "## List the CfRadial files created by RadxConvert"
   ]
  },
  {
   "cell_type": "code",
   "execution_count": null,
   "id": "100476d3",
   "metadata": {
    "tags": []
   },
   "outputs": [],
   "source": [
    "# List the CfRadial files created by RadxConvert\n",
    "!ls -R ${NEXRAD_DATA_DIR}/cfradial/moments/K*/20*"
   ]
  },
  {
   "cell_type": "markdown",
   "id": "e885ed48",
   "metadata": {},
   "source": [
    "## Plot one example of the NEXRAD Goodland radar (KGLD) CfRadial files"
   ]
  },
  {
   "cell_type": "code",
   "execution_count": null,
   "id": "304e140e",
   "metadata": {
    "tags": []
   },
   "outputs": [],
   "source": [
    "# Read CfRadial file into radar object\n",
    "filePathRadar = os.path.join(nexradDataDir, \"cfradial/moments/KGLD/20210706/cfrad.20210706_220003.963_to_20210706_220439.770_KGLD_SUR.nc\")\n",
    "radar_kgld = pyart.io.read_cfradial(filePathRadar)\n",
    "radar_kgld.info('compact')"
   ]
  },
  {
   "cell_type": "code",
   "execution_count": null,
   "id": "3e0f3e2c",
   "metadata": {
    "tags": []
   },
   "outputs": [],
   "source": [
    "# Plot KGLD fields from this CfRadial file\n",
    "\n",
    "displayKgld = pyart.graph.RadarDisplay(radar_kgld)\n",
    "figKgld = plt.figure(1, (12, 10))\n",
    "\n",
    "# DBZ\n",
    "\n",
    "axDbz = figKgld.add_subplot(221)\n",
    "displayKgld.plot_ppi('DBZ', 0, vmin=-32, vmax=64.,\n",
    "                    axislabels=(\"x(km)\", \"y(km)\"),\n",
    "                    colorbar_label=\"DBZ\")\n",
    "displayKgld.plot_range_rings([50, 100, 150, 200])\n",
    "displayKgld.plot_cross_hair(200.)\n",
    "\n",
    "# VEL\n",
    "\n",
    "axVel = figKgld.add_subplot(222)\n",
    "displayKgld.plot_ppi('VEL', 0, vmin=-30, vmax=30.,\n",
    "                    axislabels=(\"x(km)\", \"y(km)\"),\n",
    "                    colorbar_label=\"VEL(m/s)\",\n",
    "                    cmap = \"rainbow\")\n",
    "displayKgld.plot_range_rings([50, 100, 150, 200])\n",
    "displayKgld.plot_cross_hair(200.)\n",
    "\n",
    "# ZDR\n",
    "\n",
    "axZdr = figKgld.add_subplot(223)\n",
    "displayKgld.plot_ppi('ZDR', 0, vmin=-4, vmax=16.,\n",
    "                    axislabels=(\"x(km)\", \"y(km)\"),\n",
    "                    colorbar_label=\"ZDR(dB)\",\n",
    "                    cmap = \"rainbow\")\n",
    "displayKgld.plot_range_rings([50, 100, 150, 200])\n",
    "displayKgld.plot_cross_hair(200.)\n",
    "\n",
    "# PHIDP\n",
    "\n",
    "axPhidp = figKgld.add_subplot(224)\n",
    "displayKgld.plot_ppi('PHIDP', 0,\n",
    "                    axislabels=(\"x(km)\", \"y(km)\"),\n",
    "                    colorbar_label=\"PHIDP(deg)\",\n",
    "                    cmap = \"rainbow\")\n",
    "displayKgld.plot_range_rings([50, 100, 150, 200])\n",
    "displayKgld.plot_cross_hair(200.)\n",
    "\n",
    "# set layout and display\n",
    "\n",
    "figKgld.tight_layout()\n",
    "plt.show()\n"
   ]
  },
  {
   "cell_type": "markdown",
   "id": "3938166f",
   "metadata": {},
   "source": [
    "### Read in temperature field from RUC model, to provide temperature profile for PID and Ecco"
   ]
  },
  {
   "cell_type": "code",
   "execution_count": null,
   "id": "df242020",
   "metadata": {
    "tags": []
   },
   "outputs": [],
   "source": [
    "filePathModel = os.path.join(nexradDataDir, 'mdv/ruc/20210706/20210706_230000.mdv.cf.nc')\n",
    "dsModel = nc.Dataset(filePathModel)\n",
    "print(dsModel)\n",
    "dstemp = dsModel['TMP']\n",
    "temp3D = np.array(dstemp)\n",
    "fillValueTemp = dstemp._FillValue\n",
    "if (len(temp3D.shape) == 4):\n",
    "    temp3D = temp3D[0]\n",
    "\n",
    "# Compute time\n",
    "\n",
    "uTimeSecsModel = dsModel['start_time'][0]\n",
    "startTimeModel = datetime.datetime.fromtimestamp(int(uTimeSecsModel))\n",
    "startTimeStrModel = startTimeModel.strftime('%Y/%m/%d-%H:%M:%S UTC')\n",
    "print(\"Start time model: \", startTimeStrModel)\n",
    "\n",
    "# Compute Model grid limits\n",
    "(nZModel, nYModel, nXModel) = temp3D.shape\n",
    "lon = np.array(dsModel['x0'])\n",
    "lat = np.array(dsModel['y0'])\n",
    "ht = np.array(dsModel['z0'])\n",
    "dLonModel = lon[1] - lon[0]\n",
    "dLatModel = lat[1] - lat[0]\n",
    "minLonModel = lon[0] - dLonModel / 2.0\n",
    "maxLonModel = lon[-1] + dLonModel / 2.0\n",
    "minLatModel = lat[0] - dLatModel / 2.0\n",
    "maxLatModel = lat[-1] + dLatModel / 2.0\n",
    "minHtModel = ht[0]\n",
    "maxHtModel = ht[-1]\n",
    "print(\"nZModel, nYModel, nXModel\", nZModel, nYModel, nXModel)\n",
    "print(\"minLonModel, maxLonModel: \", minLonModel, maxLonModel)\n",
    "print(\"minLatModel, maxLatModel: \", minLatModel, maxLatModel)\n",
    "print(\"minHt, maxHt: \", minHtModel, maxHtModel)\n",
    "print(\"Model hts: \", ht)\n",
    "del lon, lat, ht"
   ]
  },
  {
   "cell_type": "markdown",
   "id": "22251ec0",
   "metadata": {},
   "source": [
    "## Plot W-E and N-S vertical sections of temperature data"
   ]
  },
  {
   "cell_type": "code",
   "execution_count": null,
   "id": "68f66246",
   "metadata": {
    "tags": []
   },
   "outputs": [],
   "source": [
    "# Compute Temp N-S vertical section\n",
    "nXHalfModel = int(nXModel/2)\n",
    "tempVertNS = temp3D[:, :, nXHalfModel:(nXHalfModel+1)]\n",
    "tempVertNS = tempVertNS.reshape(tempVertNS.shape[0], tempVertNS.shape[1])\n",
    "tempVertNS[tempVertNS == fillValueTemp] = np.nan\n",
    "print(tempVertNS.shape)\n",
    "tempNSMax = np.amax(temp3D, (2))\n",
    "tempNSMax[tempNSMax == fillValueTemp] = np.nan\n",
    "\n",
    "# Compute Temp W-E vertical section\n",
    "nYHalfModel = int(nYModel/2)\n",
    "tempVertWE = temp3D[:, nYHalfModel:(nYHalfModel+1), :]\n",
    "print(tempVertWE.shape)\n",
    "tempVertWE = tempVertWE.reshape(tempVertWE.shape[0], tempVertWE.shape[2])\n",
    "tempVertWE[tempVertWE == fillValueTemp] = np.nan\n",
    "tempWEMax = np.amax(temp3D, (1))\n",
    "tempWEMax[tempWEMax == fillValueTemp] = np.nan\n",
    "print(tempVertWE.shape)"
   ]
  },
  {
   "cell_type": "code",
   "execution_count": null,
   "id": "6f246ac8",
   "metadata": {
    "tags": []
   },
   "outputs": [],
   "source": [
    "# Plot model temp vertical sections at mid-points of grid\n",
    "\n",
    "figModelTemp = plt.figure(num=1, figsize=[12, 8], layout='constrained')\n",
    "\n",
    "# Plot W-E temp\n",
    "\n",
    "axWETemp = figModelTemp.add_subplot(1, 2, 1,\n",
    "                                    xlim = (minLonModel, maxLonModel),\n",
    "                                    ylim = (minHtModel, maxHtModel))\n",
    "plt.imshow(tempVertWE,\n",
    "    cmap='jet',\n",
    "    interpolation = 'bilinear',\n",
    "    origin = 'lower',\n",
    "    extent = (minLonModel, maxLonModel, minHtModel, maxHtModel))\n",
    "axWETemp.set_aspect(1.0)\n",
    "axWETemp.set_xlabel('Longitude (deg)')\n",
    "axWETemp.set_ylabel('Height (km)')\n",
    "plt.colorbar(label=\"Temperature (C)\", orientation=\"horizontal\", fraction=0.1)\n",
    "plt.title(\"Vert slice mid W-E temp: \" + startTimeStrModel)\n",
    "\n",
    "# Plot N-S temp vertical section\n",
    "\n",
    "axNSTemp = figModelTemp.add_subplot(1, 2, 2, \n",
    "                                    xlim = (minLatModel, maxLatModel),\n",
    "                                    ylim = (minHtModel, maxHtModel))\n",
    "plt.imshow(tempVertNS,\n",
    "    cmap='jet',\n",
    "    interpolation = 'bilinear',\n",
    "    origin = 'lower',\n",
    "    extent = (minLatModel, maxLatModel, minHtModel, maxHtModel))\n",
    "axNSTemp.set_aspect(0.52)\n",
    "axNSTemp.set_xlabel('Latitude (deg)')\n",
    "axNSTemp.set_ylabel('Height (km)')\n",
    "plt.colorbar(label=\"Temperature (C)\", orientation=\"horizontal\", fraction=0.1)\n",
    "plt.title(\"Vert slice mid N-S temp: \" + startTimeStrModel)\n"
   ]
  },
  {
   "cell_type": "markdown",
   "id": "f82ae872",
   "metadata": {},
   "source": [
    "## Sample RUC temperatures at 3 radar locations, save in SPDB data base"
   ]
  },
  {
   "cell_type": "code",
   "execution_count": null,
   "id": "3d52525d",
   "metadata": {
    "scrolled": true,
    "tags": []
   },
   "outputs": [],
   "source": [
    "# Run Mdv2SoundingSpdb to sample temperature data and store in SPDB\n",
    "!Mdv2SoundingSpdb -debug -params $BASE_DIR/params/ecco/Mdv2SoundingSpdb.ruc -start \"2021 07 06 00 00 00\" -end \"2021 07 07 00 00 00\""
   ]
  },
  {
   "cell_type": "markdown",
   "id": "b69e40db",
   "metadata": {},
   "source": [
    "## List sounding data base"
   ]
  },
  {
   "cell_type": "code",
   "execution_count": null,
   "id": "7b67ce2b",
   "metadata": {
    "tags": []
   },
   "outputs": [],
   "source": [
    "# List SPDB files\n",
    "!ls -alR $BASE_DIR/lrose_data/nexrad_mosaic/spdb/sounding/ruc/20210706*"
   ]
  },
  {
   "cell_type": "markdown",
   "id": "e94d4288",
   "metadata": {},
   "source": [
    "## Run RadxRate on the CfRadial files\n",
    "\n",
    "RadxRate will compute:\n",
    "\n",
    "* KDP - specific differential phase\n",
    "* KDP_SC - KDP conditioned using Z and ZDR self-consistency\n",
    "* PID - NCAR Particle ID (type)\n",
    "* RATE_ZH - precip rate from standard ZR relationship\n",
    "* RATE_HYBRID - precip rate from NCAR hybrid estimator\n",
    "\n",
    "RadxRate has a main parameter file, which then specifies a parameter file computing each of KDP, PID and precip rate.\n",
    "\n",
    "The PID step requires an additional parameter file specifying the fuzzy logic thresholds.\n",
    "\n",
    "The parameter files used here are:\n",
    "\n",
    "* kdp_params.nexrad\n",
    "* pid_params.nexrad\n",
    "* pid_thresholds.nexrad\n",
    "* rate_params.nexrad"
   ]
  },
  {
   "cell_type": "code",
   "execution_count": null,
   "id": "ae0bae96",
   "metadata": {
    "scrolled": true,
    "tags": []
   },
   "outputs": [],
   "source": [
    "# Run RadxRate for 3 NEXRAD radars\n",
    "\n",
    "for radar_name in ['KGLD', 'KUEX', 'KDDC']:\n",
    "    # Set radar in name environment variable\n",
    "    os.environ['RADAR_NAME'] = radar_name\n",
    "    # Run RadxRate using param file\n",
    "    !RadxRate -params $BASE_DIR/params/ecco/RadxRate.nexrad -debug -start \"2021 07 06 22 00 00\" -end \"2021 07 06 22 30 00\""
   ]
  },
  {
   "cell_type": "markdown",
   "id": "d0bf3b05",
   "metadata": {},
   "source": [
    "## List files created by RadxRate"
   ]
  },
  {
   "cell_type": "code",
   "execution_count": null,
   "id": "8c4c3d58",
   "metadata": {
    "tags": []
   },
   "outputs": [],
   "source": [
    "# List the CfRadial files created by RadxRate\n",
    "!ls -R ${NEXRAD_DATA_DIR}/cfradial/rate/K*/2*"
   ]
  },
  {
   "cell_type": "markdown",
   "id": "36620eb0",
   "metadata": {},
   "source": [
    "## Plot PID and rate results for NEXRAD Goodland radar (KGLD)"
   ]
  },
  {
   "cell_type": "code",
   "execution_count": null,
   "id": "7d371d43-09db-4e25-9c4c-3e84f6991716",
   "metadata": {},
   "outputs": [],
   "source": [
    "# define PID colormap\n",
    "pidmap = np.array([[0.12156862745098039, 0.46666666666666667, 0.70588235294117652, 1.0],\n",
    "              [0.68235294117647061, 0.7803921568627451, 0.90980392156862744, 1.0],\n",
    "              [0.59607843137254901, 0.87450980392156863, 0.54117647058823526, 1.0],\n",
    "              [0.45490196078431372, 0.7686274509803922, 0.46274509803921571, 1.0],\n",
    "              [0.17254901960784313, 0.62745098039215685, 0.17254901960784313, 1.0],\n",
    "              [0.83921568627450982, 0.15294117647058825, 0.15686274509803921, 1.0],\n",
    "              [1.0, 0.59607843137254901, 0.58823529411764708, 1.0],\n",
    "              [1.0, 0.49803921568627452, 0.054901960784313725, 1.0],\n",
    "              [1.0, 0.73333333333333328, 0.47058823529411764, 1.0],\n",
    "              [0.61960784313725492, 0.85490196078431369, 0.89803921568627454, 1.0],\n",
    "              [0.090196078431372548, 0.74509803921568629, 0.81176470588235294, 1.0],\n",
    "              [0.61176470588235299, 0.61960784313725492, 0.87058823529411766, 1.0],\n",
    "              [0.32156862745098042, 0.32941176470588235, 0.63921568627450975, 1.0],\n",
    "              [0.859375, 0.859375, 0.859375, 1.0],\n",
    "              [0.66015625, 0.66015625, 0.66015625, 1.0],\n",
    "              [0.41015625, 0.41015625, 0.41015625, 1.0],\n",
    "              [0.0, 0.0, 0.0, 1.0],],'f')\n",
    "my_cmap2 = colors.ListedColormap(pidmap, name='ncar_pid')\n"
   ]
  },
  {
   "cell_type": "code",
   "execution_count": null,
   "id": "470ba92b",
   "metadata": {
    "tags": []
   },
   "outputs": [],
   "source": [
    "# Read CfRadial file into radar object\n",
    "filePathRate = os.path.join(nexradDataDir, \"cfradial/rate/KGLD/20210706/cfrad.20210706_220003.963_to_20210706_220439.770_KGLD_SUR.nc\")\n",
    "rate_kgld = pyart.io.read_cfradial(filePathRate)\n",
    "rate_kgld.info('compact')"
   ]
  },
  {
   "cell_type": "code",
   "execution_count": null,
   "id": "df337ade",
   "metadata": {
    "tags": []
   },
   "outputs": [],
   "source": [
    "# Plot results of RadxRate\n",
    "\n",
    "displayRate = pyart.graph.RadarDisplay(rate_kgld)\n",
    "figRate = plt.figure(1, (12, 10))\n",
    "\n",
    "# DBZ (input)\n",
    "\n",
    "axDbz = figRate.add_subplot(221)\n",
    "displayRate.plot_ppi('DBZ', 0, vmin=-32, vmax=64.,\n",
    "                    axislabels=(\"x(km)\", \"y(km)\"),\n",
    "                    colorbar_label=\"DBZ\")\n",
    "displayRate.plot_range_rings([50, 100, 150, 200])\n",
    "displayRate.plot_cross_hair(200.)\n",
    "\n",
    "# KDP (computed)\n",
    "\n",
    "axKdp = figRate.add_subplot(222)\n",
    "displayRate.plot_ppi('KDP', 0, vmin=0, vmax=2.,\n",
    "    axislabels=(\"x(km)\", \"y(km)\"),\n",
    "    colorbar_label=\"KDP (deg/km)\",\n",
    "    cmap=\"nipy_spectral)\n",
    "displayRate.plot_range_rings([50, 100, 150, 200])\n",
    "displayRate.plot_cross_hair(200.)\n",
    "\n",
    "# RATE_HYBRID (computed)\n",
    "\n",
    "axHybrid = figRate.add_subplot(223)\n",
    "displayRate.plot_ppi('RATE_HYBRID', 0, vmin=0, vmax=50.,\n",
    "    axislabels=(\"x(km)\", \"y(km)\"),\n",
    "    colorbar_label=\"RATE_HYBRID(mm/hr)\",\n",
    "    cmap = \"pyart_RRate11\")\n",
    "displayRate.plot_range_rings([50, 100, 150, 200])\n",
    "displayRate.plot_cross_hair(200.)\n",
    "\n",
    "# NCAR PID (computed)\n",
    "\n",
    "axPID = figRate.add_subplot(224)\n",
    "displayRate.plot_ppi('PID', 0,\n",
    "    axislabels=(\"x(km)\", \"y(km)\"),\n",
    "    colorbar_label=\"PID\",\n",
    "    cmap = my_cmap2)\n",
    "displayRate.plot_range_rings([50, 100, 150, 200])\n",
    "displayRate.plot_cross_hair(200.)\n",
    "\n",
    "pid_cbar = displayRate.cbs[3]\n",
    "pid_cbar.set_ticks([1,2,3,4,5,6,7,8,9,10,11,12,13,14,15,16,17])\n",
    "pid_cbar.set_ticklabels(['cld-drops', 'drizzle', 'lt-rain', 'mod-rain', 'hvy-rain', 'hail', 'rain/hail', 'sm-hail', 'gr/rain', 'dry-snow', 'wet-snow', 'ice', 'irreg-ice', 'slw', 'insects', '2nd-trip', 'clutter'])\n",
    "\n",
    "figRate.tight_layout()\n",
    "\n",
    "plt.show()"
   ]
  },
  {
   "cell_type": "markdown",
   "id": "b6ac4f76",
   "metadata": {},
   "source": [
    "## Convert CfRadial polar files to Cartesian"
   ]
  },
  {
   "cell_type": "code",
   "execution_count": null,
   "id": "5493dc86",
   "metadata": {
    "scrolled": true,
    "tags": []
   },
   "outputs": [],
   "source": [
    "# Run Radx2Grid for 3 NEXRAD radars\n",
    "\n",
    "for radar_name in ['KGLD', 'KUEX', 'KDDC']:\n",
    "    # Set radar in name environment variable\n",
    "    os.environ['RADAR_NAME'] = radar_name\n",
    "    # Run RadxRate using param file\n",
    "    !Radx2Grid -params $BASE_DIR/params/ecco/Radx2Grid.rate -debug -start \"2021 07 06 22 00 00\" -end \"2021 07 06 22 30 00\""
   ]
  },
  {
   "cell_type": "markdown",
   "id": "b0652028",
   "metadata": {},
   "source": [
    "## List files created by Radx2Grid"
   ]
  },
  {
   "cell_type": "code",
   "execution_count": null,
   "id": "5247b42a",
   "metadata": {
    "tags": []
   },
   "outputs": [],
   "source": [
    "# List the Cartesian files created by Radx2Grid\n",
    "!ls -R ${NEXRAD_DATA_DIR}/mdv/radarCart/K*/2*"
   ]
  },
  {
   "cell_type": "markdown",
   "id": "67c2cadb",
   "metadata": {},
   "source": [
    "## Merge Cartesian files into mosaic, using MdvMerge2"
   ]
  },
  {
   "cell_type": "code",
   "execution_count": null,
   "id": "4aa8a835",
   "metadata": {
    "scrolled": true,
    "tags": []
   },
   "outputs": [],
   "source": [
    "# Run MdvMerge2 to merrge the Cart data from 3 radars into a mosaic\n",
    "!MdvMerge2 -params $BASE_DIR/params/ecco/MdvMerge2.mosaic -start \"2021 07 06 22 00 00\" -end \"2021 07 06 22 30 00\" -debug"
   ]
  },
  {
   "cell_type": "code",
   "execution_count": null,
   "id": "a1992c17",
   "metadata": {
    "tags": []
   },
   "outputs": [],
   "source": [
    "# List the mosaic files created by MdvMerge2\n",
    "!ls -R ${NEXRAD_DATA_DIR}/mdv/radarCart/mosaic/2*"
   ]
  },
  {
   "cell_type": "markdown",
   "id": "4c7abd61",
   "metadata": {},
   "source": [
    "## Read in file from radar mosaic"
   ]
  },
  {
   "cell_type": "code",
   "execution_count": null,
   "id": "2f44f6b0",
   "metadata": {
    "tags": []
   },
   "outputs": [],
   "source": [
    "# Read in example radar mosaic for a single time\n",
    "\n",
    "filePathMosaic = os.path.join(nexradDataDir, 'mdv/radarCart/mosaic/20210706/20210706_221500.mdv.cf.nc')\n",
    "dsMosaic = nc.Dataset(filePathMosaic)\n",
    "print(\"Radar mosaic file path: \", filePathMosaic)\n",
    "print(\"Radar mosaic data set: \", dsMosaic)\n",
    "\n",
    "# Compute time\n",
    "\n",
    "uTimeSecs = dsMosaic['start_time'][0]\n",
    "startTime = datetime.datetime.fromtimestamp(int(uTimeSecs))\n",
    "startTimeStr = startTime.strftime('%Y/%m/%d-%H:%M:%S UTC')\n",
    "print(\"Start time: \", startTimeStr)\n",
    "\n",
    "# print(dsMosaic['DBZ'])\n",
    "#for dim in dsMosaic.dimensions.values():\n",
    "#    print(dim)\n",
    "#for var in dsMosaic.variables.values():\n",
    "#    print(\"========================================\")\n",
    "#    print(var)\n",
    "#    print(\"========================================\")\n",
    "\n",
    "# create 3D dbz array with nans for missing vals\n",
    "\n",
    "dsDbz = dsMosaic['DBZ']\n",
    "dbz3D = np.array(dsDbz)\n",
    "fillValue = dsDbz._FillValue\n",
    "# print(\"fillValue: \", fillValue)\n",
    "\n",
    "# if 4D (i.e. time is dim0) change to 3D\n",
    "\n",
    "if (len(dbz3D.shape) == 4):\n",
    "    dbz3D = dbz3D[0]\n",
    "\n",
    "# Compute mosaic grid limits\n",
    "\n",
    "(nZMosaic, nYMosaic, nXMosaic) = dbz3D.shape\n",
    "lon = np.array(dsMosaic['x0'])\n",
    "lat = np.array(dsMosaic['y0'])\n",
    "ht = np.array(dsMosaic['z0'])\n",
    "dLonMosaic = lon[1] - lon[0]\n",
    "dLatMosaic = lat[1] - lat[0]\n",
    "minLonMosaic = lon[0] - dLonMosaic / 2.0\n",
    "maxLonMosaic = lon[-1] + dLonMosaic / 2.0\n",
    "minLatMosaic = lat[0] - dLatMosaic / 2.0\n",
    "maxLatMosaic = lat[-1] + dLatMosaic / 2.0\n",
    "minHtMosaic = ht[0]\n",
    "maxHtMosaic = ht[-1]\n",
    "\n",
    "print(\"minLonMosaic, maxLonMosaic: \", minLonMosaic, maxLonMosaic)\n",
    "print(\"minLatMosaic, maxLatMosaic: \", minLatMosaic, maxLatMosaic)\n",
    "print(\"minHt, maxHt: \", minHtMosaic, maxHtMosaic)\n",
    "print(\"hts: \", ht)\n",
    "del lon, lat, ht\n",
    "\n",
    "# Compute column-max reflectivity\n",
    "\n",
    "dbzPlaneMax = np.amax(dbz3D, (0))\n",
    "dbzPlaneMax[dbzPlaneMax == fillValue] = np.nan\n",
    "\n",
    "print(\"Shape of composite DBZ grid: \", dbzPlaneMax.shape)\n",
    "#print(dbzPlaneMax[dbzPlaneMax != np.nan])\n",
    "#print(np.min(dbzPlaneMax[dbzPlaneMax != np.nan]))\n",
    "#print(np.max(dbzPlaneMax))\n"
   ]
  },
  {
   "cell_type": "markdown",
   "id": "376da301",
   "metadata": {},
   "source": [
    "### Create map for Cartesian grid plotting"
   ]
  },
  {
   "cell_type": "code",
   "execution_count": null,
   "id": "895b9db7",
   "metadata": {
    "tags": []
   },
   "outputs": [],
   "source": [
    "# Create map for plotting lat/lon grids\n",
    "def new_map(fig):\n",
    "    \n",
    "    ## Create projection centered on data\n",
    "    proj = ccrs.PlateCarree()\n",
    "\n",
    "    ## New axes with the specified projection:\n",
    "    ax = fig.add_subplot(1, 1, 1, projection=proj)\n",
    "    \n",
    "    ## Set extent the same as radar mosaic\n",
    "    ax.set_extent([minLonMosaic, maxLonMosaic, minLatMosaic, maxLatMosaic])\n",
    "\n",
    "    ## Add grid lines & labels:\n",
    "    gl = ax.gridlines( crs=ccrs.PlateCarree()\n",
    "                     , draw_labels=True\n",
    "                     , linewidth=1\n",
    "                     , color='lightgray'\n",
    "                     , alpha=0.5, linestyle='--'\n",
    "                     ) \n",
    "    gl.top_labels = False\n",
    "    gl.left_labels = True\n",
    "    gl.right_labels = False\n",
    "    gl.xlines = True\n",
    "    gl.ylines = True\n",
    "    gl.xformatter = LONGITUDE_FORMATTER\n",
    "    gl.yformatter = LATITUDE_FORMATTER\n",
    "    gl.xlabel_style = {'size': 8, 'weight': 'bold'}\n",
    "    gl.ylabel_style = {'size': 8, 'weight': 'bold'}\n",
    "    \n",
    "    return ax"
   ]
  },
  {
   "cell_type": "markdown",
   "id": "b92dc28f",
   "metadata": {},
   "source": [
    "### Plot column-max reflectivity in plan view, and a N/S and W/E cross section of reflectivity"
   ]
  },
  {
   "cell_type": "code",
   "execution_count": null,
   "id": "c3d9b6c0",
   "metadata": {
    "tags": []
   },
   "outputs": [],
   "source": [
    "# Plot column-max reflectivity\n",
    "figDbzComp = plt.figure(figsize=(8, 8), dpi=150)\n",
    "axDbzComp = new_map(figDbzComp)\n",
    "plt.imshow(dbzPlaneMax,\n",
    "            cmap='pyart_Carbone42',\n",
    "            interpolation = 'bilinear',\n",
    "            origin = 'lower',\n",
    "            extent = (minLonMosaic, maxLonMosaic, minLatMosaic, maxLatMosaic))\n",
    "axDbzComp.add_feature(cfeature.BORDERS, linewidth=0.5, edgecolor='black')\n",
    "axDbzComp.add_feature(cfeature.STATES, linewidth=0.3, edgecolor='brown')\n",
    "#axDbzComp.coastlines('10m', 'darkgray', linewidth=1, zorder=0)\n",
    "plt.colorbar(label=\"DBZ\", orientation=\"vertical\", shrink=0.5)\n",
    "plt.title(\"Radar mosaic column-max DBZ: \" + startTimeStr)"
   ]
  },
  {
   "cell_type": "code",
   "execution_count": null,
   "id": "4eb7d3d3",
   "metadata": {
    "tags": []
   },
   "outputs": [],
   "source": [
    "# Compute W-E DBZ vertical section\n",
    "nYHalfMosaic = int(nYMosaic/2)\n",
    "dbzVertWE = dbz3D[:, nYHalfMosaic:(nYHalfMosaic+1), :]\n",
    "dbzVertWE = dbzVertWE.reshape(dbzVertWE.shape[0], dbzVertWE.shape[2])\n",
    "print('dbzVertWE.shape: ', dbzVertWE.shape)\n",
    "dbzVertWE[dbzVertWE == fillValue] = np.nan\n",
    "dbzVertWEMax = np.amax(dbz3D, axis=1)\n",
    "dbzVertWEMax[dbzVertWEMax == fillValue] = np.nan\n",
    "print('dbzVertWEMax.shape: ', dbzVertWEMax.shape)\n",
    "\n",
    "# Compute DBZ N-S vertical section\n",
    "nXHalfMosaic = int(nXMosaic/2)\n",
    "dbzVertNS = dbz3D[:, :, nXHalfMosaic:(nXHalfMosaic+1)]\n",
    "dbzVertNS = dbzVertNS.reshape(dbzVertNS.shape[0], dbzVertNS.shape[1])\n",
    "dbzVertNS[dbzVertNS == fillValue] = np.nan\n",
    "print('dbzVertNS.shape: ', dbzVertNS.shape)\n",
    "dbzVertNSMax = np.amax(dbz3D, axis=2)\n",
    "dbzVertNSMax[dbzVertNSMax == fillValue] = np.nan\n",
    "print('dbzVertNSMax.shape: ', dbzVertNSMax.shape)\n"
   ]
  },
  {
   "cell_type": "code",
   "execution_count": null,
   "id": "00c09a1c",
   "metadata": {
    "tags": []
   },
   "outputs": [],
   "source": [
    "# Plot mid W-E DBZ vertical section\n",
    "\n",
    "fig2 = plt.figure(num=2, figsize=[12, 8], layout='constrained')\n",
    "ax2a = fig2.add_subplot(211, xlim = (minLonMosaic, maxLonMosaic), ylim = (minHtMosaic, maxHtMosaic))\n",
    "plt.imshow(dbzVertWE,\n",
    "    cmap='pyart_HomeyerRainbow',\n",
    "    interpolation = 'bilinear',\n",
    "    origin = 'lower',\n",
    "    extent = (minLonMosaic, maxLonMosaic, minHtMosaic, maxHtMosaic))\n",
    "ax2a.set_aspect(0.15)\n",
    "ax2a.set_xlabel('Longitude (deg)')\n",
    "ax2a.set_ylabel('Height (km)')\n",
    "plt.title(\"Vert slice mid W-E DBZ: \" + startTimeStr)\n",
    "\n",
    "# Plot mid N-S DBZ vertical section\n",
    "\n",
    "ax2b = fig2.add_subplot(212, xlim = (minLatMosaic, maxLatMosaic), ylim = (minHtMosaic, maxHtMosaic))\n",
    "plt.imshow(dbzVertNS,\n",
    "    cmap='pyart_HomeyerRainbow',\n",
    "    interpolation = 'bilinear',\n",
    "    origin = 'lower',\n",
    "    extent = (minLatMosaic, maxLatMosaic, minHtMosaic, maxHtMosaic))\n",
    "ax2b.set_aspect(0.15)\n",
    "ax2b.set_xlabel('Latitude (deg)')\n",
    "ax2b.set_ylabel('Height (km)')\n",
    "plt.title(\"Vert slice mid NS DBZ: \" + startTimeStr)\n",
    "\n",
    "plt.colorbar(label=\"DBZ\", orientation=\"horizontal\", fraction=0.1)"
   ]
  },
  {
   "cell_type": "markdown",
   "id": "d0b71e8e",
   "metadata": {},
   "source": [
    "### View the Ecco parameter file\n",
    "\n",
    "The paths of the input files, and the output results file, are specified in the parameters.\n",
    "\n",
    "Also included are all of the parameters used to control the algorithm.\n"
   ]
  },
  {
   "cell_type": "code",
   "execution_count": null,
   "id": "f44d69ad",
   "metadata": {
    "scrolled": true,
    "tags": []
   },
   "outputs": [],
   "source": [
    "# View the param file\n",
    "!cat $BASE_DIR/params/ecco/Ecco.nexrad_mosaic"
   ]
  },
  {
   "cell_type": "markdown",
   "id": "f3377cf7-ec6d-46f4-bf9b-5408a2ab32d6",
   "metadata": {},
   "source": [
    "### Parameters modified in this tutorial\n",
    "\n",
    "For the sake of time, we have pre-filled the parameter file for you. The modified parameters, as compared to the default options, are listed in the table below.\n",
    "\n",
    "<i>**Note: NEXRAD_DATA_DIR in the table should be $(NEXRAD_DATA_DIR).**</i>\n",
    "\n",
    "| Parameter | Line # | Description | Parameter in this tutorial |\n",
    "| --- | --- | --- | --- |\n",
    "|input_url| 91 |Path to input data, if not specified on the command line.| \"NEXRAD_DATA_DIR/mdv/radarCart/mosaic\" |\n",
    "|dbz_field_name| 99 |Name of the reflectivity field.| \"DBZ\" |\n",
    "|min_valid_volume_for_convective| 258 |Min volume of a convective region (km^3).| 20 |\n",
    "|min_vert_extent_for_convective| 273 |Min vertical echo extent of convective region (km).| 3 |\n",
    "|vert_levels_type| 499 |Field for specifying vertical levels (temperature or height). Temp requires model soundings.| VERT_LEVELS_BY_TEMP |\n",
    "|temp_profile_url| 510 |Path to temperature profile data (MDV/NetCDF).| \"NEXRAD_DATA_DIR/mdv/ruc\" |\n",
    "|temp_profile_field_name| 519 |Name of temperature field (deg C).| \"TMP\" |\n",
    "|deep_threshold_temp| 552 |Deep cloud temperature threshold.| -25 |\n",
    "|shallow_threshold_ht| 563 |Shallow cloud height threshold if temperature is not available (km).| 4 |\n",
    "|output_url| 677 |Path where output files will be written.| \"NEXRAD_DATA_DIR/mdv/ecco/mosaic\" |\n",
    "|write_height_grids| 767 |Specify whether to write out 2D field showing shallow and deep heights.| FALSE |\n"
   ]
  },
  {
   "cell_type": "markdown",
   "id": "7e9b8125",
   "metadata": {},
   "source": [
    "### Run Ecco\n",
    "\n",
    "Ecco computes the convective/stratiform partition using radar reflectivity in Cartesian coordinates.\n",
    "\n",
    "We run Ecco by specifying the parameter file, and the start and end times for the analysis."
   ]
  },
  {
   "cell_type": "code",
   "execution_count": null,
   "id": "d48d1d4d",
   "metadata": {
    "scrolled": true,
    "tags": []
   },
   "outputs": [],
   "source": [
    "# Run Ecco using param file\n",
    "!Ecco -params $BASE_DIR/params/ecco/Ecco.nexrad_mosaic -debug -start \"2021 07 06 22 00 00\" -end \"2021 07 06 22 30 00\""
   ]
  },
  {
   "cell_type": "markdown",
   "id": "a6ade643",
   "metadata": {},
   "source": [
    "### Read in Ecco results for a selected time"
   ]
  },
  {
   "cell_type": "code",
   "execution_count": null,
   "id": "dee213c5",
   "metadata": {
    "tags": []
   },
   "outputs": [],
   "source": [
    "# Read in ecco results for a selected time\n",
    "filePathEcco = os.path.join(nexradDataDir, 'mdv/ecco/mosaic/20210706/20210706_221500.mdv.cf.nc')\n",
    "dsEcco = nc.Dataset(filePathEcco)\n",
    "print(dsEcco)\n",
    "\n",
    "# create 3D ecco type array with nans for missing vals\n",
    "\n",
    "eccoField = dsEcco['EchoType3D']\n",
    "ecco3D = np.array(eccoField)\n",
    "fillValue = eccoField._FillValue\n",
    "print(\"fillValue: \", fillValue)\n",
    "print(\"ecco3D.shape: \", ecco3D.shape)\n",
    "\n",
    "# if 4D (i.e. time is dim0) change to 3D\n",
    "if (len(ecco3D.shape) == 4):\n",
    "    ecco3D = ecco3D[0]\n",
    "\n",
    "# Compute Ecco grid limits\n",
    "(nZEcco, nYEcco, nXEcco) = ecco3D.shape\n",
    "lon = np.array(dsEcco['x0'])\n",
    "lat = np.array(dsEcco['y0'])\n",
    "ht = np.array(dsEcco['z2'])\n",
    "dLonEcco = lon[1] - lon[0]\n",
    "dLatEcco = lat[1] - lat[0]\n",
    "minLonEcco = lon[0] - dLonEcco / 2.0\n",
    "maxLonEcco = lon[-1] + dLonEcco / 2.0\n",
    "minLatEcco = lat[0] - dLatEcco / 2.0\n",
    "maxLatEcco = lat[-1] + dLatEcco / 2.0\n",
    "minHtEcco = ht[0]\n",
    "maxHtEcco = ht[-1]\n",
    "print(\"minLonEcco, maxLonEcco: \", minLonEcco, maxLonEcco)\n",
    "print(\"minLatEcco, maxLatEcco: \", minLatEcco, maxLatEcco)\n",
    "print(\"minHt, maxHt: \", minHtEcco, maxHtEcco)\n",
    "print(\"ht: \", ht)\n",
    "del lon, lat, ht"
   ]
  },
  {
   "cell_type": "markdown",
   "id": "504d0204",
   "metadata": {},
   "source": [
    "### Compute the column-max of the Ecco 3-D results "
   ]
  },
  {
   "cell_type": "code",
   "execution_count": null,
   "id": "3851cb4c",
   "metadata": {
    "tags": []
   },
   "outputs": [],
   "source": [
    "# Compute column-max echo type\n",
    "eccoPlaneMax = np.amax(ecco3D, (0))\n",
    "eccoPlaneMax[eccoPlaneMax == fillValue] = np.nan\n",
    "print(eccoPlaneMax.shape)\n",
    "print(eccoPlaneMax[~np.isnan(eccoPlaneMax)])\n",
    "print(np.nanmin(eccoPlaneMax[eccoPlaneMax != np.nan]))\n",
    "print(np.nanmax(eccoPlaneMax))"
   ]
  },
  {
   "cell_type": "markdown",
   "id": "438b696d",
   "metadata": {},
   "source": [
    "### Plot the column max of the Ecco results"
   ]
  },
  {
   "cell_type": "code",
   "execution_count": null,
   "id": "ec9f964e",
   "metadata": {
    "tags": []
   },
   "outputs": [],
   "source": [
    "# Plot column-max ecco\n",
    "figEcco = plt.figure(figsize=(8, 8), dpi=150)\n",
    "axEcco = new_map(figEcco)\n",
    "plt.imshow(eccoPlaneMax,\n",
    "            cmap='rainbow', vmin=12, vmax=40,\n",
    "            interpolation = 'bilinear',\n",
    "            origin = 'lower',\n",
    "            extent = (minLonEcco, maxLonEcco, minLatEcco, maxLatEcco))\n",
    "axEcco.add_feature(cfeature.BORDERS, linewidth=0.5, edgecolor='black')\n",
    "axEcco.add_feature(cfeature.STATES, linewidth=0.3, edgecolor='brown')\n",
    "cbarEcco = plt.colorbar(label=\"Echo type\", cax=None, orientation=\"vertical\", shrink=0.6)\n",
    "cbarEcco.set_ticks([14,16,18,25,32,34,36,38],\n",
    "                   labels=['StratLowLow', 'StratMid', 'StratHigh', 'Mixed',\n",
    "                           'ConvElev', 'ConvLow', 'ConvMid', 'ConvDeep'])\n",
    "\n",
    "plt.title(\"Column max of Echo Type for radar mosaic: \" + startTimeStr)\n"
   ]
  },
  {
   "cell_type": "markdown",
   "id": "d809ca0c",
   "metadata": {},
   "source": [
    "## Plot vertical sections for Echo Type"
   ]
  },
  {
   "cell_type": "code",
   "execution_count": null,
   "id": "2a831174",
   "metadata": {
    "tags": []
   },
   "outputs": [],
   "source": [
    "# Compute W-E Ecco vertical section\n",
    "nYHalfEcco = int(nYEcco/2)\n",
    "eccoVertWE = ecco3D[:, nYHalfEcco:(nYHalfEcco+1), :]\n",
    "eccoVertWE = eccoVertWE.reshape(eccoVertWE.shape[0], eccoVertWE.shape[2])\n",
    "print('eccoVertWE.shape: ', eccoVertWE.shape)\n",
    "eccoVertWE[eccoVertWE == fillValue] = np.nan\n",
    "eccoVertWEMax = np.amax(ecco3D, axis=1)\n",
    "eccoVertWEMax[eccoVertWEMax == fillValue] = np.nan\n",
    "print('eccoVertWEMax.shape: ', eccoVertWEMax.shape)\n",
    "\n",
    "# Compute ecco N-S vertical section\n",
    "nXHalfEcco = int(nXEcco/2)\n",
    "eccoVertNS = ecco3D[:, :, nXHalfEcco:(nXHalfEcco+1)]\n",
    "eccoVertNS = eccoVertNS.reshape(eccoVertNS.shape[0], eccoVertNS.shape[1])\n",
    "eccoVertNS[eccoVertNS == fillValue] = np.nan\n",
    "print('eccoVertNS.shape: ', eccoVertNS.shape)\n",
    "eccoVertNSMax = np.amax(ecco3D, axis=2)\n",
    "eccoVertNSMax[eccoVertNSMax == fillValue] = np.nan\n",
    "print('eccoVertNSMax.shape: ', eccoVertNSMax.shape)\n"
   ]
  },
  {
   "cell_type": "code",
   "execution_count": null,
   "id": "69ad655e",
   "metadata": {
    "tags": []
   },
   "outputs": [],
   "source": [
    "# Plot mid W-E ecco vertical section\n",
    "\n",
    "figEccoVert = plt.figure(num=2, figsize=[12, 8], layout='constrained')\n",
    "axEv1 = figEccoVert.add_subplot(211, xlim = (minLonEcco, maxLonEcco), ylim = (minHtEcco, maxHtEcco))\n",
    "plt.imshow(eccoVertWE,\n",
    "    vmin=12, vmax=40,\n",
    "    cmap='rainbow',\n",
    "    interpolation = 'bilinear',\n",
    "    origin = 'lower',\n",
    "    extent = (minLonEcco, maxLonEcco, minHtEcco, maxHtEcco))\n",
    "axEv1.set_aspect(0.15)\n",
    "axEv1.set_xlabel('Longitude (deg)')\n",
    "axEv1.set_ylabel('Height (km)')\n",
    "plt.title(\"Echo type vert slice mid W-E: \" + startTimeStr)\n",
    "\n",
    "cbar = plt.colorbar(label=\"ecco\", cax=None, orientation=\"vertical\", shrink=1.5)\n",
    "cbar.set_ticks([14,16,18,25,32,34,36,38], labels=['StratLowLow', 'StratMid', 'StratHigh', 'Mixed', 'ConvElev', 'ConvLow', 'ConvMid', 'ConvDeep'])\n",
    "\n",
    "# Plot mid N-S ecco vertical section\n",
    "\n",
    "axEv2 = figEccoVert.add_subplot(212, xlim = (minLatEcco, maxLatEcco), ylim = (minHtEcco, maxHtEcco))\n",
    "plt.imshow(eccoVertNS,\n",
    "    vmin=12, vmax=40,\n",
    "    cmap='rainbow',\n",
    "    interpolation = 'bilinear',\n",
    "    origin = 'lower',\n",
    "    extent = (minLatEcco, maxLatEcco, minHtEcco, maxHtEcco))\n",
    "axEv2.set_aspect(0.15)\n",
    "axEv2.set_xlabel('Latitude (deg)')\n",
    "axEv2.set_ylabel('Height (km)')\n",
    "plt.title(\"Echo type vert slice mid NS: \" + startTimeStr)\n"
   ]
  },
  {
   "cell_type": "code",
   "execution_count": null,
   "id": "634d51c1",
   "metadata": {
    "tags": []
   },
   "outputs": [],
   "source": []
  }
 ],
 "metadata": {
  "kernelspec": {
   "display_name": "Python [conda env:lrosehub]",
   "language": "python",
   "name": "conda-env-lrosehub-py"
  },
  "language_info": {
   "codemirror_mode": {
    "name": "ipython",
    "version": 3
   },
   "file_extension": ".py",
   "mimetype": "text/x-python",
   "name": "python",
   "nbconvert_exporter": "python",
   "pygments_lexer": "ipython3",
   "version": "3.12.8"
  }
 },
 "nbformat": 4,
 "nbformat_minor": 5
}
