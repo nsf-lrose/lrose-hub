{
 "cells": [
  {
   "cell_type": "markdown",
   "id": "5c0b4c02",
   "metadata": {},
   "source": [
    "# Intermediate SAMURAI Tutorial\n",
    "\n",
    "---\n",
    "\n",
    "This interactive tutorial will demonstrate how parameter value choices affect the final SAMURAI analysis. SAMURAI is a variational analysis technique that is described in Bell et al. (2012), Foerster et al. (2014), Foerster and Bell (2017), Cha and Bell (2021), and other publications. The SAMURAI analysis yields a maximum likelihood estimate of the atmospheric state for a given set of observations and error estimates by minimizing a variational cost function. \n",
    "\n",
    "This tutorial will focus on a few scientific parameters in SAMURAI and how they can affect the smoothing, ... .\n",
    "\n",
    "---\n",
    "\n",
    "\n",
    "## Tutorial Overview\n",
    "\n",
    "### 1. Setup \n",
    "\n",
    "#### 1.1 Directory organization \n",
    "\n",
    "<div>\n",
    "<img src=\"../images/wind_guided_structure.png\" width=\"200\"/>\n",
    "</div>\n",
    "\n",
    "#### 1.2 QC-ed input data, parameter files, and center files:\n",
    "\n",
    "**a. Parameter #1: Gaussian filter lengths**\n",
    "* cfrad.20090605_220449.252_to_20090605_220456.362_DOW6_PPI.nc\n",
    "* cfrad.20090605_220450.046_to_20090605_220457.156_DOW7_PPI.nc\n",
    "  \n",
    "**b. Parameter #2: Spline Cutoffs**\n",
    "* cfrad.20090605_220449.252_to_20090605_220456.362_DOW6_PPI.nc\n",
    "* cfrad.20090605_220450.046_to_20090605_220457.156_DOW7_PPI.nc\n",
    "\n",
    "**c. Parameter #3: ???**\n",
    "* cfrad.20090605_220449.252_to_20090605_220456.362_DOW6_PPI.nc\n",
    "* cfrad.20090605_220450.046_to_20090605_220457.156_DOW7_PPI.nc\n",
    "\n",
    "*The QC process is not included in this tutorial. An example of one type of QC can be found in the QC tutorial and HawkEdit/solo are other tools to QC data.\n",
    "\n",
    "\n",
    "For this tutorial, all center files are provided. The parameter files are also filled with most parameters. For these exercises, we will be modifying one or two parameters at a time.\n",
    "\n",
    "#### 1.3 Note on task cells\n",
    "\n",
    "This notebook uses two colored cells to indicate tasks.\n",
    "\n",
    "<div class=\"alert alert-block alert-info\"> <b>File Task: modify the parameter.</b> \n",
    "\n",
    "These text blocks help the user modify the parameter files or other functions in *external* text files.\n",
    "\n",
    "</div>\n",
    "\n",
    "<div class=\"alert alert-block alert-warning\"> <b>Cell Task: run a command.</b> \n",
    "\n",
    "These text blocks instruct the users to run a command *in* a cell within the Jupyter notebook.\n",
    "\n",
    "</div>"
   ]
  },
  {
   "cell_type": "markdown",
   "id": "e132cece",
   "metadata": {},
   "source": [
    "#### 1.4 Environment and packages¶\n",
    "\n",
    "First, we import the required python packages to run this notebook. Most of the LROSE processing can be done with the os package and shell commands. "
   ]
  },
  {
   "cell_type": "code",
   "execution_count": null,
   "id": "d3a4a59f",
   "metadata": {},
   "outputs": [],
   "source": [
    "import os\n",
    "os.environ['BASE_DIR'] = '/home/jovyan/lrose-hub'\n",
    "os.environ['RAW_DIR'] = '/home/jovyan/share/raw'\n",
    "base_dir = os.environ['BASE_DIR']\n",
    "!echo \"Base directory: \" $BASE_DIR"
   ]
  },
  {
   "cell_type": "code",
   "execution_count": null,
   "id": "a79a338b-b190-476a-9135-1930f5b049c6",
   "metadata": {},
   "outputs": [],
   "source": [
    "# import plotting/data packages\n",
    "import matplotlib.pyplot as plt\n",
    "import matplotlib.colors as colors\n",
    "import numpy as np\n",
    "import xarray as xr\n",
    "import matplotlib as mpl\n",
    "import cartopy.crs as ccrs\n",
    "from metpy.plots import ctables\n",
    "from cartopy.mpl.gridliner import LONGITUDE_FORMATTER, LATITUDE_FORMATTER\n",
    "mpl.rcParams['figure.dpi'] = 300"
   ]
  },
  {
   "cell_type": "markdown",
   "id": "66eb1cde",
   "metadata": {},
   "source": [
    "We will copy the required data to one directory as SAMURAI requires and organize the directory by performing the following commands:"
   ]
  },
  {
   "cell_type": "code",
   "execution_count": null,
   "id": "d3288757",
   "metadata": {},
   "outputs": [],
   "source": [
    "# make subdirectory within data for input and output directory\n",
    "!rm -rf ${BASE_DIR}/data/wind_guided/input\n",
    "!mkdir -p ${BASE_DIR}/data/wind_guided/input\n",
    "\n",
    "# create samurai output directory\n",
    "!rm -rf ${BASE_DIR}/data/wind_guided/output_sam\n",
    "!mkdir -p ${BASE_DIR}/data/wind_guided/output_sam\n",
    "\n",
    "# copy raw files to input directory\n",
    "!cp ${RAW_DIR}/wind_guided/*.nc ${BASE_DIR}/data/wind_guided/input\n",
    "!cp ${RAW_DIR}/wind_guided/Generate_center.pl ${BASE_DIR}/params/wind_guided\n"
   ]
  },
  {
   "cell_type": "markdown",
   "id": "349155d8",
   "metadata": {},
   "source": [
    "### 2. SAMURAI Parameter #1: Gaussian Filter Lengths \n",
    "\n",
    "#### 2.1 Gaussian filter background\n",
    "This parameter...\n",
    "\n",
    "These numbers set the Gaussian recursive filter length scale in gridpoints. If set to ‘-1’, the recursive filter is turned off for the given dimension. The minimum recommended value is 2.0, with higher values corresponding to larger spatial influence of the observations. Higher values also result in a smoother analysis.\n",
    "\n",
    "| Parameter | Description |\n",
    "| --- | --- |\n",
    "|i_filter_length, j_filter_length, k_filter_length|Filter lengths for each dimension, where the units are grid points.|\n",
    "\n",
    "<div class=\"alert alert-block alert-info\"> <b>File Task: modify the parameter.</b> \n",
    "\n",
    "Using either the navigation menu on the left or the terminal (click the + button, choose the terminal under Other), open the parameter file (...) and find the line with the parameter. In the text file, use ⌘+f or Ctrl+F, depending on your computer. In the terminal using vi, you can search for strings in the command mode by typing \"/\" followed by the string.\n",
    "\n",
    "The values we will test in this section are the following:\n",
    "\n",
    "...\n",
    "\n",
    "\n",
    "</div>\n"
   ]
  },
  {
   "cell_type": "markdown",
   "id": "cff92daf",
   "metadata": {},
   "source": [
    "#### 2.2 Run SAMURAI\n",
    "\n",
    "<div class=\"alert alert-block alert-warning\"> <b>Cell Task: run SAMURAI.</b> \n",
    "\n",
    "Run SAMURAI in the cell below with the modified parameter file by using the *-params* flag.\n",
    "\n",
    "</div>\n",
    "\n",
    "\n"
   ]
  },
  {
   "cell_type": "code",
   "execution_count": null,
   "id": "7bbac4e9",
   "metadata": {
    "scrolled": true,
    "tags": []
   },
   "outputs": [],
   "source": [
    "# uncomment the line below to run\n",
    "# !samurai -params ${BASE_DIR}/params/intermediate_samurai/samurai_params_\n"
   ]
  },
  {
   "cell_type": "markdown",
   "id": "d9acd9aa",
   "metadata": {},
   "source": [
    "#### 2.3 Plot SAMURAI results"
   ]
  },
  {
   "cell_type": "markdown",
   "id": "508ce841",
   "metadata": {},
   "source": [
    "#### Load the NetCDF file"
   ]
  },
  {
   "cell_type": "code",
   "execution_count": null,
   "id": "b7775435",
   "metadata": {
    "scrolled": true,
    "tags": []
   },
   "outputs": [],
   "source": [
    "inDir_s = base_dir+\"/data/wind_guided/output_sam/\"\n",
    "file_s = \"samurai_XYZ_analysis.nc\"\n",
    "ds_radar_s = xr.open_dataset(inDir_s+file_s).squeeze()\n",
    "ds_radar_s.load()"
   ]
  },
  {
   "cell_type": "markdown",
   "id": "df985485-4a64-4541-a14e-7540f84d6063",
   "metadata": {},
   "source": [
    "#### Let's use a function to shorten the code."
   ]
  },
  {
   "cell_type": "code",
   "execution_count": null,
   "id": "a3dba253-25ad-4179-98e9-613d56975c38",
   "metadata": {},
   "outputs": [],
   "source": [
    "def plot_samurai(plotting_lon_s, plotting_lat_s, plotting_var_s, plotting_var_u_s, plotting_var_v_s, ref_cmap, ref_norm, step=4):\n",
    "    fig = plt.figure(figsize=(12,12))\n",
    "    ax = plt.axes(projection=ccrs.PlateCarree())\n",
    "           \n",
    "    cf1 = ax.pcolormesh( plotting_lon_s, plotting_lat_s, plotting_var_s\n",
    "                        , cmap=ref_cmap, norm=ref_norm\n",
    "                        , alpha=0.8, shading='auto'\n",
    "                        , transform=ccrs.PlateCarree() \n",
    "                        )\n",
    "    cf_q = ax.quiver( plotting_lon_s[::step], plotting_lat_s[::step]\n",
    "                        , plotting_var_u_s[::step, ::step], plotting_var_v_s[::step, ::step]\n",
    "                        , scale=1000, width=0.004\n",
    "                        , color='k'\n",
    "                        , transform=ccrs.PlateCarree() \n",
    "                        )\n",
    "    \n",
    "    gl = ax.gridlines(crs=ccrs.PlateCarree(), draw_labels=True,\n",
    "                      linewidth=2, color='gray', alpha=0.5, linestyle='--')\n",
    "    gl.top_labels = False\n",
    "    gl.right_labels = False\n",
    "    gl.xformatter = LONGITUDE_FORMATTER\n",
    "    gl.yformatter = LATITUDE_FORMATTER\n",
    "    \n",
    "    cbar_ax = fig.add_axes([0.95, 0.3, 0.02, 0.4])\n",
    "    cbar = fig.colorbar(cf1, cax=cbar_ax, fraction=0.04)\n",
    "    cbar.ax.tick_params(labelsize=14)\n",
    "    cbar.ax.set_title('[dBZ]', fontsize=14, y=-0.1)"
   ]
  },
  {
   "cell_type": "code",
   "execution_count": null,
   "id": "c42ac87c",
   "metadata": {},
   "outputs": [],
   "source": [
    "## Set NWS reflectivity colorbar:\n",
    "ref_norm, ref_cmap = ctables.registry.get_with_steps('NWSStormClearReflectivity', -20, 0.5)\n",
    "plotting_alt=1.5 # altitude at 1.5 km\n",
    "plotting_var_s = ds_radar_s.DBZ.sel(altitude=plotting_alt)\n",
    "plotting_var_u_s = ds_radar_s.U.sel(altitude=plotting_alt).data\n",
    "plotting_var_v_s = ds_radar_s.V.sel(altitude=plotting_alt).data\n",
    "plotting_lon_s = ds_radar_s.longitude\n",
    "plotting_lat_s = ds_radar_s.latitude\n",
    "\n",
    "plot_samurai(plotting_lon_s, plotting_lat_s, plotting_var_s, plotting_var_u_s, plotting_var_v_s, ref_cmap, ref_norm, 4)\n"
   ]
  },
  {
   "cell_type": "code",
   "execution_count": null,
   "id": "2ea54fb7-425d-4ee3-9c9c-3a4615585aa2",
   "metadata": {},
   "outputs": [],
   "source": []
  },
  {
   "cell_type": "markdown",
   "id": "f4aa16fa-b97f-49af-88c2-3c234954bb3f",
   "metadata": {},
   "source": [
    "### 3. SAMURAI Parameter #2: Spline Cutoffs\n",
    "\n",
    "#### 3.1 Spline Cutoff background\n",
    "This parameter...\n",
    "\n",
    "These numbers set the spline cutoff length scale in gridpoints. See Ooyama (2002) for a discussion of the spline cutoff length. The recommended value is 2.0.\n",
    "\n",
    "Reference: \n",
    "\n",
    "Ooyama, K. V., 2002: The Cubic-Spline Transform Method: Basic Definitions and Tests in a 1D Single Domain. Mon. Wea. Rev., 130, 2392–2415, [link](https://doi.org/10.1175/1520-0493(2002)130<2392:TCSTMB>2.0.CO;2).\n",
    "\n",
    "| Parameter | Description |\n",
    "| --- | --- |\n",
    "|i_spline_cutoff, j_spline_cutoff, k_spline_cutoff|Spline cutoff length scale in grid points.|\n",
    "\n",
    "<div class=\"alert alert-block alert-info\"> <b>File Task: modify the parameter.</b> \n",
    "\n",
    "Using either the navigation menu on the left or the terminal (click the + button, choose the terminal under Other), open the parameter file (...) and find the line with the parameter. In the text file, use ⌘+f or Ctrl+F, depending on your computer. In the terminal using vi, you can search for strings in the command mode by typing \"/\" followed by the string.\n",
    "\n",
    "The values we will test in this section are the following:\n",
    "\n",
    "...\n",
    "\n",
    "\n",
    "</div>\n"
   ]
  },
  {
   "cell_type": "markdown",
   "id": "f8198f5d-b6bf-451d-94f0-1371115f2980",
   "metadata": {},
   "source": [
    "#### 3.2 Run SAMURAI\n",
    "\n",
    "<div class=\"alert alert-block alert-warning\"> <b>Cell Task: run SAMURAI.</b> \n",
    "\n",
    "Run SAMURAI in the cell below with the modified parameter file by using the *-params* flag.\n",
    "\n",
    "</div>\n",
    "\n",
    "\n"
   ]
  },
  {
   "cell_type": "code",
   "execution_count": null,
   "id": "7c397f8a-ce36-4769-bcd7-0c1945bf2b94",
   "metadata": {},
   "outputs": [],
   "source": [
    "# uncomment the line below to run\n",
    "# !samurai -params ${BASE_DIR}/params/intermediate_samurai/samurai_params_\n"
   ]
  },
  {
   "cell_type": "markdown",
   "id": "061392e7-4241-4ab5-93c1-8bb6a6d9068e",
   "metadata": {},
   "source": [
    "#### 3.3 Plot SAMURAI results"
   ]
  },
  {
   "cell_type": "markdown",
   "id": "6a0d1666-49f1-4f01-b311-98452105f48a",
   "metadata": {},
   "source": [
    "#### Load the NetCDF file"
   ]
  },
  {
   "cell_type": "code",
   "execution_count": null,
   "id": "c2e465e9-4eae-48a1-81bb-fa3eb0f52388",
   "metadata": {
    "scrolled": true,
    "tags": []
   },
   "outputs": [],
   "source": [
    "inDir_s_2 = base_dir+\"/data/wind_guided/output_sam/\"\n",
    "file_s_2 = \"samurai_XYZ_analysis.nc\"\n",
    "ds_radar_s_2 = xr.open_dataset(inDir_s_2+file_s_2).squeeze()\n",
    "ds_radar_s_2.load()"
   ]
  },
  {
   "cell_type": "markdown",
   "id": "474e52b4-ad1e-456d-9b5c-77b999cdd363",
   "metadata": {},
   "source": [
    "#### Plot the output at 1.5 km altitude"
   ]
  },
  {
   "cell_type": "code",
   "execution_count": null,
   "id": "f8d542ad-25a5-4e7e-add1-23efbea63354",
   "metadata": {},
   "outputs": [],
   "source": [
    "plotting_alt=1.5 # altitude at 1.5 km\n",
    "plotting_var_s_2 = ds_radar_s_2.DBZ.sel(altitude=plotting_alt)\n",
    "plotting_var_u_s_2 = ds_radar_s_2.U.sel(altitude=plotting_alt).data\n",
    "plotting_var_v_s_2 = ds_radar_s_2.V.sel(altitude=plotting_alt).data\n",
    "plotting_lon_s_2 = ds_radar_s_2.longitude\n",
    "plotting_lat_s_2 = ds_radar_s_2.latitude\n",
    "\n",
    "plot_samurai(plotting_lon_s_2, plotting_lat_s_2, plotting_var_s_2, plotting_var_u_s_2, plotting_var_v_s_2, ref_cmap_2, ref_norm_2, 4)\n"
   ]
  },
  {
   "cell_type": "markdown",
   "id": "b129dc77-24a4-4ea0-8662-08a38d2a0d8a",
   "metadata": {},
   "source": [
    "### 4. SAMURAI Parameter #3: \n",
    "\n",
    "#### 4.1  background\n",
    "This parameter...\n",
    "\n",
    "\n",
    "| Parameter | Description |\n",
    "| --- | --- |\n",
    "|i_spline_cutoff, j_spline_cutoff, k_spline_cutoff|Spline cutoff length scale in grid points.|\n",
    "\n",
    "<div class=\"alert alert-block alert-info\"> <b>File Task: modify the parameter.</b> \n",
    "\n",
    "Using either the navigation menu on the left or the terminal (click the + button, choose the terminal under Other), open the parameter file (...) and find the line with the parameter. In the text file, use ⌘+f or Ctrl+F, depending on your computer. In the terminal using vi, you can search for strings in the command mode by typing \"/\" followed by the string.\n",
    "\n",
    "The values we will test in this section are the following:\n",
    "\n",
    "...\n",
    "\n",
    "\n",
    "</div>\n"
   ]
  },
  {
   "cell_type": "markdown",
   "id": "2796459b-1f7c-4532-af40-52a7728fddd4",
   "metadata": {},
   "source": [
    "#### 4.2 Run SAMURAI\n",
    "\n",
    "<div class=\"alert alert-block alert-warning\"> <b>Cell Task: run SAMURAI.</b> \n",
    "\n",
    "Run SAMURAI in the cell below with the modified parameter file by using the *-params* flag.\n",
    "\n",
    "</div>\n",
    "\n",
    "\n"
   ]
  },
  {
   "cell_type": "code",
   "execution_count": null,
   "id": "d1e89397-5878-4d33-8b50-e59059e8dbeb",
   "metadata": {},
   "outputs": [],
   "source": [
    "# uncomment the line below to run\n",
    "# !samurai -params ${BASE_DIR}/params/intermediate_samurai/samurai_params_\n"
   ]
  },
  {
   "cell_type": "markdown",
   "id": "30371fd9-902b-4f07-a799-19cb3e5c13cf",
   "metadata": {},
   "source": [
    "#### 4.3 Plot SAMURAI results"
   ]
  },
  {
   "cell_type": "markdown",
   "id": "823b3dde-b391-43b4-89e0-c030dab32938",
   "metadata": {},
   "source": [
    "#### Load the NetCDF file"
   ]
  },
  {
   "cell_type": "code",
   "execution_count": null,
   "id": "0f4bde7a-a5d4-4e49-afb7-6246c742cdb3",
   "metadata": {
    "scrolled": true,
    "tags": []
   },
   "outputs": [],
   "source": [
    "inDir_s_3 = base_dir+\"/data/wind_guided/output_sam/\"\n",
    "file_s_3 = \"samurai_XYZ_analysis.nc\"\n",
    "ds_radar_s_3 = xr.open_dataset(inDir_s_3+file_s_3).squeeze()\n",
    "ds_radar_s_3.load()"
   ]
  },
  {
   "cell_type": "markdown",
   "id": "dd35543f-d069-41a4-ad2a-fa34888473cc",
   "metadata": {},
   "source": [
    "#### Plot the output at 1.5 km altitude"
   ]
  },
  {
   "cell_type": "code",
   "execution_count": null,
   "id": "6b2cd986-8102-4abd-8051-464b77b4693d",
   "metadata": {},
   "outputs": [],
   "source": [
    "plotting_alt=1.5 # altitude at 1.5 km\n",
    "plotting_var_s_3 = ds_radar_s_3.DBZ.sel(altitude=plotting_alt)\n",
    "plotting_var_u_s_3 = ds_radar_s_3.U.sel(altitude=plotting_alt).data\n",
    "plotting_var_v_s_3 = ds_radar_s_3.V.sel(altitude=plotting_alt).data\n",
    "plotting_lon_s_3 = ds_radar_s_3.longitude\n",
    "plotting_lat_s_3 = ds_radar_s_3.latitude\n",
    "\n",
    "plot_samurai(plotting_lon_s_3, plotting_lat_s_3, plotting_var_s_3, plotting_var_u_s_3, plotting_var_v_s_3, ref_cmap_3, ref_norm_3, 4)\n"
   ]
  }
 ],
 "metadata": {
  "kernelspec": {
   "display_name": "Python [conda env:lrosehub]",
   "language": "python",
   "name": "conda-env-lrosehub-py"
  },
  "language_info": {
   "codemirror_mode": {
    "name": "ipython",
    "version": 3
   },
   "file_extension": ".py",
   "mimetype": "text/x-python",
   "name": "python",
   "nbconvert_exporter": "python",
   "pygments_lexer": "ipython3",
   "version": "3.12.8"
  },
  "vscode": {
   "interpreter": {
    "hash": "31f2aee4e71d21fbe5cf8b01ff0e069b9275f58929596ceb00d14d90e3e16cd6"
   }
  }
 },
 "nbformat": 4,
 "nbformat_minor": 5
}
