{
 "cells": [
  {
   "cell_type": "markdown",
   "id": "5c0b4c02",
   "metadata": {},
   "source": [
    "# Intermediate SAMURAI Tutorial\n",
    "\n",
    "---\n",
    "\n",
    "This interactive tutorial will demonstrate how parameter value choices affect the final SAMURAI analysis. SAMURAI is a variational analysis technique that is described in Bell et al. (2012), Foerster et al. (2014), Foerster and Bell (2017), Cha and Bell (2021), and other publications. The SAMURAI analysis yields a maximum likelihood estimate of the atmospheric state for a given set of observations and error estimates by minimizing a variational cost function. \n",
    "\n",
    "This tutorial will focus on a few scientific parameters in SAMURAI and how they can affect the application runtime, smoothing, mass continuity constraints, etc.\n",
    "\n",
    "---\n",
    "\n",
    "\n",
    "## Tutorial Overview\n",
    "\n",
    "### 1. Setup \n",
    "\n",
    "#### 1.1 Directory organization \n",
    "\n",
    "SAMURAI uses one parameter file to run, in which are two parameters that set the input and output directories. The input directory contains the center file and any data that will be used in the analysis. All output files are written to the output directory.\n",
    "\n",
    "<div>\n",
    "<img src=\"../images/samurai_intermediate_struct.png\" width=\"550\"/>\n",
    "</div>\n",
    "\n",
    "#### 1.2 QC-ed input data, parameter files, and center files:\n",
    "\n",
    "**a. Parameter Group #1: Skip and Stride**\n",
    "* 20181010.cen\n",
    "* samurai_params_skipstride\n",
    "* ~850 QC-ed NOAA TDR Dorade swp files\n",
    "  \n",
    "**b. Parameter Group #2: Gaussian Filter Lengths and Spline Cutoffs && Parameter #3: ???**\n",
    "* 20220606.cen\n",
    "* samurai_params_filterspline\n",
    "* cfrad.20220606_071238.512_to_20220606_071827.311_RCWF_SUR.nc\n",
    "* cfrad.20220606_071250.353_to_20220606_071848.637_SPOL_PrecipSur1_SUR.nc\n",
    "* cfrad.20220606_071345.000_to_20220606_071827.000_TEAM-R_SUR.nc\n",
    "* cfrad.20220606_071505.096_to_20220606_072015.817_RCTP_SUR.nc\n",
    "* terrain.hgt\n",
    "\n",
    "*The QC process is not included in this tutorial. An example of one type of QC can be found in the QC tutorial and HawkEdit/solo are other tools to QC data.\n",
    "\n",
    "For this tutorial, all center files are provided. The parameter files are also filled with most parameters. For these exercises, we will be modifying one or two parameters at a time.\n",
    "\n",
    "#### 1.3 Note on task cells\n",
    "\n",
    "This notebook uses two colored cells to indicate tasks.\n",
    "\n",
    "<div class=\"alert alert-block alert-info\"> <b>File Task: modify parameters in text files.</b> \n",
    "\n",
    "These text blocks help the user modify the parameter files or other functions in *external* text files.\n",
    "\n",
    "</div>\n",
    "\n",
    "<div class=\"alert alert-block alert-warning\"> <b>Cell Task: run a command in Jupyter notebook cell.</b> \n",
    "\n",
    "These text blocks instruct the users to run a command *in* a cell within the Jupyter notebook. If you prefer, you are welcome to copy the commands (minus the ! symbol) into a terminal window.\n",
    "\n",
    "</div>"
   ]
  },
  {
   "cell_type": "markdown",
   "id": "e132cece",
   "metadata": {},
   "source": [
    "#### 1.4 Environment and packages¶\n",
    "\n",
    "First, we import the required python packages to run this notebook. Most of the LROSE processing can be done with the os package and shell commands. "
   ]
  },
  {
   "cell_type": "code",
   "execution_count": null,
   "id": "d3a4a59f",
   "metadata": {},
   "outputs": [],
   "source": [
    "import os\n",
    "os.environ['BASE_DIR'] = '/home/jovyan/lrose-hub'\n",
    "os.environ['RAW_DIR'] = '/home/jovyan/share/raw'\n",
    "base_dir = os.environ['BASE_DIR']\n",
    "!echo \"Base directory: \" $BASE_DIR"
   ]
  },
  {
   "cell_type": "code",
   "execution_count": null,
   "id": "a79a338b-b190-476a-9135-1930f5b049c6",
   "metadata": {},
   "outputs": [],
   "source": [
    "# import plotting/data packages\n",
    "import matplotlib.pyplot as plt\n",
    "import matplotlib.colors as colors\n",
    "import numpy as np\n",
    "import xarray as xr\n",
    "import matplotlib as mpl\n",
    "import cartopy.crs as ccrs\n",
    "from metpy.plots import ctables\n",
    "from cartopy.mpl.gridliner import LONGITUDE_FORMATTER, LATITUDE_FORMATTER\n",
    "mpl.rcParams['figure.dpi'] = 300"
   ]
  },
  {
   "cell_type": "markdown",
   "id": "66eb1cde",
   "metadata": {},
   "source": [
    "We will copy the required data to one directory as SAMURAI requires and organize the directories using the following commands:"
   ]
  },
  {
   "cell_type": "code",
   "execution_count": null,
   "id": "d3288757",
   "metadata": {},
   "outputs": [],
   "source": [
    "# make subdirectory within data for input and output directory\n",
    "!rm -rf ${BASE_DIR}/data/samurai_int/input_precip\n",
    "!mkdir -p ${BASE_DIR}/data/samurai_int/input_precip\n",
    "\n",
    "!rm -rf ${BASE_DIR}/data/samurai_int/input_michael\n",
    "!mkdir -p ${BASE_DIR}/data/samurai_int/input_michael\n",
    "\n",
    "# create samurai output directories for each SAMURAI run\n",
    "# !rm -rf ${BASE_DIR}/data/samurai_int/output_skipstride\n",
    "!mkdir -p ${BASE_DIR}/data/samurai_int/output_skipstride\n",
    "\n",
    "# !rm -rf ${BASE_DIR}/data/samurai_int/output_filterspline\n",
    "!mkdir -p ${BASE_DIR}/data/samurai_int/output_filterspline\n",
    "\n",
    "# !rm -rf ${BASE_DIR}/data/samurai_int/output_finale\n",
    "!mkdir -p ${BASE_DIR}/data/samurai_int/output_finale\n",
    "\n",
    "# copy raw files to individual input directory\n",
    "!cp ${RAW_DIR}/samurai_int/input_precip/* ${BASE_DIR}/data/samurai_int/input_precip\n",
    "!cp ${RAW_DIR}/samurai_int/input_michael/* ${BASE_DIR}/data/samurai_int/input_michael\n"
   ]
  },
  {
   "cell_type": "markdown",
   "id": "ac7608ac-f0e4-4143-8756-5d1aaa74d3b6",
   "metadata": {},
   "source": [
    "### 2. SAMURAI Parameter Group #1: Skip and Stride\n",
    "\n",
    "#### 2.1 Radar skip background\n",
    "This option can be used to skip beams in the radar data. When set to ‘1’, all beams are used. This is primarily used to thin the data to decrease the computational burden when using a lot of radar data.\n",
    "\n",
    "#### 2.2 Radar stride background\n",
    "This option sets the number of gates over which averaging occurs along the beam. A stride of ‘1’ uses all data, and higher numbers average multiple gates of the given stride. This is used to thin the data for computational reasons, to reduce noise, or to reduce the spatial scale of the radar observations.\n",
    "\n",
    "#### 2.3 Dynamic stride background\n",
    "When set to ‘1’ the stride is dynamically determined based on the range. At short range, the minimum stride is set to the radar_stride value. As the range increases, the stride increases to try and approximate spherical pulse volumes.\n",
    "\n",
    "| Parameter | Description |\n",
    "| --- | --- |\n",
    "|radar_skip|Skip rate for including data. A value of 1 means all beams are used.|\n",
    "|radar_stride|Number of gates over which averaging occurs along a beam.|\n",
    "|dynamic_stride|Determines whether or not the stride is dynamically determined based on range. 0 is False, 1 is True.|\n",
    "\n",
    "<div class=\"alert alert-block alert-info\"> <b>File Task: modify the parameter.</b> \n",
    "\n",
    "Using either the navigation menu on the left or the terminal (click the + button, choose the terminal under Other), open the parameter file (...) and find the line with the parameter. In the text file, use ⌘+f or Ctrl+F, depending on your computer. In the terminal using vi, you can search for strings in the command mode by typing \"/\" followed by the string.\n",
    "\n",
    "Try running SAMURAI using a combination of these values:\n",
    "* radar_skip: 3, 4, or 5 (typical values for more research are 1-2, but only run with 2 on the high power server - the low and medium power servers will crash &#128517;)\n",
    "* radar_stride: 4 or 8\n",
    "* dynamic_stride: 0 or 1\n",
    "\n",
    "Look at the resulting analysis, but also compare how long it takes SAMURAI to run. In the SAMURAI application output you can look at the timing - look for \"runTime: loadMetObs\" and \"runTime: Cost3D minimize.\"\n",
    "\n",
    "\n",
    "</div>\n"
   ]
  },
  {
   "cell_type": "markdown",
   "id": "5ae01a18-9875-48a3-9be5-b8e90991c5d7",
   "metadata": {},
   "source": [
    "#### 2.2 Run SAMURAI\n",
    "\n",
    "<div class=\"alert alert-block alert-warning\"> <b>Cell Task: run SAMURAI.</b> \n",
    "\n",
    "Run SAMURAI in the cell below with the modified parameter file by using the *-params* flag.\n",
    "\n",
    "</div>\n",
    "\n",
    "\n"
   ]
  },
  {
   "cell_type": "code",
   "execution_count": null,
   "id": "37483247-a3ad-4a5f-b1a6-f332de950a0c",
   "metadata": {
    "scrolled": true,
    "tags": []
   },
   "outputs": [],
   "source": [
    "# uncomment the line below to run (i.e., delete the #)\n",
    "# !samurai -params ${BASE_DIR}/params/samurai_int/samurai_params_skipstride\n"
   ]
  },
  {
   "cell_type": "markdown",
   "id": "97cfb452-df04-4122-8bd5-9825759aee7a",
   "metadata": {},
   "source": [
    "If you'd like to run SAMURAI again using a different combination of parameters, we recommend creating a new parameter file and new output directory (which would also require editing the output directory in the parameter file)."
   ]
  },
  {
   "cell_type": "markdown",
   "id": "522ebad1-5ec5-455f-9f03-215ec4ea3951",
   "metadata": {},
   "source": [
    "#### 2.3 Plot SAMURAI results"
   ]
  },
  {
   "cell_type": "markdown",
   "id": "a87283d8-1020-45da-918c-eb54001ba2af",
   "metadata": {},
   "source": [
    "#### Load the NetCDF file"
   ]
  },
  {
   "cell_type": "code",
   "execution_count": null,
   "id": "cf85f4bb-ad4a-4e2b-8ab4-6e2d4a0a74c1",
   "metadata": {
    "scrolled": true,
    "tags": []
   },
   "outputs": [],
   "source": [
    "inDir_s = base_dir+\"/data/samurai_int/output_skipstride/\"\n",
    "file_s = \"samurai_XYZ_analysis.nc\"\n",
    "ds_radar_s = xr.open_dataset(inDir_s+file_s).squeeze()\n",
    "ds_radar_s.load()"
   ]
  },
  {
   "cell_type": "markdown",
   "id": "e7734a9c-0ea7-43b7-9dc4-4a961a63f10e",
   "metadata": {},
   "source": [
    "#### Let's use a function to shorten the code."
   ]
  },
  {
   "cell_type": "code",
   "execution_count": null,
   "id": "54fd0607-34ac-4bea-8226-0151fe17d282",
   "metadata": {},
   "outputs": [],
   "source": [
    "def plot_samurai(plotting_lon_s, plotting_lat_s, plotting_var_s, plotting_var_u_s, plotting_var_v_s, ref_cmap, ref_norm, step=4):\n",
    "    fig = plt.figure(figsize=(12,12))\n",
    "    ax = plt.axes(projection=ccrs.PlateCarree())\n",
    "    ax.coastlines('50m', linewidth=1., zorder=2)\n",
    "           \n",
    "    cf1 = ax.pcolormesh( plotting_lon_s, plotting_lat_s, plotting_var_s\n",
    "                        , cmap=ref_cmap, norm=ref_norm\n",
    "                        , alpha=0.8, shading='auto'\n",
    "                        , transform=ccrs.PlateCarree() \n",
    "                        )\n",
    "    cf_q = ax.quiver( plotting_lon_s[::step], plotting_lat_s[::step]\n",
    "                        , plotting_var_u_s[::step, ::step], plotting_var_v_s[::step, ::step]\n",
    "                        , scale=1000, width=0.004\n",
    "                        , color='k'\n",
    "                        , transform=ccrs.PlateCarree() \n",
    "                        )\n",
    "    \n",
    "    gl = ax.gridlines(crs=ccrs.PlateCarree(), draw_labels=True,\n",
    "                      linewidth=2, color='gray', alpha=0.5, linestyle='--')\n",
    "    gl.top_labels = False\n",
    "    gl.right_labels = False\n",
    "    gl.xformatter = LONGITUDE_FORMATTER\n",
    "    gl.yformatter = LATITUDE_FORMATTER\n",
    "    \n",
    "    cbar_ax = fig.add_axes([0.95, 0.3, 0.02, 0.4])\n",
    "    cbar = fig.colorbar(cf1, cax=cbar_ax, fraction=0.04)\n",
    "    cbar.ax.tick_params(labelsize=14)\n",
    "    cbar.ax.set_title('[dBZ]', fontsize=14, y=-0.1)"
   ]
  },
  {
   "cell_type": "code",
   "execution_count": null,
   "id": "6211fbe9-083a-4b82-8796-5467212377d9",
   "metadata": {},
   "outputs": [],
   "source": [
    "## Set NWS reflectivity colorbar:\n",
    "ref_norm, ref_cmap = ctables.registry.get_with_steps('NWSStormClearReflectivity', -20, 0.5)\n",
    "plotting_alt=1.5 # altitude at 1.5 km\n",
    "plotting_var_s = ds_radar_s.DBZ.sel(altitude=plotting_alt)\n",
    "plotting_var_u_s = ds_radar_s.U.sel(altitude=plotting_alt).data\n",
    "plotting_var_v_s = ds_radar_s.V.sel(altitude=plotting_alt).data\n",
    "plotting_lon_s = ds_radar_s.longitude\n",
    "plotting_lat_s = ds_radar_s.latitude\n",
    "\n",
    "plot_samurai(plotting_lon_s, plotting_lat_s, plotting_var_s, plotting_var_u_s, plotting_var_v_s, ref_cmap, ref_norm, 4)\n"
   ]
  },
  {
   "cell_type": "markdown",
   "id": "815a6c40-348a-4a5e-be91-4e5b6df27823",
   "metadata": {},
   "source": [
    "Load in FRACTL output"
   ]
  },
  {
   "cell_type": "code",
   "execution_count": null,
   "id": "90ec72b1-b031-42a6-8565-d38326bb307f",
   "metadata": {},
   "outputs": [],
   "source": [
    "# Read file into radar object\n",
    "inDir_f = base_dir+\"/data/wind_guided/output_frac/20090605/\"\n",
    "file_f = \"ncf_20090605_220457.nc\"\n",
    "ds_radar_f = xr.open_dataset(inDir_f+file_f).squeeze()\n",
    "ds_radar_f"
   ]
  },
  {
   "cell_type": "code",
   "execution_count": null,
   "id": "86725ec7-dc88-49fb-90b5-fb33ff46f6f2",
   "metadata": {},
   "outputs": [],
   "source": [
    "plotting_CN = ds_radar_f.conditionNumber.sel(z0=plotting_alt*1000)\n",
    "plotting_CN = plotting_CN\n",
    "\n",
    "CN_threshold = 10\n",
    "dbz_goodcondition = np.where(plotting_CN < CN_threshold, plotting_var_s, np.nan)\n",
    "u_goodcondition = np.where(plotting_CN < CN_threshold, plotting_var_u_s, np.nan)\n",
    "v_goodcondition = np.where(plotting_CN < CN_threshold, plotting_var_v_s, np.nan)\n",
    "\n",
    "plot_samurai(plotting_lon_s, plotting_lat_s, plotting_var_s, u_goodcondition, v_goodcondition, ref_cmap, ref_norm, 4)"
   ]
  },
  {
   "cell_type": "markdown",
   "id": "349155d8",
   "metadata": {},
   "source": [
    "### 3. SAMURAI Parameter Group #2: Gaussian Filters and Spline Cutoffs \n",
    "\n",
    "#### 3.1 Gaussian filter background\n",
    "These numbers set the Gaussian recursive filter length scale in gridpoints. If set to ‘-1’, the recursive filter is turned off for the given dimension. The minimum recommended value is 2.0, with higher values corresponding to larger spatial influence of the observations. Higher values also result in a smoother analysis.\n",
    "\n",
    "#### 3.2 Spline cutoff background\n",
    "These numbers set the spline cutoff length scale in gridpoints. See Ooyama (2002) for a discussion of the spline cutoff length. The recommended value is 2.0.\n",
    "\n",
    "Reference: \n",
    "\n",
    "Ooyama, K. V., 2002: The Cubic-Spline Transform Method: Basic Definitions and Tests in a 1D Single Domain. Mon. Wea. Rev., 130, 2392–2415, [link](https://doi.org/10.1175/1520-0493(2002)130<2392:TCSTMB>2.0.CO;2).\n",
    "\n",
    "| Parameter | Description |\n",
    "| --- | --- |\n",
    "|i_filter_length, j_filter_length, k_filter_length|Filter lengths for each dimension, where the units are grid points.|\n",
    "|i_spline_cutoff, j_spline_cutoff, k_spline_cutoff|Spline cutoff length scale in grid points.|\n",
    "\n",
    "<div class=\"alert alert-block alert-info\"> <b>File Task: modify the parameter.</b> \n",
    "\n",
    "Using either the navigation menu on the left or the terminal (click the + button, choose the terminal under Other), open the parameter file (...) and find the line with the parameter. In the text file, use ⌘+f or Ctrl+F, depending on your computer. In the terminal using vi, you can search for strings in the command mode by typing \"/\" followed by the string.\n",
    "\n",
    "Try running SAMURAI using one of these sets of values:\n",
    "* i_filter_length, j_filter_length, k_filter_length: <4, 4, 2> or <8, 8, 4> or <2, 2, 2>\n",
    "* i_spline_cutoff, j_spline_cutoff, k_spline_cutoff: <8, 8, 4> or <12, 12, 8> or <2, 2, 2>\n",
    "\n",
    "When you look at the SAMURAI output, look at the smoothness of the analysis with respect to the grid cell resolution.\n",
    "\n",
    "\n",
    "</div>\n"
   ]
  },
  {
   "cell_type": "markdown",
   "id": "cff92daf",
   "metadata": {},
   "source": [
    "#### 3.2 Run SAMURAI\n",
    "\n",
    "<div class=\"alert alert-block alert-warning\"> <b>Cell Task: run SAMURAI.</b> \n",
    "\n",
    "Run SAMURAI in the cell below with the modified parameter file by using the *-params* flag.\n",
    "\n",
    "</div>\n",
    "\n",
    "\n"
   ]
  },
  {
   "cell_type": "code",
   "execution_count": null,
   "id": "7bbac4e9",
   "metadata": {
    "scrolled": true,
    "tags": []
   },
   "outputs": [],
   "source": [
    "# uncomment the line below to run\n",
    "# !samurai -params ${BASE_DIR}/params/samurai_int/samurai_params_filterspline\n"
   ]
  },
  {
   "cell_type": "markdown",
   "id": "d9acd9aa",
   "metadata": {},
   "source": [
    "#### 3.3 Plot SAMURAI results"
   ]
  },
  {
   "cell_type": "markdown",
   "id": "508ce841",
   "metadata": {},
   "source": [
    "#### Load the NetCDF file"
   ]
  },
  {
   "cell_type": "code",
   "execution_count": null,
   "id": "b7775435",
   "metadata": {
    "scrolled": true,
    "tags": []
   },
   "outputs": [],
   "source": [
    "inDir_s_2 = base_dir+\"/data/samurai_int/output_filterspline/\"\n",
    "file_s_2 = \"samurai_XYZ_analysis.nc\"\n",
    "ds_radar_s_2 = xr.open_dataset(inDir_s_2+file_s_2).squeeze()\n",
    "ds_radar_s_2.load()"
   ]
  },
  {
   "cell_type": "code",
   "execution_count": null,
   "id": "c42ac87c",
   "metadata": {},
   "outputs": [],
   "source": [
    "plotting_alt_2=1.5 # altitude at 1.5 km\n",
    "plotting_var_s_2 = ds_radar_s_2.DBZ.sel(altitude=plotting_alt)\n",
    "plotting_var_u_s_2 = ds_radar_s_2.U.sel(altitude=plotting_alt).data\n",
    "plotting_var_v_s_2 = ds_radar_s_2.V.sel(altitude=plotting_alt).data\n",
    "plotting_lon_s_2 = ds_radar_s_2.longitude\n",
    "plotting_lat_s_2 = ds_radar_s_2.latitude\n",
    "\n",
    "plot_samurai(plotting_lon_s_2, plotting_lat_s_2, plotting_var_s_2, plotting_var_u_s_2, plotting_var_v_s_2, ref_cmap, ref_norm, 4)\n"
   ]
  },
  {
   "cell_type": "markdown",
   "id": "2f2730da-be98-4363-8184-751340937b61",
   "metadata": {},
   "source": [
    "Load in FRACTL output"
   ]
  },
  {
   "cell_type": "code",
   "execution_count": null,
   "id": "984f2792-b1a4-4f74-91f8-39e3e28b5eda",
   "metadata": {},
   "outputs": [],
   "source": [
    "# Read file into radar object\n",
    "inDir_f_2 = \"~/share/raw/samurai_int/fractl/precip/20220606/\"\n",
    "file_f_2 = \"ncf_20220606_072015.nc\"\n",
    "ds_radar_f_2 = xr.open_dataset(inDir_f_2+file_f_2).squeeze()\n",
    "ds_radar_f_2"
   ]
  },
  {
   "cell_type": "code",
   "execution_count": null,
   "id": "a6320f00-c316-4fc4-a3a0-3040801c6167",
   "metadata": {},
   "outputs": [],
   "source": [
    "plotting_CN_2 = ds_radar_f_2.conditionNumber.sel(z0=plotting_alt_2*1000)\n",
    "plotting_CN_2 = plotting_CN_2 \n",
    "\n",
    "CN_threshold_2 = 10\n",
    "dbz_goodcondition_2 = np.where(plotting_CN_2 < CN_threshold_2, plotting_var_s_2, np.nan)\n",
    "u_goodcondition_2 = np.where(plotting_CN_2 < CN_threshold_2, plotting_var_u_s_2, np.nan)\n",
    "v_goodcondition_2 = np.where(plotting_CN_2 < CN_threshold_2, plotting_var_v_s_2, np.nan)\n",
    "\n",
    "plot_samurai(plotting_lon_s_2, plotting_lat_s_2, plotting_var_s_2, u_goodcondition_2, v_goodcondition_2, ref_cmap, ref_norm, 4)"
   ]
  },
  {
   "cell_type": "markdown",
   "id": "f8198f5d-b6bf-451d-94f0-1371115f2980",
   "metadata": {},
   "source": [
    "#### 3.2 Run SAMURAI\n",
    "\n",
    "<div class=\"alert alert-block alert-warning\"> <b>Cell Task: run SAMURAI.</b> \n",
    "\n",
    "Run SAMURAI in the cell below with the modified parameter file by using the *-params* flag.\n",
    "\n",
    "</div>\n",
    "\n",
    "\n"
   ]
  },
  {
   "cell_type": "code",
   "execution_count": null,
   "id": "7c397f8a-ce36-4769-bcd7-0c1945bf2b94",
   "metadata": {},
   "outputs": [],
   "source": [
    "# uncomment the line below to run\n",
    "# !samurai -params ${BASE_DIR}/params/samurai_int/samurai_params_\n"
   ]
  },
  {
   "cell_type": "markdown",
   "id": "061392e7-4241-4ab5-93c1-8bb6a6d9068e",
   "metadata": {},
   "source": [
    "#### 3.3 Plot SAMURAI results"
   ]
  },
  {
   "cell_type": "markdown",
   "id": "6a0d1666-49f1-4f01-b311-98452105f48a",
   "metadata": {},
   "source": [
    "#### Load the NetCDF file"
   ]
  },
  {
   "cell_type": "code",
   "execution_count": null,
   "id": "c2e465e9-4eae-48a1-81bb-fa3eb0f52388",
   "metadata": {
    "scrolled": true,
    "tags": []
   },
   "outputs": [],
   "source": [
    "inDir_s_2 = base_dir+\"/data/samurai_int/output_sam/\"\n",
    "file_s_2 = \"samurai_XYZ_analysis.nc\"\n",
    "ds_radar_s_2 = xr.open_dataset(inDir_s_2+file_s_2).squeeze()\n",
    "ds_radar_s_2.load()"
   ]
  },
  {
   "cell_type": "markdown",
   "id": "474e52b4-ad1e-456d-9b5c-77b999cdd363",
   "metadata": {},
   "source": [
    "#### Plot the output at 1.5 km altitude"
   ]
  },
  {
   "cell_type": "code",
   "execution_count": null,
   "id": "f8d542ad-25a5-4e7e-add1-23efbea63354",
   "metadata": {},
   "outputs": [],
   "source": [
    "plotting_alt=1.5 # altitude at 1.5 km\n",
    "plotting_var_s_2 = ds_radar_s_2.DBZ.sel(altitude=plotting_alt)\n",
    "plotting_var_u_s_2 = ds_radar_s_2.U.sel(altitude=plotting_alt).data\n",
    "plotting_var_v_s_2 = ds_radar_s_2.V.sel(altitude=plotting_alt).data\n",
    "plotting_lon_s_2 = ds_radar_s_2.longitude\n",
    "plotting_lat_s_2 = ds_radar_s_2.latitude\n",
    "\n",
    "plot_samurai(plotting_lon_s_2, plotting_lat_s_2, plotting_var_s_2, plotting_var_u_s_2, plotting_var_v_s_2, ref_cmap_2, ref_norm_2, 4)\n"
   ]
  },
  {
   "cell_type": "markdown",
   "id": "b129dc77-24a4-4ea0-8662-08a38d2a0d8a",
   "metadata": {},
   "source": [
    "### 4. SAMURAI Parameter #3: Mass Continuity \n",
    "\n",
    "#### 4.1 dbz_pseudow_weight background\n",
    "\n",
    "Setting this greater than ‘0’ will create pseudo-observations of the vertical velocity boundary condition based on the reflectivity. A non-zero value sets a weak constraint for zero vertical velocity at echo-top and at the surface. The number specifies the pseudo-error in m/s. Note that larger values set a weaker constraint, and smaller numbers greater than zero set a stronger constraint. Strong vertical velocity constraints at the surface and domain top can be set using boundary conditions, but this is provides a weak constraint at the surface and a variable height in the middle of the domain.\n",
    "\n",
    "\n",
    "| Parameter | Description |\n",
    "| --- | --- |\n",
    "|dbz_pseudow_weight|Strength of the pseudo-error in m/s.|\n",
    "\n",
    "<div class=\"alert alert-block alert-info\"> <b>File Task: modify the parameter.</b> \n",
    "\n",
    "Using either the navigation menu on the left or the terminal (click the + button, choose the terminal under Other), open the parameter file (...) and find the line with the parameter. In the text file, use ⌘+f or Ctrl+F, depending on your computer. In the terminal using vi, you can search for strings in the command mode by typing \"/\" followed by the string.\n",
    "\n",
    "Try running SAMURAI using one of these sets of values:\n",
    "* dbz_pseudow_weight: 0, 1, or 10\n",
    "\n",
    "</div>\n"
   ]
  },
  {
   "cell_type": "markdown",
   "id": "2796459b-1f7c-4532-af40-52a7728fddd4",
   "metadata": {},
   "source": [
    "#### 4.2 Run SAMURAI\n",
    "\n",
    "<div class=\"alert alert-block alert-warning\"> <b>Cell Task: run SAMURAI.</b> \n",
    "\n",
    "Run SAMURAI in the cell below with the modified parameter file by using the *-params* flag.\n",
    "\n",
    "</div>\n",
    "\n",
    "\n"
   ]
  },
  {
   "cell_type": "code",
   "execution_count": null,
   "id": "d1e89397-5878-4d33-8b50-e59059e8dbeb",
   "metadata": {},
   "outputs": [],
   "source": [
    "# uncomment the line below to run\n",
    "# !samurai -params ${BASE_DIR}/params/samurai_int/samurai_params_finale\n"
   ]
  },
  {
   "cell_type": "markdown",
   "id": "30371fd9-902b-4f07-a799-19cb3e5c13cf",
   "metadata": {},
   "source": [
    "#### 4.3 Plot SAMURAI results"
   ]
  },
  {
   "cell_type": "markdown",
   "id": "823b3dde-b391-43b4-89e0-c030dab32938",
   "metadata": {},
   "source": [
    "#### Load the NetCDF file"
   ]
  },
  {
   "cell_type": "code",
   "execution_count": null,
   "id": "0f4bde7a-a5d4-4e49-afb7-6246c742cdb3",
   "metadata": {
    "scrolled": true,
    "tags": []
   },
   "outputs": [],
   "source": [
    "inDir_s_3 = base_dir+\"/data/samurai_int/output_finale/\"\n",
    "file_s_3 = \"samurai_XYZ_analysis.nc\"\n",
    "ds_radar_s_3 = xr.open_dataset(inDir_s_3+file_s_3).squeeze()\n",
    "ds_radar_s_3.load()"
   ]
  },
  {
   "cell_type": "markdown",
   "id": "dd35543f-d069-41a4-ad2a-fa34888473cc",
   "metadata": {},
   "source": [
    "#### Plot the output at 1.5 km altitude"
   ]
  },
  {
   "cell_type": "code",
   "execution_count": null,
   "id": "6b2cd986-8102-4abd-8051-464b77b4693d",
   "metadata": {},
   "outputs": [],
   "source": [
    "plotting_alt=1.5 # altitude at 1.5 km\n",
    "plotting_var_s_3 = ds_radar_s_3.DBZ.sel(altitude=plotting_alt)\n",
    "plotting_var_u_s_3 = ds_radar_s_3.U.sel(altitude=plotting_alt).data\n",
    "plotting_var_v_s_3 = ds_radar_s_3.V.sel(altitude=plotting_alt).data\n",
    "plotting_lon_s_3 = ds_radar_s_3.longitude\n",
    "plotting_lat_s_3 = ds_radar_s_3.latitude\n",
    "\n",
    "plot_samurai(plotting_lon_s_3, plotting_lat_s_3, plotting_var_s_3, plotting_var_u_s_3, plotting_var_v_s_3, ref_cmap_3, ref_norm_3, 4)\n"
   ]
  },
  {
   "cell_type": "markdown",
   "id": "47d50bf2-0248-4588-b381-2033dcfc343f",
   "metadata": {},
   "source": [
    "This case will use the same FRACTL output as the previous example, so we can just replace the wind vectors with the conditioned velocity."
   ]
  },
  {
   "cell_type": "code",
   "execution_count": null,
   "id": "709b40fe-29bc-4efc-806c-ab84ae82d9ff",
   "metadata": {},
   "outputs": [],
   "source": [
    "plot_samurai(plotting_lon_s_3, plotting_lat_s_3, plotting_var_s_3, u_goodcondition_2, v_goodcondition_2, ref_cmap, ref_norm, 4)\n"
   ]
  }
 ],
 "metadata": {
  "kernelspec": {
   "display_name": "Python [conda env:lrosehub]",
   "language": "python",
   "name": "conda-env-lrosehub-py"
  },
  "language_info": {
   "codemirror_mode": {
    "name": "ipython",
    "version": 3
   },
   "file_extension": ".py",
   "mimetype": "text/x-python",
   "name": "python",
   "nbconvert_exporter": "python",
   "pygments_lexer": "ipython3",
   "version": "3.12.8"
  },
  "vscode": {
   "interpreter": {
    "hash": "31f2aee4e71d21fbe5cf8b01ff0e069b9275f58929596ceb00d14d90e3e16cd6"
   }
  }
 },
 "nbformat": 4,
 "nbformat_minor": 5
}
