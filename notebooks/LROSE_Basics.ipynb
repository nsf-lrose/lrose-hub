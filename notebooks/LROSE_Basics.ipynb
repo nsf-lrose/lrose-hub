{
 "cells": [
  {
   "cell_type": "markdown",
   "id": "8ee9cfc3",
   "metadata": {
    "tags": []
   },
   "source": [
    "# An Introduction to LROSE\n",
    "\n",
    "<img align=\"right\" width=\"200\" height=\"200\" src=\"../images/colette_rose.jpg\">\n",
    "<img align=\"right\" width=\"200\" height=\"200\" src=\"../images/LROSE_logo_small.png\">\n",
    "    \n",
    "The Lidar Radar Open Software Environment (LROSE) is an National Science Foundation (NSF) supported project to develop common software for the Lidar, Radar, and Profiler community based on collaborative, open source development.  The core package is being jointly developed by Colorado State University (CSU) and the Earth Observing Laboratory at the NSF National Center for Atmospheric Research (NSF NCAR/EOL). The current LROSE release is called Colette (a versatile climbing rose). \n",
    "\n",
    "More information on LROSE can be found on the [LROSE wiki](http://wiki.lrose.net/index.php/Main_Page).\n",
    "\n",
    "## Notebook Summary\n",
    "\n",
    "This notebook will cover the following:\n",
    "\n",
    "1. LROSE Overview\n",
    "2. Basic LROSE application command line usage\n",
    "3. Example LROSE application parameter files\n",
    "4. Basic data inspection\n",
    "5. Converting a file to CfRadial\n",
    "6. Simple gridding\n",
    "7. Basic plotting"
   ]
  },
  {
   "cell_type": "markdown",
   "id": "1991ba6c-76d8-41e9-a4c5-65639d06d756",
   "metadata": {},
   "source": [
    "## LROSE Overview"
   ]
  },
  {
   "cell_type": "markdown",
   "id": "2ad53cb4-9b6b-420f-886c-33c27ad1db6c",
   "metadata": {},
   "source": [
    "LROSE encompasses six key toolsets that define a core lidar/radar workflow: Convert, Display, QC, Grid, Echo, and Winds. Colette focuses on high-quality, well-tested, well-maintained and well-documented key applications as ‘building blocks’, allowing users to assemble trusted, reproducible workflows to accomplish more complex scientific tasks.\n",
    "\n",
    "### Installation\n",
    "\n",
    "LROSE is available for download through [GitHub](https://github.com/NCAR/lrose-core/). Installation is supported for Linux (source, packages) and Mac OS (source, Homebrew). Conda-forge development is underway."
   ]
  },
  {
   "cell_type": "markdown",
   "id": "52e9d69e",
   "metadata": {},
   "source": [
    "### Initialize python"
   ]
  },
  {
   "cell_type": "code",
   "execution_count": null,
   "id": "22982961",
   "metadata": {
    "tags": []
   },
   "outputs": [],
   "source": [
    "import warnings\n",
    "warnings.filterwarnings('ignore')\n",
    "\n",
    "import os\n",
    "import datetime\n",
    "import fsspec\n",
    "import glob\n",
    "import pytz\n",
    "import numpy as np\n",
    "import matplotlib.pyplot as plt\n",
    "import matplotlib.ticker as plticker\n",
    "from matplotlib.lines import Line2D\n",
    "import cartopy.crs as ccrs\n",
    "import cartopy.io.shapereader as shpreader\n",
    "import cartopy.geodesic as cgds\n",
    "from cartopy.mpl.gridliner import LONGITUDE_FORMATTER, LATITUDE_FORMATTER\n",
    "from cartopy import feature as cfeature\n",
    "import shapely\n",
    "import netCDF4 as nc\n",
    "import pyart\n",
    "\n",
    "# Set directory variable to call LROSE\n",
    "os.environ['LROSE_DIR'] = '/usr/local/lrose/bin'\n",
    "base_dir = os.environ['BASE_DIR']\n",
    "\n",
    "# Set the URL and path to access the data on the cloud\n",
    "URL = \"https://js2.jetstream-cloud.org:8001/\"\n",
    "path = f\"pythia/radar/erad2024\"\n",
    "\n",
    "fs = fsspec.filesystem(\"s3\", anon=True, client_kwargs=dict(endpoint_url=URL))\n",
    "\n",
    "fs.glob(f\"{path}/*\")\n",
    "\n",
    "files = fs.glob(f\"{path}/*\") #### FIX PATH\n",
    "local_files = [\n",
    "    fsspec.open_local(\n",
    "        f\"simplecache::{URL}{i}\", s3={\"anon\": True}, filecache={\"cache_storage\": \".\"}\n",
    "    )\n",
    "    for i in files\n",
    "]\n"
   ]
  },
  {
   "cell_type": "code",
   "execution_count": null,
   "id": "fee187a4-77f6-4818-a6cb-0e8f060fbff1",
   "metadata": {},
   "outputs": [],
   "source": [
    "!pwd"
   ]
  },
  {
   "cell_type": "markdown",
   "id": "3511188c",
   "metadata": {},
   "source": [
    "## Notes on LROSE Parameter files\n",
    "\n",
    "All LROSE applications have a detailed parameter file, which is read in at startup. The parameters allow the user to control the processing in the LROSE apps. To generate a default parameter file, you use the -print_params option for the app.\n",
    "\n",
    "For example, for RadxConvert you would use:\n",
    "\n",
    "```\n",
    "  RadxConvert -print_params > RadxConvert.nexrad\n",
    "```\n",
    "\n",
    "and then edit RadxConvert.nexrad appropriately.\n",
    "\n",
    "At runtime you would use:\n",
    "\n",
    "```\n",
    "  RadxConvert -params RadxConvert.nexrad ... etc ...\n",
    "```"
   ]
  },
  {
   "cell_type": "markdown",
   "id": "d34dfd14",
   "metadata": {},
   "source": [
    "## View the RadxConvert parameter file\n",
    "\n",
    "Note that we can use environment variables in the parameter files.\n",
    "\n",
    "Environment variables are inserted using the format:\n",
    "\n",
    "```\n",
    "  $(env_var_name)\n",
    "```\n",
    "\n",
    "For example:\n",
    "\n",
    "```\n",
    "  input_dir = \"$(NEXRAD_DATA_DIR)/raw/$(RADAR_NAME)\";\n",
    "```\n"
   ]
  },
  {
   "cell_type": "code",
   "execution_count": null,
   "id": "9eccf394",
   "metadata": {
    "scrolled": true,
    "tags": []
   },
   "outputs": [],
   "source": [
    "# View the param file\n",
    "!cat $BASE_DIR/params/erad/RadxConvert.nexrad"
   ]
  },
  {
   "cell_type": "markdown",
   "id": "ac26ceb6",
   "metadata": {
    "tags": []
   },
   "source": [
    "## List the CfRadial files created by RadxConvert"
   ]
  },
  {
   "cell_type": "code",
   "execution_count": null,
   "id": "100476d3",
   "metadata": {
    "tags": []
   },
   "outputs": [],
   "source": [
    "# List the CfRadial files created by RadxConvert\n",
    "!ls -R ${NEXRAD_DATA_DIR}/cfradial/moments/K*/20*"
   ]
  },
  {
   "cell_type": "code",
   "execution_count": null,
   "id": "634d51c1",
   "metadata": {
    "tags": []
   },
   "outputs": [],
   "source": [
    "!${LROSE_DIR}/RadxPrint -h"
   ]
  },
  {
   "cell_type": "code",
   "execution_count": null,
   "id": "87b9301a-062f-47da-b521-08586f704ca9",
   "metadata": {},
   "outputs": [],
   "source": [
    "!${LROSE_DIR}/RadxPrint -print_params"
   ]
  },
  {
   "cell_type": "code",
   "execution_count": null,
   "id": "92b2e4c8-542a-4b8e-94f6-c82e973c6765",
   "metadata": {},
   "outputs": [],
   "source": [
    "!${LROSE_DIR}/RadxPrint -print_params > RadxPrint_params"
   ]
  },
  {
   "cell_type": "markdown",
   "id": "eb44434e-41a5-4c16-9f66-32b986c672d3",
   "metadata": {},
   "source": [
    "## Inspect the data"
   ]
  },
  {
   "cell_type": "code",
   "execution_count": null,
   "id": "8971844d-b282-4781-8248-bd072a87a8d0",
   "metadata": {},
   "outputs": [],
   "source": [
    "!${LROSE_DIR}/RadxPrint -f /path/to/cfradial "
   ]
  },
  {
   "cell_type": "code",
   "execution_count": null,
   "id": "20e823e9-9ece-453f-a838-ffdd9531bd9d",
   "metadata": {},
   "outputs": [],
   "source": [
    "!${LROSE_DIR}/RadxPrint -summary -f /path/to/cfradial | head -200"
   ]
  },
  {
   "cell_type": "markdown",
   "id": "aabdc353",
   "metadata": {},
   "source": [
    "## Format Conversion"
   ]
  },
  {
   "cell_type": "code",
   "execution_count": null,
   "id": "5f9c2fd1",
   "metadata": {
    "scrolled": true,
    "tags": []
   },
   "outputs": [],
   "source": [
    "# Convert raw nexrad data to cfradial for 3 NEXRAD radars\n",
    "!${LROSE_DIR}/RadxConvert -f /path/to/cfradial -outdir /path/\n"
   ]
  },
  {
   "cell_type": "markdown",
   "id": "57cacbe0-f174-47b6-965f-48078bcc06bb",
   "metadata": {},
   "source": [
    "## Simple Gridding"
   ]
  },
  {
   "cell_type": "code",
   "execution_count": null,
   "id": "25c1665c-8fa9-42bb-895a-43e437ed5f8a",
   "metadata": {},
   "outputs": [],
   "source": [
    "!${LROSE_DIR}/Radx2Grid -f /path/to/cfradial -outdir /path/"
   ]
  },
  {
   "cell_type": "markdown",
   "id": "ba4de435-cf79-4a51-a241-4c3f6502b6d2",
   "metadata": {},
   "source": [
    "## Simple Display"
   ]
  },
  {
   "cell_type": "markdown",
   "id": "2cb478ab-7412-43b6-85f7-0d93f6560efe",
   "metadata": {},
   "source": [
    "### Py-Art"
   ]
  },
  {
   "cell_type": "code",
   "execution_count": null,
   "id": "12f245d1-5c6b-4173-ac9e-36e3b7e28047",
   "metadata": {},
   "outputs": [],
   "source": [
    "# Read CfRadial file into radar object\n",
    "filePathRate = os.path.join(nexradDataDir, \"cfradial/rate/KGLD/20210706/cfrad.20210706_220003.963_to_20210706_220439.770_KGLD_SUR.nc\")\n",
    "rate_kgld = pyart.io.read_cfradial(filePathRate)\n",
    "rate_kgld.info('compact')"
   ]
  },
  {
   "cell_type": "code",
   "execution_count": null,
   "id": "92ae241a-6c0e-4c97-a3b1-188f293efd13",
   "metadata": {},
   "outputs": [],
   "source": [
    "# Plot results of RadxRate\n",
    "\n",
    "displayRate = pyart.graph.RadarDisplay(rate_kgld)\n",
    "figRate = plt.figure(1, (12, 10))\n",
    "\n",
    "# DBZ (input)\n",
    "\n",
    "axDbz = figRate.add_subplot(221)\n",
    "displayRate.plot_ppi('DBZ', 0, vmin=-32, vmax=64.,\n",
    "                    axislabels=(\"x(km)\", \"y(km)\"),\n",
    "                    colorbar_label=\"DBZ\")\n",
    "displayRate.plot_range_rings([50, 100, 150, 200])\n",
    "displayRate.plot_cross_hair(200.)\n",
    "\n",
    "# KDP (computed)\n",
    "\n",
    "axKdp = figRate.add_subplot(222)\n",
    "displayRate.plot_ppi('KDP', 0, vmin=0, vmax=2.,\n",
    "    axislabels=(\"x(km)\", \"y(km)\"),\n",
    "    colorbar_label=\"KDP (deg/km)\",\n",
    "    cmap=\"rainbow\")\n",
    "displayRate.plot_range_rings([50, 100, 150, 200])\n",
    "displayRate.plot_cross_hair(200.)\n",
    "\n",
    "# RATE_HYBRID (computed)\n",
    "\n",
    "axHybrid = figRate.add_subplot(223)\n",
    "displayRate.plot_ppi('RATE_HYBRID', 0, vmin=0, vmax=50.,\n",
    "    axislabels=(\"x(km)\", \"y(km)\"),\n",
    "    colorbar_label=\"RATE_HYBRID(mm/hr)\",\n",
    "    cmap = \"rainbow\")\n",
    "displayRate.plot_range_rings([50, 100, 150, 200])\n",
    "displayRate.plot_cross_hair(200.)\n",
    "\n",
    "# NCAR PID (computed)\n",
    "\n",
    "axPID = figRate.add_subplot(224)\n",
    "displayRate.plot_ppi('PID', 0,\n",
    "    axislabels=(\"x(km)\", \"y(km)\"),\n",
    "    colorbar_label=\"PID\",\n",
    "    cmap = \"rainbow\")\n",
    "displayRate.plot_range_rings([50, 100, 150, 200])\n",
    "displayRate.plot_cross_hair(200.)\n",
    "\n",
    "pid_cbar = displayRate.cbs[3]\n",
    "pid_cbar.set_ticks([1,2,3,4,5,6,7,8,9,10,11,12,13,14,15,16,17])\n",
    "pid_cbar.set_ticklabels(['cld-drops', 'drizzle', 'lt-rain', 'mod-rain', 'hvy-rain', 'hail', 'rain/hail', 'sm-hail', 'gr/rain', 'dry-snow', 'wet-snow', 'ice', 'irreg-ice', 'slw', 'insects', '2nd-trip', 'clutter'])\n",
    "\n",
    "figRate.tight_layout()\n",
    "\n",
    "plt.show()"
   ]
  },
  {
   "cell_type": "markdown",
   "id": "1d0c6485-571e-42e1-821a-0377957d4f02",
   "metadata": {},
   "source": [
    "### Gridded Data"
   ]
  },
  {
   "cell_type": "code",
   "execution_count": null,
   "id": "88dc1f21-c8bc-4423-bf93-5e11a4cf06e4",
   "metadata": {},
   "outputs": [],
   "source": [
    "# Create map for plotting lat/lon grids\n",
    "def new_map(fig):\n",
    "    \n",
    "    ## Create projection centered on data\n",
    "    proj = ccrs.PlateCarree()\n",
    "\n",
    "    ## New axes with the specified projection:\n",
    "    ax = fig.add_subplot(1, 1, 1, projection=proj)\n",
    "    \n",
    "    ## Set extent the same as radar mosaic\n",
    "    ax.set_extent([minLonMosaic, maxLonMosaic, minLatMosaic, maxLatMosaic])\n",
    "\n",
    "    ## Add grid lines & labels:\n",
    "    gl = ax.gridlines( crs=ccrs.PlateCarree()\n",
    "                     , draw_labels=True\n",
    "                     , linewidth=1\n",
    "                     , color='lightgray'\n",
    "                     , alpha=0.5, linestyle='--'\n",
    "                     ) \n",
    "    gl.top_labels = False\n",
    "    gl.left_labels = True\n",
    "    gl.right_labels = False\n",
    "    gl.xlines = True\n",
    "    gl.ylines = True\n",
    "    gl.xformatter = LONGITUDE_FORMATTER\n",
    "    gl.yformatter = LATITUDE_FORMATTER\n",
    "    gl.xlabel_style = {'size': 8, 'weight': 'bold'}\n",
    "    gl.ylabel_style = {'size': 8, 'weight': 'bold'}\n",
    "    \n",
    "    return ax"
   ]
  },
  {
   "cell_type": "code",
   "execution_count": null,
   "id": "27c48b0d-5a62-4a20-a76b-7b43fac6f500",
   "metadata": {},
   "outputs": [],
   "source": [
    "# Plot column-max reflectivity\n",
    "figDbzComp = plt.figure(figsize=(8, 8), dpi=150)\n",
    "axDbzComp = new_map(figDbzComp)\n",
    "plt.imshow(dbzPlaneMax,\n",
    "            cmap='pyart_Carbone42',\n",
    "            interpolation = 'bilinear',\n",
    "            origin = 'lower',\n",
    "            extent = (minLonMosaic, maxLonMosaic, minLatMosaic, maxLatMosaic))\n",
    "axDbzComp.add_feature(cfeature.BORDERS, linewidth=0.5, edgecolor='black')\n",
    "axDbzComp.add_feature(cfeature.STATES, linewidth=0.3, edgecolor='brown')\n",
    "#axDbzComp.coastlines('10m', 'darkgray', linewidth=1, zorder=0)\n",
    "plt.colorbar(label=\"DBZ\", orientation=\"vertical\", shrink=0.5)\n",
    "plt.title(\"Radar mosaic column-max DBZ: \" + startTimeStr)"
   ]
  }
 ],
 "metadata": {
  "kernelspec": {
   "display_name": "Python 3 (ipykernel)",
   "language": "python",
   "name": "python3"
  },
  "language_info": {
   "codemirror_mode": {
    "name": "ipython",
    "version": 3
   },
   "file_extension": ".py",
   "mimetype": "text/x-python",
   "name": "python",
   "nbconvert_exporter": "python",
   "pygments_lexer": "ipython3",
   "version": "3.11.4"
  }
 },
 "nbformat": 4,
 "nbformat_minor": 5
}
