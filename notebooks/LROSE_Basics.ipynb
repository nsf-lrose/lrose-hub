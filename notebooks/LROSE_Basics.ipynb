{
 "cells": [
  {
   "cell_type": "markdown",
   "id": "8ee9cfc3",
   "metadata": {
    "tags": []
   },
   "source": [
    "# An Introduction to LROSE\n",
    "\n",
    "<img align=\"right\" width=\"200\" height=\"200\" src=\"../images/colette_rose.jpg\">\n",
    "<img align=\"right\" width=\"200\" height=\"200\" src=\"../images/LROSE_logo_small.png\">\n",
    "    \n",
    "The Lidar Radar Open Software Environment (LROSE) is an National Science Foundation (NSF) supported project to develop common software for the Lidar, Radar, and Profiler community based on collaborative, open source development.  The core package is being jointly developed by Colorado State University (CSU) and the Earth Observing Laboratory at the NSF National Center for Atmospheric Research (NSF NCAR/EOL). The current LROSE release is called Colette (a versatile climbing rose). \n",
    "\n",
    "More information on LROSE can be found on the [LROSE wiki](http://wiki.lrose.net/index.php/Main_Page).\n",
    "\n",
    "(add LROSE forum, contact info, link to listserv)\n",
    "\n",
    "\n",
    "## Notebook Summary\n",
    "\n",
    "This notebook will cover the following:\n",
    "\n",
    "1. LROSE Overview\n",
    "2. Basic LROSE application command line usage\n",
    "3. Example LROSE application parameter files\n",
    "4. Basic data inspection\n",
    "5. Converting a file to CfRadial\n",
    "6. Simple gridding\n",
    "7. Basic plotting"
   ]
  },
  {
   "cell_type": "markdown",
   "id": "1991ba6c-76d8-41e9-a4c5-65639d06d756",
   "metadata": {},
   "source": [
    "## LROSE Overview"
   ]
  },
  {
   "cell_type": "markdown",
   "id": "2ad53cb4-9b6b-420f-886c-33c27ad1db6c",
   "metadata": {},
   "source": [
    "LROSE encompasses six key toolsets that define a core lidar/radar workflow: Convert, Display, QC, Grid, Echo, and Winds. Colette focuses on high-quality, well-tested, well-maintained and well-documented key applications as ‘building blocks’, allowing users to assemble trusted, reproducible workflows to accomplish more complex scientific tasks.\n",
    "\n",
    "### Installation\n",
    "\n",
    "LROSE is available for download through [GitHub](https://github.com/NCAR/lrose-core/). Installation is supported for Linux (source, packages) and Mac OS (source, Homebrew). Conda-forge development is underway.\n",
    "\n",
    "### gateway advertisement\n",
    "\n",
    "link to tutorials, lrose-hub, etc\n",
    "\n",
    "### bugs slash questions\n",
    "\n",
    "github issues, email mike.... (not ideal), LROSE forum"
   ]
  },
  {
   "cell_type": "markdown",
   "id": "52e9d69e",
   "metadata": {},
   "source": [
    "### Initialize python"
   ]
  },
  {
   "cell_type": "code",
   "execution_count": null,
   "id": "22982961",
   "metadata": {
    "tags": []
   },
   "outputs": [],
   "source": [
    "import warnings\n",
    "warnings.filterwarnings('ignore')\n",
    "\n",
    "import os\n",
    "import datetime\n",
    "import fsspec\n",
    "# import glob\n",
    "# import pytz\n",
    "# import numpy as np\n",
    "# import matplotlib.pyplot as plt\n",
    "# import matplotlib.ticker as plticker\n",
    "# from matplotlib.lines import Line2D\n",
    "# import cartopy.crs as ccrs\n",
    "# import cartopy.io.shapereader as shpreader\n",
    "# import cartopy.geodesic as cgds\n",
    "# from cartopy.mpl.gridliner import LONGITUDE_FORMATTER, LATITUDE_FORMATTER\n",
    "# from cartopy import feature as cfeature\n",
    "# import shapely\n",
    "# import netCDF4 as nc\n",
    "# import pyart\n",
    "\n",
    "# Set directory variable to call LROSE\n",
    "os.environ['LROSE_DIR'] = '/usr/local/bin'\n",
    "# os.environ['LROSE_DIR'] = '/usr/local/lrose/bin'\n",
    "#base_dir = os.environ['BASE_DIR']\n",
    "\n",
    "# Set the URL and path to access the data on the cloud\n",
    "URL = \"https://js2.jetstream-cloud.org:8001/\"\n",
    "path = f\"pythia/radar/erad2024\"\n",
    "\n",
    "fs = fsspec.filesystem(\"s3\", anon=True, client_kwargs=dict(endpoint_url=URL))\n",
    "\n",
    "fs.glob(f\"{path}/20240522_MeteoSwiss_ARPA_Lombardia/Data/Cband/*\")\n",
    "\n",
    "files = fs.glob(f\"{path}/20240522_MeteoSwiss_ARPA_Lombardia/Data/Cband/*.nc\") #### FIX PATH\n",
    "local_files = [\n",
    "    fsspec.open_local(\n",
    "        f\"simplecache::{URL}{i}\", s3={\"anon\": True}, filecache={\"cache_storage\": \".\"}\n",
    "    )\n",
    "    for i in files\n",
    "]\n"
   ]
  },
  {
   "cell_type": "code",
   "execution_count": null,
   "id": "32e18c1c",
   "metadata": {},
   "outputs": [],
   "source": [
    "# LROSE prefers files to have .nc extension, so rename one file for this notebook\n",
    "os.rename(local_files[0],local_files[0]+'.nc')\n",
    "\n",
    "# set an environment variable so command line and python play nicely\n",
    "os.environ['file_name'] = local_files[0]+'.nc'\n"
   ]
  },
  {
   "cell_type": "code",
   "execution_count": null,
   "id": "fee187a4-77f6-4818-a6cb-0e8f060fbff1",
   "metadata": {},
   "outputs": [],
   "source": [
    "!pwd"
   ]
  },
  {
   "cell_type": "markdown",
   "id": "3511188c",
   "metadata": {},
   "source": [
    "## Notes on LROSE Parameter files\n",
    "\n",
    "All LROSE applications have a detailed parameter file, which is read in at startup. The parameters allow the user to control the processing in the LROSE apps. To generate a default parameter file, you use the -print_params option for the app.\n",
    "\n",
    "For example, for RadxConvert you would use:\n",
    "\n",
    "```\n",
    "  RadxConvert -print_params > RadxConvert.nexrad\n",
    "```\n",
    "\n",
    "and then edit RadxConvert.nexrad appropriately.\n",
    "\n",
    "At runtime you would use:\n",
    "\n",
    "```\n",
    "  RadxConvert -params RadxConvert.nexrad ... etc ...\n",
    "```"
   ]
  },
  {
   "cell_type": "markdown",
   "id": "d34dfd14",
   "metadata": {},
   "source": [
    "## View the RadxConvert parameter file\n",
    "\n",
    "Note that we can use environment variables in the parameter files.\n",
    "\n",
    "Environment variables are inserted using the format:\n",
    "\n",
    "```\n",
    "  $(env_var_name)\n",
    "```\n",
    "\n",
    "For example:\n",
    "\n",
    "```\n",
    "  input_dir = \"$(NEXRAD_DATA_DIR)/raw/$(RADAR_NAME)\";\n",
    "```\n"
   ]
  },
  {
   "cell_type": "code",
   "execution_count": null,
   "id": "9eccf394",
   "metadata": {
    "scrolled": true,
    "tags": []
   },
   "outputs": [],
   "source": [
    "# View the param file\n",
    "!cat $BASE_DIR/params/erad/RadxConvert.nexrad"
   ]
  },
  {
   "cell_type": "code",
   "execution_count": null,
   "id": "634d51c1",
   "metadata": {
    "tags": []
   },
   "outputs": [],
   "source": [
    "# command line options\n",
    "!${LROSE_DIR}/RadxPrint -h"
   ]
  },
  {
   "cell_type": "code",
   "execution_count": null,
   "id": "87b9301a-062f-47da-b521-08586f704ca9",
   "metadata": {},
   "outputs": [],
   "source": [
    "# view the default parameter file\n",
    "!${LROSE_DIR}/RadxPrint -print_params"
   ]
  },
  {
   "cell_type": "code",
   "execution_count": null,
   "id": "92b2e4c8-542a-4b8e-94f6-c82e973c6765",
   "metadata": {},
   "outputs": [],
   "source": [
    "# save the default parameters to a file\n",
    "!${LROSE_DIR}/RadxPrint -print_params > ./RadxPrint_params\n",
    "\n",
    "# if you have an existing parameter file and want to update it (e.g., a new LROSE version is released),\n",
    "# you could run a command similar to the following, just update the parameter file names\n",
    "# !${LROSE_DIR}/RadxPrint -f ./path/to/RadxPrint_params -print_params > ./RadxPrint_params_new"
   ]
  },
  {
   "cell_type": "markdown",
   "id": "eb44434e-41a5-4c16-9f66-32b986c672d3",
   "metadata": {},
   "source": [
    "## Inspect the data"
   ]
  },
  {
   "cell_type": "code",
   "execution_count": null,
   "id": "8971844d-b282-4781-8248-bd072a87a8d0",
   "metadata": {},
   "outputs": [],
   "source": [
    "!${LROSE_DIR}/RadxPrint -f $file_name"
   ]
  },
  {
   "cell_type": "code",
   "execution_count": null,
   "id": "20e823e9-9ece-453f-a838-ffdd9531bd9d",
   "metadata": {},
   "outputs": [],
   "source": [
    "!${LROSE_DIR}/RadxPrint -summary -f $file_name | tail -200"
   ]
  },
  {
   "cell_type": "markdown",
   "id": "aabdc353",
   "metadata": {},
   "source": [
    "## Format Conversion"
   ]
  },
  {
   "cell_type": "code",
   "execution_count": null,
   "id": "5f9c2fd1",
   "metadata": {
    "scrolled": true,
    "tags": []
   },
   "outputs": [],
   "source": [
    "# Convert file (already cfradial, but you get the idea)\n",
    "# this will create a new subdirectory called convert along with a subdirectory YYYYMMDD that contains the file\n",
    "!${LROSE_DIR}/RadxConvert -f $file_name -outdir ./convert\n"
   ]
  },
  {
   "cell_type": "markdown",
   "id": "57cacbe0-f174-47b6-965f-48078bcc06bb",
   "metadata": {},
   "source": [
    "## Simple Gridding"
   ]
  },
  {
   "cell_type": "code",
   "execution_count": null,
   "id": "25c1665c-8fa9-42bb-895a-43e437ed5f8a",
   "metadata": {},
   "outputs": [],
   "source": [
    "!${LROSE_DIR}/Radx2Grid -f ./convert/*/*.nc -outdir ./gridded"
   ]
  },
  {
   "cell_type": "markdown",
   "id": "ba4de435-cf79-4a51-a241-4c3f6502b6d2",
   "metadata": {},
   "source": [
    "## Simple Display"
   ]
  },
  {
   "cell_type": "markdown",
   "id": "2cb478ab-7412-43b6-85f7-0d93f6560efe",
   "metadata": {},
   "source": [
    "### Py-Art"
   ]
  },
  {
   "cell_type": "code",
   "execution_count": null,
   "id": "12f245d1-5c6b-4173-ac9e-36e3b7e28047",
   "metadata": {},
   "outputs": [],
   "source": [
    "# Read CfRadial file into radar object\n",
    "filePath = os.path.join('./', \"convert/20240522/*.nc\")\n",
    "radar = pyart.io.read_cfradial(filePath)\n",
    "radar.info('compact')"
   ]
  },
  {
   "cell_type": "code",
   "execution_count": null,
   "id": "92ae241a-6c0e-4c97-a3b1-188f293efd13",
   "metadata": {},
   "outputs": [],
   "source": [
    "display = pyart.graph.RadarDisplay(radar)\n",
    "fig = plt.figure(1, (10, 10))\n",
    "\n",
    "# DBZ\n",
    "\n",
    "axDbz = fig.add_subplot(221)\n",
    "display.plot_ppi('reflectivity', 0, vmin=-32, vmax=64.,\n",
    "                    axislabels=(\"x(km)\", \"y(km)\"),\n",
    "                    colorbar_label=\"DBZ\")\n",
    "display.plot_range_rings([50, 100, 150, 200])\n",
    "display.plot_cross_hair(200.)\n",
    "\n",
    "# velocity \n",
    "\n",
    "axKdp = fig.add_subplot(222)\n",
    "display.plot_ppi('velocity', 0, vmin=-15, vmax=15,\n",
    "    axislabels=(\"x(km)\", \"y(km)\"),\n",
    "    colorbar_label=\"velocity (m/s)\")\n",
    "display.plot_range_rings([50, 100, 150, 200])\n",
    "display.plot_cross_hair(200.)\n",
    "\n",
    "# spectrum width\n",
    "\n",
    "axHybrid = fig.add_subplot(223)\n",
    "display.plot_ppi('spectrum_width', 0,\n",
    "    axislabels=(\"x(km)\", \"y(km)\"),\n",
    "    colorbar_label=\"sw (m/s)\")\n",
    "display.plot_range_rings([50, 100, 150, 200])\n",
    "display.plot_cross_hair(200.)\n",
    "\n",
    "# NCAR PID (computed)\n",
    "\n",
    "axPID = fig.add_subplot(224)\n",
    "display.plot_ppi('differential_reflectivity', 0,\n",
    "    axislabels=(\"x(km)\", \"y(km)\"),\n",
    "    colorbar_label=\"ZDR (dB)\")\n",
    "display.plot_range_rings([50, 100, 150, 200])\n",
    "display.plot_cross_hair(200.)\n",
    "\n",
    "fig.tight_layout()\n",
    "plt.show()"
   ]
  },
  {
   "cell_type": "markdown",
   "id": "1d0c6485-571e-42e1-821a-0377957d4f02",
   "metadata": {},
   "source": [
    "### Gridded Data"
   ]
  },
  {
   "cell_type": "code",
   "execution_count": null,
   "id": "d0dd1e73",
   "metadata": {},
   "outputs": [],
   "source": [
    "# Read in example radar mosaic for a single time\n",
    "\n",
    "filePathGridded = os.path.join('./', 'gridded/20240522/*.nc')\n",
    "dsGridded = nc.Dataset(filePathGridded)\n",
    "print(\"Radar mosaic file path: \", filePathGridded)\n",
    "print(\"Radar mosaic data set: \", dsGridded)\n",
    "\n",
    "# Compute time\n",
    "\n",
    "uTimeSecs = dsGridded['start_time'][0]\n",
    "startTime = datetime.datetime.fromtimestamp(int(uTimeSecs))\n",
    "startTimeStr = startTime.strftime('%Y/%m/%d-%H:%M:%S UTC')\n",
    "print(\"Start time: \", startTimeStr)"
   ]
  },
  {
   "cell_type": "code",
   "execution_count": null,
   "id": "88dc1f21-c8bc-4423-bf93-5e11a4cf06e4",
   "metadata": {},
   "outputs": [],
   "source": [
    "# Create map for plotting lat/lon grids\n",
    "def new_map(fig):\n",
    "    \n",
    "    ## Create projection centered on data\n",
    "    proj = ccrs.PlateCarree()\n",
    "\n",
    "    ## New axes with the specified projection:\n",
    "    ax = fig.add_subplot(1, 1, 1, projection=proj)\n",
    "    \n",
    "    ## Set extent the same as radar mosaic\n",
    "    ax.set_extent([minLonMosaic, maxLonMosaic, minLatMosaic, maxLatMosaic])\n",
    "\n",
    "    ## Add grid lines & labels:\n",
    "    gl = ax.gridlines( crs=ccrs.PlateCarree()\n",
    "                     , draw_labels=True\n",
    "                     , linewidth=1\n",
    "                     , color='lightgray'\n",
    "                     , alpha=0.5, linestyle='--'\n",
    "                     ) \n",
    "    gl.top_labels = False\n",
    "    gl.left_labels = True\n",
    "    gl.right_labels = False\n",
    "    gl.xlines = True\n",
    "    gl.ylines = True\n",
    "    gl.xformatter = LONGITUDE_FORMATTER\n",
    "    gl.yformatter = LATITUDE_FORMATTER\n",
    "    gl.xlabel_style = {'size': 8, 'weight': 'bold'}\n",
    "    gl.ylabel_style = {'size': 8, 'weight': 'bold'}\n",
    "    \n",
    "    return ax"
   ]
  },
  {
   "cell_type": "code",
   "execution_count": null,
   "id": "27c48b0d-5a62-4a20-a76b-7b43fac6f500",
   "metadata": {},
   "outputs": [],
   "source": [
    "# Plot column-max reflectivity\n",
    "figDbzComp = plt.figure(figsize=(8, 8), dpi=150)\n",
    "axDbzComp = new_map(figDbzComp)\n",
    "plt.imshow(dbzPlaneMax,\n",
    "            cmap='pyart_Carbone42',\n",
    "            interpolation = 'bilinear',\n",
    "            origin = 'lower',\n",
    "            extent = (minLonMosaic, maxLonMosaic, minLatMosaic, maxLatMosaic))\n",
    "axDbzComp.add_feature(cfeature.BORDERS, linewidth=0.5, edgecolor='black')\n",
    "axDbzComp.add_feature(cfeature.STATES, linewidth=0.3, edgecolor='brown')\n",
    "#axDbzComp.coastlines('10m', 'darkgray', linewidth=1, zorder=0)\n",
    "plt.colorbar(label=\"DBZ\", orientation=\"vertical\", shrink=0.5)\n",
    "plt.title(\"Radar DBZ: \" + startTimeStr)"
   ]
  },
  {
   "cell_type": "markdown",
   "id": "1e143422",
   "metadata": {},
   "source": [
    "### Hawkeye\n",
    "\n",
    "add in pre-canned or command line image"
   ]
  },
  {
   "cell_type": "code",
   "execution_count": null,
   "id": "8e00963a",
   "metadata": {},
   "outputs": [],
   "source": []
  },
  {
   "cell_type": "markdown",
   "id": "0f8d69cd",
   "metadata": {},
   "source": [
    "# Afternoon preview\n",
    "\n",
    "Want to learn how to run multi-Doppler analysis? Join us in the afternoon!\n",
    "\n",
    "### Additional resources\n",
    "\n",
    "More tutorials can be found on our Gateway GitHub repo: \n",
    "https://github.com/nsf-lrose/lrose-hub\n",
    "\n",
    "The LROSE wiki con \n",
    "forum"
   ]
  },
  {
   "cell_type": "code",
   "execution_count": null,
   "id": "838830b4",
   "metadata": {},
   "outputs": [],
   "source": []
  }
 ],
 "metadata": {
  "kernelspec": {
   "display_name": "Python 3 (ipykernel)",
   "language": "python",
   "name": "python3"
  },
  "language_info": {
   "codemirror_mode": {
    "name": "ipython",
    "version": 3
   },
   "file_extension": ".py",
   "mimetype": "text/x-python",
   "name": "python",
   "nbconvert_exporter": "python",
   "pygments_lexer": "ipython3",
   "version": "3.9.16"
  }
 },
 "nbformat": 4,
 "nbformat_minor": 5
}
