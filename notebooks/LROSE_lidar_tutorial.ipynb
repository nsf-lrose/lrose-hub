{
 "cells": [
  {
   "cell_type": "markdown",
   "metadata": {},
   "source": [
    "# Operational Wind Lidar Processing with LROSE\n",
    "\n",
    "## About NSF NCAR Integrated Sounding System (ISS)\n",
    "\n",
    "The [Integrated Sounding System](https://www.eol.ucar.edu/observing_facilities/iss) is a suite of instruments for profiling the atmosphere from ground level. Instrumentation we operate includes wind profiling radars, scanning wind lidars, sounding systems, and more. The ISS is a requestable facility that deploys for field projects around the world.\n",
    "\n",
    "<figure align=\"center\">\n",
    "<img src=\"../images/lidar_tutorial_images/ISS_DG_pano_labelled.png\"/>\n",
    "<figcaption align = \"center\"> A labeled view of instruments at an ISS site on the island of Diego Garcia during the DYNAMO field campaign. </figcaption>\n",
    "</figure>\n",
    "\n",
    "### Scanning wind lidar\n",
    "The ISS currently operates a Leosphere WindCube WLS300S scanning wind lidar, primarily used to generate wind profiles in the lowest few kilometers of atmosphere. \n",
    "\n",
    "<figure align=\"center\">\n",
    "<img src=\"../images/lidar_tutorial_images/iss_cfact_windcube.png\"/>\n",
    "<figcaption align = \"center\"> Installing the ISS WindCube lidar at the CFACT campaign in Heber City, Utah. </figcaption>\n",
    "</figure>\n",
    "\n",
    "### Operational data products\n",
    "<figure align=\"center\">\n",
    "<img src=\"../images/lidar_tutorial_images/lrose_ams_tutorial_dataflow.drawio.png\"/>\n",
    "<figcaption align = \"center\"> Diagram of ISS lidar operational dataflow. </figcaption>\n",
    "</figure>\n",
    "\n",
    "We perform basic data processing in near real time during field campaigns, so users can verify that the lidar is functioning correctly and scientists can look at initial data collected. Our automated processing pipeline consists of four steps:\n",
    "1. Convert from Leosphere netCDF format to CFRadial netCDF\n",
    "2. Create single-scan plot files from CFRadial netCDF\n",
    "3. Calculate and plot VAD winds from CFRadial netCDF RHI scans\n",
    "4. Calculate and plot consensus averages from the VAD winds"
   ]
  },
  {
   "cell_type": "markdown",
   "metadata": {},
   "source": [
    "## Sample data\n",
    "\n",
    "This tutorial uses one day's worth of lidar data from the [M2HATS](https://www.eol.ucar.edu/field_projects/m2hats) field campaign in summer of 2023. During this project, the WindCube lidar was used mainly to derive wind profiles, so it ran mainly PPI scans. There were also periodic RHI and fixed scans.\n",
    "\n",
    "The WindCube lidar produces data in netCDF format, but it's not quite CFRadial compliant. It produces one file for each scan, and identifies the scan by type (PPI, RHI, fixed, or DBS) and by scan ID, which identifies the specific parameters (azimuth or elevation, gate spacing, etc) associated with the scan. In this data, the PPI scans with scan ID 178 were designed to be used for VAD wind calculations."
   ]
  },
  {
   "cell_type": "markdown",
   "metadata": {},
   "source": []
  },
  {
   "cell_type": "code",
   "execution_count": null,
   "metadata": {},
   "outputs": [],
   "source": [
    "# set up datadir and show raw data\n",
    "# set up dir for cfradial data too"
   ]
  },
  {
   "cell_type": "markdown",
   "metadata": {},
   "source": [
    "## Convert Leosphere format files to CFRadial\n",
    "\n",
    "The first step in our dataflow is to convert files to CFRadial format. This means that all subsequent processing steps are run on CFRadial data, which avoids the need for further instrument-specific processing. \n",
    "\n",
    "We use RadxConvert to convert to CFRadial. RadxConvert can read and convert Leosphere format netCDFs, and in the future will also be able to read and convert data from HALO lidars."
   ]
  },
  {
   "cell_type": "code",
   "execution_count": null,
   "metadata": {},
   "outputs": [],
   "source": [
    "# set up cfradial dir here\n",
    "\n",
    "files = glob.glob(datadir + '/*')\n",
    "for f in files:\n",
    "    !RadxConvert -f $f -outdir $CFRADIAL_DIR -params $BASE_DIR/params/lidar/RadxConvert.params\n",
    "# this could maybe just be -f $RAW_DIR/*? I think it can do multiple at once\n",
    "    \n",
    "    \n",
    "#/opt/iss-system/lrose/bin/RadxConvert -f /data/iss/lotos2024/iss2/lidar/rawdata/20241003/WLS200s-181_2024-10-03_20-26-40_rhi_41_50m.nc -outdir /data/iss/lotos2024/iss2/lidar/cfradial -params /iss/lrose/params/RadxConvert.params"
   ]
  },
  {
   "cell_type": "markdown",
   "metadata": {},
   "source": []
  },
  {
   "cell_type": "markdown",
   "metadata": {},
   "source": [
    "## Generate plots for each CFRadial PPI or RHI scan\n",
    "\n",
    "### HawkEye\n",
    "\n",
    "Operationally we use HawkEye from LROSE for this purpose. HawkEye is generally run interactively with a user interface, but it's possible to run non-interactively by supplying a virtual frame buffer such as Xvfb. \n",
    "\n",
    "On ISS field servers, we start Xvfb with:\n",
    "\n",
    " `/usr/bin/Xvfb :1000.0 -screen 0 2000x2000x24`. \n",
    "\n",
    " This can be run manually, or can be set up as a systemd service to start automatically. With Xvfb running, we set the `$DISPLAY` variable when calling HawkEye so it will use the virtual frame buffer: \n",
    " \n",
    " `env DISPLAY=:1000.0 HawkEye -params ...`\n",
    "\n",
    "We don't currently have a solution for running HawkEye in a jupyter notebook, because of its GUI needs. Below are two example plots that we generated using HawkEye locally on an ISS server. We generally create a plot of velocity and a plot of relative beta for each lidar scan.\n",
    "\n",
    "<figure align=\"center\">\n",
    "<img src=\"../images/lidar_tutorial_images/hawkeye_velocity.png\"/>\n",
    "<figcaption align = \"center\"> An example HawkEye plot of lidar velocity. </figcaption>\n",
    "</figure>\n",
    "\n",
    "<figure align=\"center\">\n",
    "<img src=\"../images/lidar_tutorial_images/hawkeye_beta.png\"/>\n",
    "<figcaption align = \"center\"> An example HawkEye plot of lidar relative beta. </figcaption>\n",
    "</figure>\n",
    "\n",
    "### PyArt\n",
    "\n",
    "* how to do this for tutorial purposes only"
   ]
  },
  {
   "cell_type": "code",
   "execution_count": null,
   "metadata": {},
   "outputs": [],
   "source": [
    "# can I get XVFB working in a notebook\n",
    "#python xvfb wrapper maybe?"
   ]
  },
  {
   "cell_type": "markdown",
   "metadata": {},
   "source": [
    "## `iss-lidar` python package\n",
    "\n",
    "We created our own python package to do VAD calculations and consensus averaging on wind lidar data. That code is on [github](https://github.com/ncar/iss-lidar) and newly available as a package on [PyPi](https://pypi.org/project/iss-lidar/). This code is very much a work in progress, so please feel free to get in touch with questions, issues, comments, or pull requests.\n",
    "\n",
    "- link to repo\n",
    "- why we wrote it (why our own vad?)\n",
    "- brief acknowledgements\n",
    "\n"
   ]
  },
  {
   "cell_type": "code",
   "execution_count": null,
   "metadata": {},
   "outputs": [],
   "source": [
    "# make sure iss-lidar package is up to date\n",
    "!pip install --upgrade iss-lidar\n"
   ]
  },
  {
   "cell_type": "markdown",
   "metadata": {},
   "source": [
    "## Generate VAD winds for each RHI file\n",
    "\n",
    "To get a vertical profile of 3-dimensional wind speed and direction, the iss-lidar package uses the velocity-azimuth-display (VAD) algorithm. We follow the implementation as described in [Newsom et al. 2019](https://doi.org/10.2172/1238069).\n",
    "\n",
    "The iss-lidar code reads in CFRadial PPI scans and produces a daily netCDF file containing VAD winds from all the PPI scans from that day. We use the format included in Appendix A of Newsom et al. 2019 for our VAD winds (and consensus winds) output.\n",
    "\n",
    "- why we made our own"
   ]
  },
  {
   "cell_type": "code",
   "execution_count": null,
   "metadata": {},
   "outputs": [],
   "source": [
    "# plots too?"
   ]
  },
  {
   "cell_type": "markdown",
   "metadata": {},
   "source": [
    "## Generate consensus averaged winds from VAD winds\n",
    "\n",
    "To create 30-minute averaged winds from VAD winds, the iss-lidar package uses consensus averaging.\n",
    "\n",
    "The iss-lidar code can either read in a VAD netCDF file, or use a VADSet object in memory (i.e. read in and calculated from PPIs). It outputs daily netCDF files of 30-minute consensus averages.\n",
    "\n",
    "* documentation on consensus averaging?"
   ]
  },
  {
   "cell_type": "code",
   "execution_count": null,
   "metadata": {},
   "outputs": [],
   "source": [
    "# plots too?"
   ]
  }
 ],
 "metadata": {
  "kernelspec": {
   "display_name": "lrose_tutorial",
   "language": "python",
   "name": "python3"
  },
  "language_info": {
   "codemirror_mode": {
    "name": "ipython",
    "version": 3
   },
   "file_extension": ".py",
   "mimetype": "text/x-python",
   "name": "python",
   "nbconvert_exporter": "python",
   "pygments_lexer": "ipython3",
   "version": "3.10.16"
  }
 },
 "nbformat": 4,
 "nbformat_minor": 2
}
