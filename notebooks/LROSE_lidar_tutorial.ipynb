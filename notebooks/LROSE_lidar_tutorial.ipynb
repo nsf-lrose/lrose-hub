{
 "cells": [
  {
   "cell_type": "markdown",
   "metadata": {},
   "source": [
    "# Operational Wind Lidar Processing with LROSE\n",
    "\n",
    "## About NCAR Integrated Sounding System (ISS)\n",
    "\n",
    "The ISS is a suite of instruments for profiling the atmosphere from ground level. Instrumentation we operate includes wind profiling radars, scanning wind lidars, sounding systems, and more.\n",
    "\n",
    "### Scanning wind lidar\n",
    "We currently own a Leosphere WindCube WLS300S scanning wind lidar that we deploy for many projects. \n",
    "\n",
    "### Operational data products\n",
    "[pic of lidar dataflow diagram]\n",
    "\n",
    "Our automated processing pipeline consists of these steps:\n",
    "1. Convert from Leosphere netCDF format (almost CFRadial compliant, but not quite) to CFRadial netCDF\n",
    "2. Create single-scan plot files from CFRadial netCDF\n",
    "3. Calculate VAD winds from CFRadial netCDF RHI scans\n",
    "4. Calculate consensus averages from the VAD winds"
   ]
  },
  {
   "cell_type": "markdown",
   "metadata": {},
   "source": [
    "### Initialize python"
   ]
  },
  {
   "cell_type": "code",
   "execution_count": null,
   "metadata": {},
   "outputs": [],
   "source": []
  },
  {
   "cell_type": "markdown",
   "metadata": {},
   "source": [
    "### Convert Leosphere format files to CFRadial\n",
    "\n",
    "We use the LROSE RadxConvert tool for this."
   ]
  },
  {
   "cell_type": "markdown",
   "metadata": {},
   "source": [
    "### Generate plots for each CFRadial PPI or RHI file\n",
    "\n",
    "We use HawkEye from LROSE for this."
   ]
  },
  {
   "cell_type": "markdown",
   "metadata": {},
   "source": [
    "### Generate VAD winds for each RHI file\n",
    "\n",
    "We use python code in the iss-lidar repo for this."
   ]
  },
  {
   "cell_type": "code",
   "execution_count": null,
   "metadata": {},
   "outputs": [],
   "source": []
  },
  {
   "cell_type": "markdown",
   "metadata": {},
   "source": [
    "### Generate consensus averaged winds from VAD winds\n",
    "\n",
    "We use python code in the iss-lidar repo for this."
   ]
  },
  {
   "cell_type": "code",
   "execution_count": null,
   "metadata": {},
   "outputs": [],
   "source": []
  }
 ],
 "metadata": {
  "kernelspec": {
   "display_name": "base",
   "language": "python",
   "name": "python3"
  },
  "language_info": {
   "codemirror_mode": {
    "name": "ipython",
    "version": 3
   },
   "file_extension": ".py",
   "mimetype": "text/x-python",
   "name": "python",
   "nbconvert_exporter": "python",
   "pygments_lexer": "ipython3",
   "version": "3.9.12"
  }
 },
 "nbformat": 4,
 "nbformat_minor": 2
}
