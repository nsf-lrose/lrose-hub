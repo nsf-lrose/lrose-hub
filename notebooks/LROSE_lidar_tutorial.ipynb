{
 "cells": [
  {
   "cell_type": "markdown",
   "metadata": {},
   "source": [
    "# Operational Wind Lidar Processing with LROSE\n",
    "\n",
    "## About NSF NCAR Integrated Sounding System (ISS)\n",
    "\n",
    "The [Integrated Sounding System](https://www.eol.ucar.edu/observing_facilities/iss) is a suite of instruments for profiling the atmosphere from ground level. Instrumentation we operate includes wind profiling radars, scanning wind lidars, sounding systems, and more. The ISS is a requestable facility that deploys for field projects around the world.\n",
    "\n",
    "<figure align=\"center\">\n",
    "<img src=\"../images/lidar_tutorial_images/ISS_DG_pano_labelled.png\"/>\n",
    "<figcaption align = \"center\"> A labeled view of instruments at an ISS site on the island of Diego Garcia during the DYNAMO field campaign. </figcaption>\n",
    "</figure>\n",
    "\n",
    "### Scanning wind lidar\n",
    "The ISS currently operates a [Leosphere WindCube WLS300S](https://www.vaisala.com/sites/default/files/documents/WEA-MET-WindCube-Scan-Lidar-Produ ct-Spotlight-B212058EN-A.pdf) scanning wind lidar, primarily used to generate wind profiles in the lowest few kilometers of atmosphere. \n",
    "\n",
    "<figure align=\"center\">\n",
    "<img src=\"../images/lidar_tutorial_images/iss_cfact_windcube.png\"/>\n",
    "<figcaption align = \"center\"> Installing the ISS WindCube lidar at the CFACT campaign in Heber City, Utah. </figcaption>\n",
    "</figure>\n",
    "\n",
    "### Operational data products\n",
    "<figure align=\"center\">\n",
    "<img src=\"../images/lidar_tutorial_images/lrose_ams_tutorial_dataflow.drawio.png\"/>\n",
    "<figcaption align = \"center\"> Diagram of ISS lidar operational dataflow. </figcaption>\n",
    "</figure>\n",
    "\n",
    "We perform basic data processing in near real time during field campaigns, so users can verify that the lidar is functioning correctly and scientists can look at initial data collected. Our automated processing pipeline consists of four steps:\n",
    "1. Convert from Leosphere netCDF format to CFRadial netCDF\n",
    "2. Create single-scan plot files from CFRadial netCDF\n",
    "3. Calculate and plot VAD winds from CFRadial netCDF RHI scans\n",
    "4. Calculate and plot consensus averages from the VAD winds"
   ]
  },
  {
   "cell_type": "markdown",
   "metadata": {},
   "source": [
    "## Set up"
   ]
  },
  {
   "cell_type": "code",
   "execution_count": 3,
   "metadata": {},
   "outputs": [],
   "source": [
    "# python imports\n",
    "import os\n",
    "import glob\n",
    "import datetime\n",
    "\n",
    "# environment variables\n",
    "os.environ['BASE_DIR'] = '/home/jovyan/lrose-hub'\n",
    "os.environ['PARAMS_DIR'] =  os.environ['BASE_DIR'] + '/params/lidar'\n",
    "os.environ['LIDAR_RAW_DIR'] = '/home/jovyan/share/data_files_for_notebooks/m2hats/20230820'"
   ]
  },
  {
   "cell_type": "markdown",
   "metadata": {},
   "source": [
    "## Sample data\n",
    "\n",
    "This tutorial uses one day's worth of lidar data from the [M2HATS](https://www.eol.ucar.edu/field_projects/m2hats) field campaign in summer of 2023. During this project, the WindCube lidar was used mainly to derive wind profiles, so it ran PPI scans almost continuously. It also ran N-S and E-W RHI scans, horizon sector scans, and vertical stares once hourly.\n",
    "\n",
    "The WindCube lidar produces data in netCDF format, but it's not quite CFRadial compliant. It produces one file for each scan, and identifies the scan by type (PPI, RHI, fixed, or DBS) and by scan ID, which identifies the specific parameters (azimuth or elevation, gate spacing, etc) associated with the scan. In this data, the PPI scans with scan ID 178 were designed to be used for VAD wind calculations and have an elevation of 35º."
   ]
  },
  {
   "cell_type": "code",
   "execution_count": null,
   "metadata": {},
   "outputs": [],
   "source": [
    "!ls ${LIDAR_RAW}/*.nc | head 20"
   ]
  },
  {
   "cell_type": "markdown",
   "metadata": {},
   "source": [
    "## Convert Leosphere format files to CFRadial\n",
    "\n",
    "The first step in our dataflow is to convert files to CFRadial format. This means that all subsequent processing steps are run on CFRadial data, which avoids the need for further instrument-specific processing. \n",
    "\n",
    "We use RadxConvert to convert to CFRadial. RadxConvert can read and convert Leosphere format netCDFs, and in the future will also be able to read and convert data from HALO lidars."
   ]
  },
  {
   "cell_type": "code",
   "execution_count": null,
   "metadata": {},
   "outputs": [],
   "source": [
    "\n",
    "# set up output directory\n",
    "os.environ['LIDAR_CFRAD_DIR'] = os.environ['BASE_DIR'] + '/data/lidar/cfradial'\n",
    "!rm -rf $LIDAR_CFRAD_DIR\n",
    "!mkdir -p $LIDAR_CFRAD_DIR\n",
    "\n",
    "# select input files\n",
    "lidar_raw = os.environ['LIDAR_RAW']\n",
    "files = glob.glob(lidar_raw + '/*.nc')\n",
    "\n",
    "# convert with RadxConvert\n",
    "for f in files[0:5]:\n",
    "    !RadxConvert -f $f -outdir $CFRADIAL_DIR -params ${PARAMS_DIR}/RadxConvert.params\n",
    "# this could maybe just be -f $RAW_DIR/*? I think it can do multiple at once\n",
    "    \n",
    "    # what special values for parameters do we use - would be nice to have a way to find non-default parameters\n",
    "\n",
    "#/opt/iss-system/lrose/bin/RadxConvert -f /data/iss/lotos2024/iss2/lidar/rawdata/20241003/WLS200s-181_2024-10-03_20-26-40_rhi_41_50m.nc -outdir /data/iss/lotos2024/iss2/lidar/cfradial -params /iss/lrose/params/RadxConvert.params"
   ]
  },
  {
   "cell_type": "markdown",
   "metadata": {},
   "source": [
    "## Generate plots for each CFRadial PPI or RHI scan\n",
    "\n",
    "### HawkEye\n",
    "\n",
    "Operationally we use HawkEye from LROSE for this purpose. HawkEye is generally run interactively with a user interface, but it's possible to run non-interactively by supplying a virtual frame buffer such as Xvfb. \n",
    "\n",
    "On ISS field servers, we start Xvfb with:\n",
    "\n",
    " `/usr/bin/Xvfb :1000.0 -screen 0 2000x2000x24`. \n",
    "\n",
    " This can be run manually, or can be set up as a systemd service to start automatically. With Xvfb running, we set the `$DISPLAY` variable when calling HawkEye so it will use the virtual frame buffer: \n",
    " \n",
    " `env DISPLAY=:1000.0 HawkEye -params ...`\n",
    "\n",
    "We don't currently have a solution for running HawkEye in a jupyter notebook, because of its GUI needs. Below are two example plots that we generated using HawkEye locally on an ISS server. We generally create a plot of velocity and a plot of relative beta for each lidar scan.\n",
    "\n",
    "<figure align=\"center\">\n",
    "<img src=\"../images/lidar_tutorial_images/hawkeye_velocity.png\"/>\n",
    "<figcaption align = \"center\"> An example HawkEye plot of lidar velocity. </figcaption>\n",
    "</figure>\n",
    "\n",
    "<figure align=\"center\">\n",
    "<img src=\"../images/lidar_tutorial_images/hawkeye_beta.png\"/>\n",
    "<figcaption align = \"center\"> An example HawkEye plot of lidar relative beta. </figcaption>\n",
    "</figure>\n",
    "\n",
    "### PyArt\n",
    "\n",
    "* how to do this for tutorial purposes only"
   ]
  },
  {
   "cell_type": "code",
   "execution_count": null,
   "metadata": {},
   "outputs": [],
   "source": [
    "# can I get XVFB working in a notebook\n",
    "#python xvfb wrapper maybe?"
   ]
  },
  {
   "cell_type": "markdown",
   "metadata": {},
   "source": [
    "## `iss-lidar` python package\n",
    "\n",
    "We created our own python package to do VAD calculations and consensus averaging on wind lidar data. That code is on [github](https://github.com/ncar/iss-lidar) and newly available as a python package on [PyPi](https://pypi.org/project/iss-lidar/). This code is very much a work in progress, so please feel free to get in touch with questions, issues, comments, or pull requests.\n",
    "\n",
    "- link to repo\n",
    "- why we wrote it (why our own vad?)\n",
    "- brief acknowledgements\n",
    "\n",
    "### Scripts\n",
    "Mention scripts that can be used if you download the repo? Like ppi_to_vad and vad_to_consensus, if you don't want it to be part of your own code. This tutorial is a notebook so we'll be calling functions directly, but you can use the scripts too. Maybe include the help output from each script here. Are these included in the package install? If so how do you use em?"
   ]
  },
  {
   "cell_type": "code",
   "execution_count": null,
   "metadata": {},
   "outputs": [],
   "source": [
    "# make sure iss-lidar package is up to date\n",
    "!pip install --upgrade iss-lidar\n",
    "\n",
    "from iss_lidar import VADSet\n",
    "from iss_lidar import ConsensusSet\n",
    "from iss_lidar import create_cns_filename"
   ]
  },
  {
   "cell_type": "markdown",
   "metadata": {},
   "source": [
    "## Generate VAD winds for each RHI file\n",
    "\n",
    "To get a vertical profile of 3-dimensional wind speed and direction, the iss-lidar package uses the velocity-azimuth-display (VAD) algorithm. We follow the implementation as described in [Newsom et al. 2019](https://doi.org/10.2172/1238069).\n",
    "\n",
    "The iss-lidar code reads in CFRadial PPI scans and produces a daily netCDF file containing VAD winds from all the PPI scans from that day. We use the format included in Appendix A of Newsom et al. 2019 for our VAD winds (and consensus winds) output.\n",
    "\n",
    "### Thresholding explanation\n",
    "....."
   ]
  },
  {
   "cell_type": "code",
   "execution_count": null,
   "metadata": {},
   "outputs": [],
   "source": [
    "# set up output directory\n",
    "os.environ['LIDAR_VAD_DIR'] = os.environ['BASE_DIR'] + '/data/lidar/vad'\n",
    "!rm -rf $LIDAR_VAD_DIR\n",
    "!mkdir -p $LIDAR_VAD_DIR\n",
    "\n",
    "# select input files\n",
    "cfrad_dir = os.environ['LIDAR_CFRAD_DIR']\n",
    "ppis_for_vad = glob.glob(cfrad_dir + '/*ppi_178*') # fix this glob for cfrad file names\n",
    "print(ppis_for_vad, type(ppis_for_vad)) #is this just a list i can pass to from_PPIs directly?\n",
    "\n",
    "# set minimum CNR threshold\n",
    "min_cnr = -22\n",
    "\n",
    "# create VADSet object from PPI files\n",
    "vadset = VADSet.from_PPIs(ppis_for_vad, min_cnr)\n",
    "\n",
    "# perform optional thresholding\n",
    "vadset.load_thresholds(args.threshold_config)\n",
    "vadset.apply_thresholds()\n",
    "        \n",
    "# save output to netCDF\n",
    "save(vadset, os.environ['LIDAR_VAD_DIR']) # does this need to be an environ var or can it just be a python variable?!?\n",
    "\n",
    "# break this cell up into multiples to further explain each of the commands?\n",
    "# plots ?!?!?\n"
   ]
  },
  {
   "cell_type": "markdown",
   "metadata": {},
   "source": [
    "## Generate consensus averaged winds from VAD winds\n",
    "\n",
    "To create 30-minute averaged winds from VAD winds, the iss-lidar package uses consensus averaging.\n",
    "\n",
    "The iss-lidar code can either read in a VAD netCDF file, or use a VADSet object in memory (i.e. read in and calculated from PPIs). It outputs daily netCDF files of 30-minute consensus averages.\n",
    "\n",
    "* documentation on consensus averaging?"
   ]
  },
  {
   "cell_type": "code",
   "execution_count": null,
   "metadata": {},
   "outputs": [],
   "source": [
    "# set up output directory \n",
    "os.environ['LIDAR_CNS_DIR'] = os.environ['BASE_DIR'] + '/data/lidar/consensus'\n",
    "!rm -rf $LIDAR_CNS_DIR\n",
    "!mkdir -p $LIDAR_CNS_DIR\n",
    "\n",
    "# does this have to be an environ too or can it just be a python variable\n",
    "\n",
    "# consensus window\n",
    "cns_window = 5 # why did we pick this??\n",
    "timespan = datetime.timedelta(minutes=30) #30 minute averages\n",
    "\n",
    "# this can be done from VADSet object directly:\n",
    "\n",
    "# or it can be done by reading in VAD data from file:\n",
    "vadfile =# hardcode path? or get it from glob?\n",
    "vs = VADSet.from_file(args.vadfile)\n",
    "cs = ConsensusSet.from_VADSet(vs, cns_window, timespan)\n",
    "\n",
    "# populate filename with consensus averaging timespan\n",
    "fpath = create_cns_filename(timespan, cs.stime[0], os.environ.get['LIDAR_CNS_DIR'])\n",
    "\n",
    "# save file\n",
    "cs.to_ARM_netcdf(fpath)\n",
    "\n",
    "if (args.plot):\n",
    "    plot(fpath, cs.u, cs.v, cs.stime, cs.height)"
   ]
  },
  {
   "cell_type": "markdown",
   "metadata": {},
   "source": [
    "Vertical stare plot examples\n",
    "\n",
    "Not yet publically available code, but we're working on it :(\n",
    "\n",
    "Mention scripts that can be used if you download the repo? Like ppi_to_vad and vad_to_consensus, if you don't want it to be part of your own code. "
   ]
  }
 ],
 "metadata": {
  "kernelspec": {
   "display_name": "lrose_tutorial",
   "language": "python",
   "name": "python3"
  },
  "language_info": {
   "codemirror_mode": {
    "name": "ipython",
    "version": 3
   },
   "file_extension": ".py",
   "mimetype": "text/x-python",
   "name": "python",
   "nbconvert_exporter": "python",
   "pygments_lexer": "ipython3",
   "version": "3.10.16"
  }
 },
 "nbformat": 4,
 "nbformat_minor": 2
}
