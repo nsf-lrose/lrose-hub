{
 "cells": [
  {
   "cell_type": "markdown",
   "id": "de6e774d-3552-4954-97b3-b5ebaf9e5c26",
   "metadata": {},
   "source": [
    "# NEXRAD HCA Tutorial\n",
    "\n",
    "---\n",
    "\n",
    "This interactive tutorial takes you through the steps of how to run RadxHca. RadxHca runs the hydrometeor classification algorithm described in [Park et al. (2009)](https://doi.org/10.1175/2008WAF2222205.1). \n",
    "\n",
    "From Section 2a of the manuscript: \n",
    "> The HCA discriminates between 10 classes of radar echo: 1) ground clutter, including that due to anomalous propagation (GC/AP); 2) biological scatterers (BS); 3) dry aggregated snow (DS); 4) wet snow (WS); 5) crystals of various orientations (CR); 6) graupel (GR); 7) “big drops” (BD); 8) light and moderate rain (RA); 9) heavy rain (HR); and 10) a mixture of rain and hail (RH). The big-drops category designates rain with a drop size distribution skewed toward large raindrops. This usually implies the presence of drops bigger than 3 mm and the deficit of smaller drops.\n",
    "\n",
    "---\n",
    "\n",
    "*Note: this tutorial is just one type of workflow to use RadxHca.*\n",
    "\n",
    "---\n",
    "\n",
    "## Tutorial Overview\n",
    "### 1. Setup\n",
    "\n",
    "#### Directory organization\n",
    "\n",
    "The structure of the echo tutorial on JupyterHub is shown in the diagram below. The parent or base directory is \"lrose-hub\" and contains all of the notebooks, parameter files, and data for the workshop.\n",
    "\n",
    "<div>\n",
    "<img src=\"../images/nexrad_hca_structure.png\" width=\"500\"/>\n",
    "</div>\n",
    "\n",
    "#### Download raw data and prepare parameter files\n",
    "\n",
    "Raw data files:\n",
    "* gfsanl_4_2025061706.g2.tar\n",
    "* gfsanl_4_2025061712.g2.tar\n",
    "* KCYS20250617_082327_V06\n",
    "\n",
    "Parameter files:\n",
    "\n",
    "* Grib2toMdv params\n",
    "* Mdv2SoundingSpdb params\n",
    "* Pid Thresholds params (S-band, simultaneous transmit)\n",
    "* RadxHca params\n",
    "\n",
    "\n",
    "### 2. Prepare data for analysis\n",
    "\n",
    "* Convert Nexrad level 2 to CfRadial\n",
    "    * RadxConvert\n",
    "* Retrieve sounding from GFS analysis, which is needed to estimate the melting level in the HCA/PID analysis\n",
    "    * Grib2toMdv, Mdv2SoundingSpdb\n",
    "\n",
    "### 3. Run RadxHca\n",
    "\n",
    "* Run NEXRAD HCA and NCAR PID algorithms\n",
    "    * RadxHca\n",
    "\n",
    "### 4. Plot HCA\n",
    "\n",
    "* Visualize results of RadxHca analysis using [Py-ART](https://arm-doe.github.io/pyart/)\n",
    "\n",
    "### 5. Note on task cells\n",
    "\n",
    "This notebook uses two colored cells to indicate tasks.\n",
    "\n",
    "<div class=\"alert alert-block alert-info\"> <b>File Task: modify parameters in text files.</b> \n",
    "\n",
    "These text blocks help the user modify the parameter files or other functions in *external* text files.\n",
    "\n",
    "</div>\n",
    "\n",
    "<div class=\"alert alert-block alert-warning\"> <b>Cell Task: run a command in Jupyter notebook cell.</b> \n",
    "\n",
    "These text blocks instruct the users to run a command *in* a cell within the Jupyter notebook. If you prefer, you are welcome to copy the commands (minus the ! symbol) into a terminal window.\n",
    "\n",
    "</div>\n",
    "\n",
    "---"
   ]
  },
  {
   "cell_type": "markdown",
   "id": "5ebfa76f",
   "metadata": {},
   "source": [
    "# 1. Setup\n",
    "## Environment and packages"
   ]
  },
  {
   "cell_type": "markdown",
   "id": "edc99a35",
   "metadata": {},
   "source": [
    "First, we import the required python packages to run this notebook. Most of the LROSE processing can be done with the os package and shell commands. At the end we will plot the output using Py-ART."
   ]
  },
  {
   "cell_type": "code",
   "execution_count": null,
   "id": "9118e997-cfa3-429e-98db-7c413388d008",
   "metadata": {},
   "outputs": [],
   "source": [
    "import os\n",
    "import pyart\n",
    "import matplotlib.pyplot as plt\n",
    "import matplotlib.colors as colors\n",
    "import numpy as np"
   ]
  },
  {
   "cell_type": "markdown",
   "id": "cd14072d",
   "metadata": {},
   "source": [
    "Next, we set up the directory structure to simplify our commands. If you are running this notebook on the LROSE Gateway JupyterHub, these paths go to the parent directory containing all the workshop resources and the LROSE binaries. \n",
    "\n",
    "**If you have downloaded this notebook, please modify BASE_DIR and RAW_DIR to work on your personal machine. Note that raw data is currently provided through the Gateway. We're working to set up more permanent storage for offline users - in the meantime, contact the Gateway team to request the data.**\n",
    "\n",
    "* BASE_DIR: the base directory containing the directories for the notebooks, data, parameter files\n",
    "* RAW_DIR: the directory containing the raw data used in tutorials\n",
    "* RADAR_NAME: the name of the radar used in this tutorial"
   ]
  },
  {
   "cell_type": "code",
   "execution_count": null,
   "id": "3cf8695a-059b-499b-983f-1827c1de6304",
   "metadata": {},
   "outputs": [],
   "source": [
    "os.environ['BASE_DIR'] = '/home/jovyan/lrose-hub'\n",
    "os.environ['RAW_DIR'] = '/home/jovyan/share/raw'\n",
    "os.environ['RADAR_NAME'] = 'KCYS'\n",
    "base_dir = os.environ['BASE_DIR']\n",
    "radar_name = os.environ['RADAR_NAME']\n",
    "!echo \"Base directory: \"$BASE_DIR\n",
    "!echo \"Radar name: \"$RADAR_NAME"
   ]
  },
  {
   "cell_type": "markdown",
   "id": "cfc53496-a785-4816-82ac-e7e379d25a50",
   "metadata": {},
   "source": [
    "## Set up directories\n",
    "\n",
    "We need to set up the required data directories. The raw radar data and GFS analysis is located within the share directory on the JupyterHub. We delete any existing files and directories specific to this tutorial to ensure we're starting with clean directories and files."
   ]
  },
  {
   "cell_type": "code",
   "execution_count": null,
   "id": "b1f22ecf-9c3b-4ae1-8e5a-aa8c4f954d2c",
   "metadata": {},
   "outputs": [],
   "source": [
    "## make a directory for all the data files in the HCA tutorial (raw and analysis)\n",
    "!rm -rf ${BASE_DIR}/data/nexrad_hca\n",
    "!mkdir -p ${BASE_DIR}/data/nexrad_hca\n",
    "\n",
    "## make subdirectory within data for the converted data\n",
    "!rm -rf ${BASE_DIR}/data/nexrad_hca/cfradial\n",
    "!mkdir ${BASE_DIR}/data/nexrad_hca/cfradial\n",
    "\n",
    "## make subdirectory within data for sounding data\n",
    "!rm -rf ${BASE_DIR}/data/nexrad_hca/sounding\n",
    "!mkdir ${BASE_DIR}/data/nexrad_hca/sounding\n",
    "\n",
    "## make a directory for the parameter files\n",
    "!rm -rf ${BASE_DIR}/params/nexrad_hca\n",
    "!mkdir -p ${BASE_DIR}/params/nexrad_hca\n"
   ]
  },
  {
   "cell_type": "markdown",
   "id": "edc30bff-24e7-470e-8831-4b51b5ff92cb",
   "metadata": {},
   "source": [
    "We can examine the raw radar file using RadxPrint. RadxPrint reads CfRadial and other raw radar formats and prints out radar metadata, variable names, and sweep information. For example, we can look at the variables using the following command, piping the output into the bash head command."
   ]
  },
  {
   "cell_type": "code",
   "execution_count": null,
   "id": "d8a3484f-bcc2-40ec-afab-899b3a28b807",
   "metadata": {
    "scrolled": true,
    "tags": []
   },
   "outputs": [],
   "source": [
    "# print out the first 50 lines of RadxPrint output\n",
    "!RadxPrint -f ${RAW_DIR}/nexrad_hca/KCYS20250617_082327_V06 | head -50\n"
   ]
  },
  {
   "cell_type": "markdown",
   "id": "b24e2f0f-fc42-4845-a5dd-50040f5b8c1e",
   "metadata": {
    "tags": []
   },
   "source": [
    "# 2. Prepare data for analysis\n",
    "## 2.1 Convert Nexrad Level II to CfRadial files"
   ]
  },
  {
   "cell_type": "markdown",
   "id": "6c30b00c",
   "metadata": {},
   "source": [
    "We convert the raw to CfRadial using RadxConvert so the other applications can read the files. Note that in the vast majority of cases, RadxConvert can be run without a parameter file, including in this case. However, there are instances where a parameter file is useful.\n",
    "\n",
    "Here, the *-f* flag provides the path to the raw radar file and the *-outdir* flag tells RadxConvert where the CfRadial file will be written. "
   ]
  },
  {
   "cell_type": "code",
   "execution_count": null,
   "id": "2bd3f5af-be73-4c9a-82f6-e41dc7f4f13e",
   "metadata": {
    "scrolled": true,
    "tags": []
   },
   "outputs": [],
   "source": [
    "!RadxConvert -f ${RAW_DIR}/nexrad_hca/KCYS20250617_082327_V06 -outdir ${BASE_DIR}/data/nexrad_hca/cfradial\n"
   ]
  },
  {
   "cell_type": "markdown",
   "id": "f7fa7988-cd00-4691-aeb3-8c6e88e1815b",
   "metadata": {},
   "source": [
    "## 2.2 Visually Inspect Data\n",
    "\n",
    "First, let's look at a basic plot of the raw data using Py-ART."
   ]
  },
  {
   "cell_type": "code",
   "execution_count": null,
   "id": "3ff5f89f-ecc5-4b82-8380-8bcb2417c686",
   "metadata": {},
   "outputs": [],
   "source": [
    "# Read CfRadial file into radar object\n",
    "inDir_raw = base_dir+\"/data/nexrad_hca/cfradial/20250617/\"\n",
    "file_raw = \"cfrad.20250617_082327.974_to_20250617_083013.086_KCYS_SUR.nc\"\n",
    "radar_raw = pyart.io.read_cfradial(inDir_raw+file_raw)\n",
    "\n",
    "# Plot raw data\n",
    "\n",
    "displayRaw = pyart.graph.RadarDisplay(radar_raw)\n",
    "figRaw = plt.figure(1, (12, 5))\n",
    "\n",
    "# DBZ (input)\n",
    "\n",
    "axDbz = figRaw.add_subplot(121)\n",
    "displayRaw.plot_ppi('REF', 0, vmin=-32, vmax=64.,\n",
    "                    axislabels=(\"x(km)\", \"y(km)\"),\n",
    "                    colorbar_label=\"DBZ\")\n",
    "displayRaw.plot_range_rings([50, 100, 150, 200, 250])\n",
    "displayRaw.plot_cross_hair(250.)\n",
    "displayRaw.set_limits(xlim=(-300,300),ylim=(-300,300))\n",
    "\n",
    "# ZDR\n",
    "\n",
    "axZdr = figRaw.add_subplot(122)\n",
    "displayRaw.plot_ppi('ZDR', 0, vmin=-1., vmax=5.,\n",
    "    axislabels=(\"x(km)\", \"y(km)\"),\n",
    "    colorbar_label=\"ZDR\",\n",
    "    cmap=\"nipy_spectral\")\n",
    "displayRaw.plot_range_rings([50, 100, 150, 200, 250])\n",
    "displayRaw.plot_cross_hair(250.)\n",
    "displayRaw.set_limits(xlim=(-300,300),ylim=(-300,300))"
   ]
  },
  {
   "cell_type": "markdown",
   "id": "7e968a98-ca46-4bd6-b8a7-78ee98c25d06",
   "metadata": {},
   "source": [
    "## 2.3 Untar GFS analysis grib2 files for sounding\n",
    "We use the GFS analysis to obtain a sounding for the PID algorithm. We need to untar the files, convert to a gridded file format (Grib2toMdv), then extract the sounding and store in in the Spdb format (Mdv2SoundingSpdb).\n",
    "\n",
    "To download GFS analyses for other cases or radars, please visit [this link](https://www.ncei.noaa.gov/products/weather-climate-models/global-forecast) and download it however you prefer. Using the NCEI servers and the HAS option usually works well."
   ]
  },
  {
   "cell_type": "code",
   "execution_count": null,
   "id": "068b4e8d-c01f-433b-80d9-f6b665417509",
   "metadata": {},
   "outputs": [],
   "source": [
    "# Grib2Mdv --> Mdv2SoundingSpdb\n",
    "\n",
    "# make directory for grib files in data/sounding\n",
    "!rm -rf ${BASE_DIR}/data/nexrad_hca/sounding/grib\n",
    "!mkdir -p ${BASE_DIR}/data/nexrad_hca/sounding/grib\n",
    "\n",
    "# extract file from tape archive (tar) and place in the grib directory\n",
    "!tar -xvf ${RAW_DIR}/nexrad_hca/gfsanl_4_2025061706.g2.tar -C ${BASE_DIR}/data/nexrad_hca/sounding/grib/\n",
    "!tar -xvf ${RAW_DIR}/nexrad_hca/gfsanl_4_2025061712.g2.tar -C ${BASE_DIR}/data/nexrad_hca/sounding/grib/\n"
   ]
  },
  {
   "cell_type": "markdown",
   "id": "29782a1b-1291-4cfb-880b-541d6d27a873",
   "metadata": {},
   "source": [
    "## 2.4 Convert from Grib2 (model analysis) to MDV\n",
    "\n",
    "The program to retrieve the model sounding requires a gridded file format called MDV. Grib2toMdv converts the GFS analysis from GRIB to MDV. Grib2toMdv needs to know where to write the gridded data files, the name of the fields, how the grid should be remapped (e.g., map projection), the size of the new grid, and the vertical levels.\n",
    "\n",
    "While users can generate their own parameter file, frequent users of LROSE will often use existing parameter files from previous projects, particularly if the same model is used for sounding extraction. We have provided a generic parameter file used with GFS analyses, where the model field names have already been filled out and specifies that only the non-forecast times should be written.\n",
    "\n",
    "| Parameter | Description |\n",
    "| --- | --- |\n",
    "|write_forecast|Specify if output should be written in a forecast directory structure.|\n",
    "|write_non_forecast|Specify if output should be written in a non-forecast directory structure.|\n",
    "|non_forecast_mdv_url|Absolute path where MDV files are written.|\n",
    "\n",
    "<div class=\"alert alert-block alert-warning\"> <b>Cell Task: copy over the Grib2toMdv parameter file.</b> \n",
    "\n",
    "Copy the parameter file: <code lang=\"bash\">!rsync -av /home/jovyan/share/raw/shared_params/Grib2toMdv_params_gfs ${BASE_DIR}/params/nexrad_hca/Grib2toMdv_params</code>\n",
    "\n",
    "</div>\n"
   ]
  },
  {
   "cell_type": "code",
   "execution_count": null,
   "id": "9d27d0de-7cf9-4d6b-ade6-f494a1b72d54",
   "metadata": {},
   "outputs": [],
   "source": []
  },
  {
   "cell_type": "markdown",
   "id": "8acc751f-53f8-4290-a1e6-3ced5a62524e",
   "metadata": {},
   "source": [
    "<div class=\"alert alert-block alert-info\"> <b>File Task: verify and set output parameters</b> \n",
    "    <br>\n",
    "\n",
    "1. In the Grib2toMdv parameter file (Grib2toMdv_params), verify that <code lang=\"bash\">write_forecast = FALSE;</code>\n",
    "\n",
    "2. In the Grib2toMdv parameter file (Grib2toMdv_params), verify that <code lang=\"bash\">write_non_forecast = TRUE;</code>\n",
    "\n",
    "3. In the Grib2toMdv parameter file (Grib2toMdv_params), change <code lang=\"bash\">non_forecast_mdv_url = \"/home/jovyan/lrose-hub/data/nexrad_hca/sounding/mdv\";</code>\n",
    "\n",
    "</div>"
   ]
  },
  {
   "cell_type": "markdown",
   "id": "55997925-6eb9-4fd8-b922-a27a784481b9",
   "metadata": {},
   "source": [
    "---\n",
    "\n",
    "Next, we specify the output grid.\n",
    "\n",
    "| Parameter | Description |\n",
    "| --- | --- |\n",
    "|remap_output|Specify whether to remap the output (*TRUE* or *FALSE*, usually *TRUE*).|\n",
    "|out_projection_info|Set map projection type and radar location if necessary.|\n",
    "|out_grid_info|User-specified domain surrounding the region of interest and radar(s). Parameters: nx/ny - number of points, minx/miny - bottom left lat/lon (deg), dx/dy - delta lon/lat (deg).|\n",
    "|height_levels|User-specified height levels, optional.|\n",
    "\n",
    "<div class=\"alert alert-block alert-info\"> <b>File Task: specify the output grid.</b> \n",
    "\n",
    "1. In the Grib2toMdv parameter file (Grib2toMdv_params), change <code lang=\"bash\">remap_output = TRUE;</code>\n",
    "    \n",
    "2. In the Grib2toMdv parameter file (Grib2toMdv_params), make sure that <code lang=\"bash\">type = PROJ_LATLON,</code> in <code lang=\"bash\">out_projection_info</code>.\n",
    "\n",
    "3. In the Grib2toMdv parameter file (Grib2toMdv_params), change the grid dimensions. These values specify a 60x60 grid, with a grid spacing of 0.1º in each direction, where the lower left hand corner of the box is 38ºN, 107ºW.\n",
    "\n",
    "\n",
    "<code lang=\"bash\">out_grid_info = {\n",
    "    nx = 60,\n",
    "    ny = 60,\n",
    "    minx = -107,\n",
    "    miny = 38,\n",
    "    dx = 0.1,\n",
    "    dy = 0.1\n",
    "};</code>\n",
    "\n",
    "\n",
    "</div>"
   ]
  },
  {
   "cell_type": "markdown",
   "id": "916db949-b2d9-43b3-a735-26fcd72a9605",
   "metadata": {},
   "source": [
    "---\n",
    "**Now we can run Grib2toMdv to convert the files from Grib to NCAR's MDV format.**\n",
    "\n",
    "Here, the *-params* flag directs Grib2toMdv to the parameter file and *-f* points to the raw GRIB file path. This can also be specified in the parameter *input_dir*."
   ]
  },
  {
   "cell_type": "code",
   "execution_count": null,
   "id": "edb42f75-af18-4296-a518-2842d6e753d9",
   "metadata": {
    "scrolled": true,
    "tags": []
   },
   "outputs": [],
   "source": [
    "# Grib2 -> MDV\n",
    "!Grib2toMdv -params ${BASE_DIR}/params/nexrad_hca/Grib2toMdv_params -f ${BASE_DIR}/data/nexrad_hca/sounding/grib/*000.grb2\n"
   ]
  },
  {
   "cell_type": "markdown",
   "id": "617a84c8-f2db-46da-b26d-1da2e90980d3",
   "metadata": {},
   "source": [
    "## 2.5 Convert from MDV (gridded data) to SoundingSpdb\n",
    "\n",
    "Now that we have model analysis in a small grid around the radar(s), we can extract the sounding from the radar location and store it in a database format (Spdb). Mdv2SoundingSpdb needs the variable names in the MDV files, the geographic location of the radars, and the path where the Spdb files will be writen.\n",
    "\n",
    "While users can generate their own parameter file, frequent users of LROSE will often use existing parameter files from previous projects, particularly if the same model is used for sounding extraction. We have provided a generic parameter file used with GFS analyses, where the model field names have already been filled out and specifies that only the non-forecast times should be written.\n",
    "\n",
    "| Parameter | Line # | Description |\n",
    "| --- | --- | --- |\n",
    "|station_locations| 247 |Geographic location of the radar(s): radar lat, lon, altitude.|\n",
    "|ouput_url| 268 |Absolute path where Spdb files are written.|\n",
    "\n",
    "<div class=\"alert alert-block alert-warning\"> <b>Cell Task: copy over the Grib2toMdv parameter file.</b> \n",
    "\n",
    "Copy the parameter file: <code lang=\"bash\">!rsync -av /home/jovyan/share/raw/shared_params/Mdv2SoundingSpdb_params_gfs ${BASE_DIR}/params/nexrad_hca/Mdv2SoundingSpdb_params</code>\n",
    "\n",
    "</div>\n"
   ]
  },
  {
   "cell_type": "code",
   "execution_count": null,
   "id": "f43bb63d-1fb1-441a-866f-0398acd084c9",
   "metadata": {},
   "outputs": [],
   "source": [
    "\n"
   ]
  },
  {
   "cell_type": "markdown",
   "id": "3fc2d854-530f-49dd-8d01-7235075815f7",
   "metadata": {},
   "source": [
    "<div class=\"alert alert-block alert-info\"> <b>File Task: Fill in the station location info and set the Spdb output path.</b> \n",
    "    <br>\n",
    "   \n",
    "1. In the Mdv2SoundingSpdb parameter file (Mdv2SoundingSpdb_params), fill in the <code lang=\"bash\">station_locations</code> parameter for KCYS\n",
    "\n",
    "2. In the Mdv2SoundingSpdb parameter file (Mdv2SoundingSpdb_params), change <code lang=\"bash\">ouput_url = \"/home/jovyan/lrose-hub/data/nexrad_hca/sounding/spdb\";</code>\n",
    "\n",
    "\n",
    "Hint: we can use RadxPrint to get the metadata and obtain the location information for the radar.\n",
    "\n",
    "<code lang=\"bash\">!RadxPrint -f ${BASE_DIR}/data/nexrad_hca/cfradial/20250617/*.nc | head -30</code>\n",
    "\n",
    "</div>"
   ]
  },
  {
   "cell_type": "code",
   "execution_count": null,
   "id": "1fadcc54-7f9e-4298-80a7-df5d201e23cd",
   "metadata": {},
   "outputs": [],
   "source": []
  },
  {
   "cell_type": "markdown",
   "id": "be9c1d29-7115-4b28-9eda-78de606fe51d",
   "metadata": {},
   "source": [
    "---\n",
    "\n",
    "**Now we can run Mdv2SoundingSpdb to extract the soundings from the MDV files and place them in the Spdb database files.**\n",
    "\n",
    "Here, the <code lang=\"bash\">-params</code> flag directs Mdv2SoundingSpdb to the parameter file and <code lang=\"bash\">-f</code> points to the raw GRIB file."
   ]
  },
  {
   "cell_type": "code",
   "execution_count": null,
   "id": "86fc5b85-2fdb-499a-b4e7-9478af753eba",
   "metadata": {
    "scrolled": true,
    "tags": []
   },
   "outputs": [],
   "source": [
    "# convert Mdv to Spdb\n",
    "!Mdv2SoundingSpdb -params ${BASE_DIR}/params/nexrad_hca/Mdv2SoundingSpdb_params -f ${BASE_DIR}/data/nexrad_hca/sounding/mdv/20250617/*.mdv*\n"
   ]
  },
  {
   "cell_type": "markdown",
   "id": "8e153385-8a0b-460e-9c54-b1552b834336",
   "metadata": {},
   "source": [
    "We can check the sounding quality using SpdbQuery, which prints out a summary of the sounding data. Here, <code lang=\"bash\">-url</code> indicates the directory where the Spdb files are located and <code lang=\"bash\">-start</code> and <code lang=\"bash\">-end</code> provide the date range over which we want to inspect the sounding information. "
   ]
  },
  {
   "cell_type": "code",
   "execution_count": null,
   "id": "76623098-8926-43ac-b1f0-22c066f69f03",
   "metadata": {
    "scrolled": true,
    "tags": []
   },
   "outputs": [],
   "source": [
    "!SpdbQuery -url ${BASE_DIR}/data/nexrad_hca/sounding/spdb -start \"2025 06 17 06 00 00\" -end \" 2025 06 17 12 00 00\"\n"
   ]
  },
  {
   "cell_type": "markdown",
   "id": "a0ca1ff6-2fc1-4aab-9f56-134b74eccb6c",
   "metadata": {},
   "source": [
    "# 3. Setup and run RadxHca"
   ]
  },
  {
   "cell_type": "markdown",
   "id": "a0acd67e",
   "metadata": {},
   "source": [
    "## RadxHca Overview\n",
    "\n",
    "With the radar data and sounding, we can now set up and run RadxHca. First, KDP is calculated. Then polarimetric radar data, calculated KDP, and sounding data are used to run the NEXRAD HCA, which determines the dominant hydrometeor at each range gate. \n",
    "\n",
    "Running RadxHca requires one main parameter file on the command line. We will guide you through the setup.\n",
    "\n",
    "RadxHca requires the field names in the input CfRadial file, whether SNR and LDR are available, the method for KDP calculation, how to calculate the NEXRAD HCA and NCAR PID, whether to use attenuation-correction fields, and the variables to be written. \n",
    "\n",
    "<div class=\"alert alert-block alert-warning\"> <b>Cell Task: Check command line options of RadxHca</b> \n",
    "    <br>\n",
    "    LROSE applications often let you link to the input files and set the output directory on the command line. Let's check that those options exist (e.g., -f and -outdir). Type the following command into the open cell below and run it!\n",
    "    <br>\n",
    "    <code lang=\"bash\">!RadxHca -h</code>\n",
    "</div>"
   ]
  },
  {
   "cell_type": "code",
   "execution_count": null,
   "id": "4f020cec-b76b-45d9-add4-0f9d3a001614",
   "metadata": {},
   "outputs": [],
   "source": []
  },
  {
   "cell_type": "markdown",
   "id": "b286b541-1d40-4d89-b713-3de9558c0168",
   "metadata": {},
   "source": [
    "## 3.1 Generate the parameter files\n",
    "First, we need to generate the parameter file! LROSE applications use the <code lang=\"bash\">-print_params</code> flag to generate parameter files with the defaults. We just need to specify the location and name of the parameter file. \n",
    "\n",
    "RadxHca requires 1 parameter file that sets variable names and file paths.\n",
    "\n",
    "<div class=\"alert alert-block alert-warning\"> <b>Cell Task: Create the RadxRate parameter files.</b> \n",
    "<br>\n",
    "Type the following commands into the open cell below and run it!\n",
    "<br>\n",
    "<code lang=\"bash\">!RadxHca -print_params > ${BASE_DIR}/params/nexrad_hca/RadxHca_params</code>\n",
    "</div>"
   ]
  },
  {
   "cell_type": "code",
   "execution_count": null,
   "id": "8dbb8964-ed41-4c93-8b02-867e9e972e62",
   "metadata": {},
   "outputs": [],
   "source": []
  },
  {
   "cell_type": "markdown",
   "id": "0c2eaf8a-9c9f-4e03-a595-e18c9f655a00",
   "metadata": {},
   "source": [
    "## 3.2 Fill out the RadxHca parameter file\n",
    "\n",
    "Now we will step through and edit the parameter file.\n",
    "\n",
    "First, we'll start with the parameters associated with the necessary file paths. Since we can link to the input files and output directory on the command line, we don't need to modify them here, but we've listed them for reference.\n",
    "\n",
    "| Parameter | Description |\n",
    "| --- | --- |\n",
    "|input_dir|Path to input data, if not already specified on the command line.|\n",
    "|output_dir|Path where output files are written, if not already specified on command line with -outdir.|\n"
   ]
  },
  {
   "cell_type": "markdown",
   "id": "27a78bcc-8283-4fe2-b706-a508235e1cef",
   "metadata": {},
   "source": [
    "---\n",
    "\n",
    "Next, we'll look at the raw file to find which variables are available and what the variable names are.\n",
    "\n",
    "| Parameter | Description |\n",
    "| --- | --- |\n",
    "|SNR_available|Specify if SNR is available.|\n",
    "|SNR_field_name|SNR variable name.|\n",
    "|DBZ_field_name|DBZ variable name.|\n",
    "|ZDR_field_name|ZDR variable name.|\n",
    "|PHIDP_field_name|PHIDP variable name.|\n",
    "|RHOHV_field_name|RHOHV variable name.|\n",
    "|LDR_available|Specify if LDR is available.|\n",
    "|LDR_field_name|LDR variable name.|\n",
    "\n",
    "<div class=\"alert alert-block alert-warning\"> <b>Cell Task: grab the variable names for SNR, DBZ, ZDR, PHIDP, RHOHV, and LDR (if present).</b> \n",
    "\n",
    "Examine the field names for SNR, DBZ, ZDR, PHIDP, RHOHV, and LDR, if the variables are present in the file.\n",
    "    \n",
    "We can use ncdump or RadxPrint to examine the variable names in our radar files. To reduce the application output, you can also pipe information to commands like <code lang=\"bash\">grep</code> or <code lang=\"bash\">head</code>. \n",
    " \n",
    "<i>Use **one** of the ncdump or RadxPrint commands below in the next Jupyter cell. If you prefer to run them in a terminal window, remove the \"!\" symbol, which is just for Jupyter notebooks.</i>\n",
    "\n",
    "<code lang=\"bash\">!ncdump -h ${RAW_DIR}/data/nexrad_hca/cfradial/cfrad*.nc </code>\n",
    "\n",
    "<code lang=\"bash\">!RadxPrint -f ${RAW_DIR}/data/nexrad_hca/cfradial/cfrad*.nc</code>\n",
    "\n",
    "Hint: NEXRAD often uses different field names than other radars.\n",
    "\n",
    "</div>"
   ]
  },
  {
   "cell_type": "code",
   "execution_count": null,
   "id": "0cf109e6-6342-4811-921a-d1e28498806e",
   "metadata": {},
   "outputs": [],
   "source": []
  },
  {
   "cell_type": "markdown",
   "id": "7a4c40b6-3937-4ea4-854b-97ad69747b89",
   "metadata": {},
   "source": [
    "<div class=\"alert alert-block alert-info\"> <b>File Task: modify the parameter file to specify the correct field names.</b> \n",
    "\n",
    "Use the output from the previous cell to fill out the following parameters. \n",
    "\n",
    "1. Specify whether spectrum width, normalized coherent power, signal to noise ratio, and linear depolarization ratio are available by setting <code lang=\"bash\">WIDTH_available</code>, <code lang=\"bash\">NCP_available</code>, <code lang=\"bash\">SNR_available</code>, <code lang=\"bash\">LDR_available</code> to <code lang=\"bash\">TRUE</code> or <code lang=\"bash\">FALSE</code>, depending on which is accurate.\n",
    "2. Add the variable names to <code lang=\"bash\">DBZ_field_name</code>, <code lang=\"bash\">VEL_field_name</code>, <code lang=\"bash\">WIDTH_field_name</code>, <code lang=\"bash\">ZDR_field_name</code>, <code lang=\"bash\">PHIDP_field_name</code>, and <code lang=\"bash\">RHOHV_field_name</code>.\n",
    "\n",
    "</div>"
   ]
  },
  {
   "cell_type": "markdown",
   "id": "ed70d76a-73d7-4c54-a5d1-bc07417a263f",
   "metadata": {},
   "source": [
    "    \n",
    "**KDP Parameters**\n",
    "\n",
    "Usually, the default settings for KDP calculation are fine, but two commonly modified parameters are the filter length and the method for handling phase shift on backscatter. For more information on the KDP calculation in LROSE, please refer to the [LROSE Wiki](http://wiki.lrose.net/index.php/KDP_estimation).\n",
    "\n",
    "| Parameter | Description |\n",
    "| --- | --- |\n",
    "|KDP_fir_filter_len|Filter length used for KDP calculation.|\n",
    "|KDP_psob_method|Specify method to remove phase shift on backscatter.|\n",
    "          \n",
    "We will use the defaults in this example, so no need to modify these in the parameter file."
   ]
  },
  {
   "cell_type": "markdown",
   "id": "c1fb8108-604f-45bd-b03f-fe977211b297",
   "metadata": {},
   "source": [
    "---\n",
    "\n",
    "RadxHca allows for use of attenuation-corrected fields in the HCA calculations. This is less of an issue with KCYS, which is an S-band radar, but it's good practice to account for attenutation in the HCA.\n",
    "\n",
    "| Parameter | Description |\n",
    "| --- | --- |\n",
    "|apply_precip_attenuation_correction|Specify whether to use attenuation-corrected DBZ and ZDR in HCA.|\n",
    "|specify_coefficients_for_attenuation_correction|Specify whether to use user-provided coefficients.|\n",
    "\n",
    "<div class=\"alert alert-block alert-info\"> <b>File Task: use attenuation-corrected fields.</b> \n",
    "\n",
    "1. In the RadxHca main parameter file (RadxHca_params), change <code lang=\"bash\">apply_precip_attenuation_correction = TRUE;</code>\n",
    "\n",
    "2. In the RadxHca main parameter file (RadxHca_params), change <code lang=\"bash\">specify_coefficients_for_attenuation_correction = FALSE;</code> to use the default coefficients for S-band.\n",
    "\n",
    "</div>"
   ]
  },
  {
   "cell_type": "markdown",
   "id": "84423b6f-1941-4b6a-b41a-d8958a37a419",
   "metadata": {},
   "source": [
    "**HCA and PID Parameters**\n",
    "\n",
    "The HCA fuzzy logic parameters are all listed within the main RadxHca_params file and the defaults are taken directly from Park et al. (2009), so they do not need to be modified. Since RadxHca can also run the NCAR PID algorithm, we will run that as well for comparison. For additional details on how to run the NCAR PID, please refer to our other tutorials: RadxRate_tutorial, SEAPOL_RadxRate_tutorial, and Guided_Echo_tutorial. \n",
    "\n",
    "The most important components of the PID algorithm are the PID thresholds file that sets the fuzzy logic relationships and a relevant sounding for estimating the melting level (i.e., distinguishing between liquid and frozen hydrometeors). For more information on the fuzzy logic method used in the NCAR PID algorithm, please refer to the [LROSE Wiki](http://wiki.lrose.net/index.php/RadxPid_fuzzylogic).\n",
    "\n",
    "The PID thresholds files, particularly for S-band radars, have been tested in many environments, so those are provided for users on the LROSE wiki.\n",
    "\n",
    "Soundings for the NCAR PID are either provided through 1) database files for each radar location and at a user-specified temporal frequency, or 2) a single sounding that is added to the PID thresholds file. Here, we will use the same soundings taken from the GFS analysis as in the NEXRAD HCA.\n",
    "\n",
    "| Parameter | Description |\n",
    "| --- | --- |\n",
    "|pid_thresholds_file_path|Path to fuzzy logic PID thresholds file.|\n",
    "|pid_override_temp_profile|Specify whether soundings are in Spdb format, otherwise sounding found in fuzzy logic file.|\n",
    "|sounding_spdb_url|Path to Spdb soundings.|\n",
    "|sounding_location_name|Name of sounding location.|\n",
    "\n",
    "We will use the Spdb sounding files that we created earlier in the tutorial.\n",
    "\n",
    "<div class=\"alert alert-block alert-warning\"> <b>Task: download and move the PID thresholds file.</b> \n",
    "\n",
    "1. Download the S-band PID thresholds file.\n",
    "\n",
    "<code lang=\"bash\">!wget http://wiki.lrose.net/images/d/de/Pid_thresholds.sband.shv.txt</code>\n",
    "\n",
    "2. Move the file to a better directory.\n",
    "\n",
    "<code lang=\"bash\">!mv ./Pid_thresholds.sband.shv.txt ${BASE_DIR}/params/nexrad_hca/</code>\n",
    "\n",
    "</div>"
   ]
  },
  {
   "cell_type": "code",
   "execution_count": null,
   "id": "d875e2ed-ee13-4ed4-a030-3323ae417739",
   "metadata": {},
   "outputs": [],
   "source": []
  },
  {
   "cell_type": "markdown",
   "id": "ea5cd4f4-bc36-445e-886c-73c1417fd8d1",
   "metadata": {},
   "source": [
    "<div class=\"alert alert-block alert-info\"> <b>Task: set up the sounding information and link to the PID thresholds file.</b> \n",
    "\n",
    "1. Add the new path of the thresholds file to the parameter file: change <code lang=\"bash\">pid_thresholds_file_path = \"$(BASE_DIR)/params/nexrad_hca/Pid_thresholds.sband.shv.txt\";</code>\n",
    "\n",
    "2. Use the SPDB sounding profiles extracted from the model: change <code lang=\"bash\">pid_override_temp_profile = TRUE;</code>\n",
    "\n",
    "3. Add the path to the SPDB soundings: change <code lang=\"bash\">sounding_spdb_url = \"$(BASE_DIR)/data/nexrad_hca/sounding/spdb\";</code>\n",
    "\n",
    "4. Specify the 4-letter code for the radar (KCYS) sounding location: change <code lang=\"bash\">sounding_location_name = \"KCYS\";</code>\n",
    "\n",
    "</div>"
   ]
  },
  {
   "cell_type": "markdown",
   "id": "d4d375fc-4540-4a1a-b005-5e8b533f0b25",
   "metadata": {},
   "source": [
    "---\n",
    "\n",
    "Finally, we'll specify the output variables.\n",
    "\n",
    "| Parameter | Description |\n",
    "| --- | --- |\n",
    "|output_fields|Set which output fields are written to the output files. The list of available output options are listed above the parameter.|\n",
    "\n",
    "Of the fields calculated in RadxHca, we'll write out KDP, HCA, PID, and the attenuation-corrected fields (DBZ_ATTEN_CORRECTED, ZDR_ATTEN_CORRECTED). We'll copy a few of the input fields to the output files as well. \n",
    "\n",
    "<div class=\"alert alert-block alert-info\"> <b>File Task: specify output fields.</b> \n",
    "    \n",
    "In the RadxHca_params parameter file, write HCA, PID, KDP, DBZ_ATTEN_CORRECTED, and ZDR_ATTEN_CORRECTED in the <code lang=\"bash\">output_fields</code> parameter. \n",
    "\n",
    "1. KDP is already included in the defaults, so no action needed for this variable.\n",
    "\n",
    "2. For DBZ_ATTEN_CORRECTED and ZDR_ATTEN_CORRECTED, feel free to copy the entries for DBZ and ZDR from the defaults. Just append \"\\_ATTEN_CORRECTED\" to the end of the <code lang=\"bash\">id</code> and <code lang=\"bash\">name</code> entries and \"atten_corrected_\" to the beginning of the <code lang=\"bash\">long_name</code> and <code lang=\"bash\">standard_name</code> entries.\n",
    "\n",
    "3. For HCA and PID, create new entries either manually or by copying other variables. The <code lang=\"bash\">id</code> and <code lang=\"bash\">name</code> entries for HCA are both HCA, whereas the <code lang=\"bash\">id</code> and <code lang=\"bash\">name</code> entries for PID are PARTICLE_ID and PID, respectively. Feel free to use hydrometeor_type for the <code lang=\"bash\">standard_name</code> entry for both variables. The <code lang=\"bash\">long_name</code> entries can be \"hydrometeor_classification\" and \"particle_id\".\n",
    "\n",
    "</div>\n"
   ]
  },
  {
   "cell_type": "markdown",
   "id": "46affae1-f9f0-4b86-95b8-839b19d52bbf",
   "metadata": {},
   "source": [
    "---\n",
    "\n",
    "**Now we can run RadxHca!**\n",
    "\n",
    "Here, *-params* provides the link to the main RadxHca parameter file, *-f* provides the link to the files we want to process, and *-outdir* indicates where RadxHca should write the final files."
   ]
  },
  {
   "cell_type": "code",
   "execution_count": null,
   "id": "b916ddf3-4e02-4350-ab71-102d40c3105f",
   "metadata": {
    "scrolled": true
   },
   "outputs": [],
   "source": [
    "!RadxHca -params ${BASE_DIR}/params/nexrad_hca/RadxHca_params -f ${BASE_DIR}/data/nexrad_hca/cfradial/20250617/*.nc -outdir ${BASE_DIR}/data/nexrad_hca/hca\n"
   ]
  },
  {
   "cell_type": "markdown",
   "id": "a5e6b9dd",
   "metadata": {},
   "source": [
    "# 4. Plot HCA and PID for NEXRAD Cheyenne radar (KCYS)"
   ]
  },
  {
   "cell_type": "markdown",
   "id": "ed3cd54b",
   "metadata": {},
   "source": [
    "To visualize the output in the notebook, we can use Py-ART. HawkEye is also great for visualizing data - a general parameter file can be found in the echo parameter files directory."
   ]
  },
  {
   "cell_type": "code",
   "execution_count": null,
   "id": "21f8399d",
   "metadata": {
    "scrolled": true,
    "tags": []
   },
   "outputs": [],
   "source": [
    "# Read CfRadial file into radar object\n",
    "inDir = base_dir+\"/data/nexrad_hca/hca/20250617/\"\n",
    "file = \"cfrad.20250617_082327.974_to_20250617_083013.086_KCYS_SUR.nc\"\n",
    "rate_kcys = pyart.io.read_cfradial(inDir+file)\n",
    "rate_kcys.info('compact')\n"
   ]
  },
  {
   "cell_type": "markdown",
   "id": "3062b424",
   "metadata": {},
   "source": [
    "We can create a colormap for visualizing HCA and PID."
   ]
  },
  {
   "cell_type": "code",
   "execution_count": null,
   "id": "dd207f99",
   "metadata": {},
   "outputs": [],
   "source": [
    "#(17,15,10,11,12,9,6,4,5,7)\n",
    "\n",
    "hcamap = np.array([[0.0, 0.0, 0.0, 1.0],\n",
    "              [0.66015625, 0.66015625, 0.66015625, 1.0],\n",
    "              [0.61960784313725492, 0.85490196078431369, 0.89803921568627454, 1.0],\n",
    "              [0.090196078431372548, 0.74509803921568629, 0.81176470588235294, 1.0],\n",
    "              [0.61176470588235299, 0.61960784313725492, 0.87058823529411766, 1.0],\n",
    "              [1.0, 0.73333333333333328, 0.47058823529411764, 1.0],\n",
    "              [0.83921568627450982, 0.15294117647058825, 0.15686274509803921, 1.0],\n",
    "              [0.45490196078431372, 0.7686274509803922, 0.46274509803921571, 1.0],\n",
    "              [0.17254901960784313, 0.62745098039215685, 0.17254901960784313, 1.0],\n",
    "              [1.0, 0.59607843137254901, 0.58823529411764708, 1.0],],'f')\n",
    "my_cmap3 = colors.ListedColormap(hcamap, name='nexrad_hca')\n",
    "\n",
    "\n",
    "pidmap = np.array([[0.12156862745098039, 0.46666666666666667, 0.70588235294117652, 1.0],\n",
    "              [0.68235294117647061, 0.7803921568627451, 0.90980392156862744, 1.0],\n",
    "              [0.59607843137254901, 0.87450980392156863, 0.54117647058823526, 1.0],\n",
    "              [0.45490196078431372, 0.7686274509803922, 0.46274509803921571, 1.0],\n",
    "              [0.17254901960784313, 0.62745098039215685, 0.17254901960784313, 1.0],\n",
    "              [0.83921568627450982, 0.15294117647058825, 0.15686274509803921, 1.0],\n",
    "              [1.0, 0.59607843137254901, 0.58823529411764708, 1.0],\n",
    "              [1.0, 0.49803921568627452, 0.054901960784313725, 1.0],\n",
    "              [1.0, 0.73333333333333328, 0.47058823529411764, 1.0],\n",
    "              [0.61960784313725492, 0.85490196078431369, 0.89803921568627454, 1.0],\n",
    "              [0.090196078431372548, 0.74509803921568629, 0.81176470588235294, 1.0],\n",
    "              [0.61176470588235299, 0.61960784313725492, 0.87058823529411766, 1.0],\n",
    "              [0.32156862745098042, 0.32941176470588235, 0.63921568627450975, 1.0],\n",
    "              [0.859375, 0.859375, 0.859375, 1.0],\n",
    "              [0.66015625, 0.66015625, 0.66015625, 1.0],\n",
    "              [0.41015625, 0.41015625, 0.41015625, 1.0],\n",
    "              [0.0, 0.0, 0.0, 1.0],],'f')\n",
    "my_cmap2 = colors.ListedColormap(pidmap, name='ncar_pid')\n"
   ]
  },
  {
   "cell_type": "code",
   "execution_count": null,
   "id": "81e490c2",
   "metadata": {},
   "outputs": [],
   "source": [
    "# Plot results of RadxRate\n",
    "\n",
    "displayRate = pyart.graph.RadarDisplay(rate_kcys)\n",
    "figRate = plt.figure(1, (12, 10))\n",
    "\n",
    "# DBZ (input)\n",
    "\n",
    "axDbz = figRate.add_subplot(221)\n",
    "displayRate.plot_ppi('DBZ', 0, vmin=-32, vmax=64.,\n",
    "                    axislabels=(\"x(km)\", \"y(km)\"),\n",
    "                    colorbar_label=\"DBZ\")\n",
    "displayRate.plot_range_rings([50, 100, 150, 200, 250])\n",
    "displayRate.plot_cross_hair(250.)\n",
    "displayRate.set_limits(xlim=(-300,300),ylim=(-300,300))\n",
    "\n",
    "# KDP (computed)\n",
    "\n",
    "axKdp = figRate.add_subplot(222)\n",
    "displayRate.plot_ppi('KDP', 0, vmin=0, vmax=2.,\n",
    "    axislabels=(\"x(km)\", \"y(km)\"),\n",
    "    colorbar_label=\"KDP (deg/km)\",\n",
    "    cmap=\"nipy_spectral\")\n",
    "displayRate.plot_range_rings([50, 100, 150, 200, 250])\n",
    "displayRate.plot_cross_hair(250.)\n",
    "displayRate.set_limits(xlim=(-300,300),ylim=(-300,300))\n",
    "\n",
    "# RATE_HYBRID (computed)\n",
    "\n",
    "axHybrid = figRate.add_subplot(223)\n",
    "displayRate.plot_ppi('HCA', 0, vmin=0.5, vmax=10.5,\n",
    "    axislabels=(\"x(km)\", \"y(km)\"),\n",
    "    colorbar_label=\"HCA\",\n",
    "    cmap = my_cmap3)\n",
    "displayRate.plot_range_rings([50, 100, 150, 200, 250])\n",
    "displayRate.plot_cross_hair(250.)\n",
    "displayRate.set_limits(xlim=(-300,300),ylim=(-300,300))\n",
    "\n",
    "# NCAR PID (computed)\n",
    "\n",
    "axPID = figRate.add_subplot(224)\n",
    "displayRate.plot_ppi('PID', 0, vmin=0.5, vmax = 17.5,\n",
    "    axislabels=(\"x(km)\", \"y(km)\"),\n",
    "    colorbar_label=\"PID\",\n",
    "    cmap = my_cmap2, mask_outside=True)\n",
    "displayRate.plot_range_rings([50, 100, 150, 200, 250])\n",
    "displayRate.plot_cross_hair(250.)\n",
    "displayRate.set_limits(xlim=(-300,300),ylim=(-300,300))\n",
    "\n",
    "# plot all 17 PID categories\n",
    "hca_cbar = displayRate.cbs[2]\n",
    "hca_cbar.set_ticks([1,2,3,4,5,6,7,8,9,10])\n",
    "# (17,15,10,11,12,9,6,4,5,7)\n",
    "hca_cbar.set_ticklabels(['clutter', 'biological', 'dry-snow', 'wet-snow', 'crystals', 'graupel', 'big-drops', 'lt-mod-rain', 'hvy-rain', 'rain/hail'])\n",
    "\n",
    "pid_cbar = displayRate.cbs[3]\n",
    "#pid_cbar.set_ticks([1,2,3,4,5,6,7,8,9,10,11,12,13])\n",
    "#pid_cbar.set_ticklabels(['cld-drops', 'drizzle', 'lt-rain', 'mod-rain', 'hvy-rain', 'hail', 'rain/hail', 'sm-hail', 'gr/rain', 'dry-snow', 'wet-snow', 'ice', 'irreg-ice'])\n",
    "pid_cbar.set_ticks([1,2,3,4,5,6,7,8,9,10,11,12,13,14,15,16,17])\n",
    "pid_cbar.set_ticklabels(['cld-drops', 'drizzle', 'lt-rain', 'mod-rain', 'hvy-rain', 'hail', 'rain/hail', 'sm-hail', 'gr/rain', 'dry-snow', 'wet-snow', 'ice', 'irreg-ice', 'slw', 'insects', '2nd-trip', 'clutter'])\n",
    "\n",
    "figRate.tight_layout()\n",
    "\n",
    "plt.show()\n"
   ]
  },
  {
   "cell_type": "markdown",
   "id": "724e0cd8-4310-41e4-8510-4826a5c0d9d2",
   "metadata": {},
   "source": [
    "Next, we'll remake the same plot with the attenuation-corrected DBZ field."
   ]
  },
  {
   "cell_type": "code",
   "execution_count": null,
   "id": "90bf7927-8c91-41e7-992f-451cabff5083",
   "metadata": {},
   "outputs": [],
   "source": [
    "# Plot results of RadxRate, \n",
    "\n",
    "displayRate = pyart.graph.RadarDisplay(rate_kcys)\n",
    "figRate = plt.figure(1, (12, 10))\n",
    "\n",
    "# DBZ (input)\n",
    "\n",
    "axDbz = figRate.add_subplot(221)\n",
    "displayRate.plot_ppi('DBZ_ATTEN_CORRECTED', 0, vmin=-32, vmax=64.,\n",
    "                    axislabels=(\"x(km)\", \"y(km)\"),\n",
    "                    colorbar_label=\"Attenuation-Corrected DBZ\")\n",
    "displayRate.plot_range_rings([50, 100, 150, 200, 250])\n",
    "displayRate.plot_cross_hair(250.)\n",
    "displayRate.set_limits(xlim=(-300,300),ylim=(-300,300))\n",
    "\n",
    "# KDP (computed)\n",
    "\n",
    "axKdp = figRate.add_subplot(222)\n",
    "displayRate.plot_ppi('KDP', 0, vmin=0, vmax=2.,\n",
    "    axislabels=(\"x(km)\", \"y(km)\"),\n",
    "    colorbar_label=\"KDP (deg/km)\",\n",
    "    cmap=\"nipy_spectral\")\n",
    "displayRate.plot_range_rings([50, 100, 150, 200, 250])\n",
    "displayRate.plot_cross_hair(250.)\n",
    "displayRate.set_limits(xlim=(-300,300),ylim=(-300,300))\n",
    "\n",
    "# RATE_HYBRID (computed)\n",
    "\n",
    "axHybrid = figRate.add_subplot(223)\n",
    "displayRate.plot_ppi('HCA', 0, vmin=0.5, vmax=10.5,\n",
    "    axislabels=(\"x(km)\", \"y(km)\"),\n",
    "    colorbar_label=\"HCA\",\n",
    "    cmap = my_cmap3)\n",
    "displayRate.plot_range_rings([50, 100, 150, 200, 250])\n",
    "displayRate.plot_cross_hair(250.)\n",
    "displayRate.set_limits(xlim=(-300,300),ylim=(-300,300))\n",
    "\n",
    "# NCAR PID (computed)\n",
    "\n",
    "axPID = figRate.add_subplot(224)\n",
    "displayRate.plot_ppi('PID', 0, vmin=0.5, vmax = 17.5,\n",
    "    axislabels=(\"x(km)\", \"y(km)\"),\n",
    "    colorbar_label=\"PID\",\n",
    "    cmap = my_cmap2, mask_outside=True)\n",
    "displayRate.plot_range_rings([50, 100, 150, 200, 250])\n",
    "displayRate.plot_cross_hair(250.)\n",
    "displayRate.set_limits(xlim=(-300,300),ylim=(-300,300))\n",
    "\n",
    "# plot all 17 PID categories\n",
    "pid_cbar = displayRate.cbs[3]\n",
    "#pid_cbar.set_ticks([1,2,3,4,5,6,7,8,9,10,11,12,13])\n",
    "#pid_cbar.set_ticklabels(['cld-drops', 'drizzle', 'lt-rain', 'mod-rain', 'hvy-rain', 'hail', 'rain/hail', 'sm-hail', 'gr/rain', 'dry-snow', 'wet-snow', 'ice', 'irreg-ice'])\n",
    "pid_cbar.set_ticks([1,2,3,4,5,6,7,8,9,10,11,12,13,14,15,16,17])\n",
    "pid_cbar.set_ticklabels(['cld-drops', 'drizzle', 'lt-rain', 'mod-rain', 'hvy-rain', 'hail', 'rain/hail', 'sm-hail', 'gr/rain', 'dry-snow', 'wet-snow', 'ice', 'irreg-ice', 'slw', 'insects', '2nd-trip', 'clutter'])\n",
    "\n",
    "figRate.tight_layout()\n",
    "\n",
    "plt.show()\n"
   ]
  },
  {
   "cell_type": "code",
   "execution_count": null,
   "id": "6ad9d0f7-d3b6-4d3c-9bc9-e2a2ff5424ec",
   "metadata": {},
   "outputs": [],
   "source": []
  }
 ],
 "metadata": {
  "kernelspec": {
   "display_name": "Python 3 (ipykernel)",
   "language": "python",
   "name": "python3"
  },
  "language_info": {
   "codemirror_mode": {
    "name": "ipython",
    "version": 3
   },
   "file_extension": ".py",
   "mimetype": "text/x-python",
   "name": "python",
   "nbconvert_exporter": "python",
   "pygments_lexer": "ipython3",
   "version": "3.12.8"
  }
 },
 "nbformat": 4,
 "nbformat_minor": 5
}
